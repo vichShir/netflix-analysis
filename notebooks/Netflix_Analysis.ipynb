{
  "nbformat": 4,
  "nbformat_minor": 0,
  "metadata": {
    "colab": {
      "name": "Netflix_Analysis.ipynb",
      "provenance": [],
      "collapsed_sections": []
    },
    "kernelspec": {
      "name": "python3",
      "display_name": "Python 3"
    },
    "language_info": {
      "name": "python"
    }
  },
  "cells": [
    {
      "cell_type": "markdown",
      "source": [
        "# Importa as bibliotecas da aplicação"
      ],
      "metadata": {
        "id": "GZdf6UQFmWBc"
      }
    },
    {
      "cell_type": "code",
      "execution_count": 1,
      "metadata": {
        "colab": {
          "base_uri": "https://localhost:8080/"
        },
        "id": "4ZF-bp8tmKrU",
        "outputId": "6a4e6ce7-a4e7-4d73-c420-10dd63bc39c7"
      },
      "outputs": [
        {
          "output_type": "stream",
          "name": "stdout",
          "text": [
            "Collecting pyspark\n",
            "  Downloading pyspark-3.2.1.tar.gz (281.4 MB)\n",
            "\u001b[K     |████████████████████████████████| 281.4 MB 36 kB/s \n",
            "\u001b[?25hCollecting py4j==0.10.9.3\n",
            "  Downloading py4j-0.10.9.3-py2.py3-none-any.whl (198 kB)\n",
            "\u001b[K     |████████████████████████████████| 198 kB 65.5 MB/s \n",
            "\u001b[?25hBuilding wheels for collected packages: pyspark\n",
            "  Building wheel for pyspark (setup.py) ... \u001b[?25l\u001b[?25hdone\n",
            "  Created wheel for pyspark: filename=pyspark-3.2.1-py2.py3-none-any.whl size=281853642 sha256=5bb18edd68bbc1a4cef7ea7dd4bd1137d723ad19dd8f4708e56cccf30d2be858\n",
            "  Stored in directory: /root/.cache/pip/wheels/9f/f5/07/7cd8017084dce4e93e84e92efd1e1d5334db05f2e83bcef74f\n",
            "Successfully built pyspark\n",
            "Installing collected packages: py4j, pyspark\n",
            "Successfully installed py4j-0.10.9.3 pyspark-3.2.1\n"
          ]
        }
      ],
      "source": [
        "!pip install pyspark"
      ]
    },
    {
      "cell_type": "code",
      "source": [
        "import sys\n",
        "\n",
        "from IPython.display import display\n",
        "from pyspark.conf import SparkConf\n",
        "from pyspark.sql import SparkSession\n",
        "from pyspark.context import SparkContext\n",
        "\n",
        "from IPython.display import HTML, display\n",
        "import tabulate\n",
        "\n",
        "import pandas as pd\n",
        "import numpy as np\n",
        "import re\n",
        "\n",
        "pd.options.display.max_colwidth = 100\n",
        "pd.set_option('display.max_rows', None)"
      ],
      "metadata": {
        "id": "ATv7AiE9mYH7"
      },
      "execution_count": 49,
      "outputs": []
    },
    {
      "cell_type": "markdown",
      "source": [
        "# Configura o ambiente de execução do Apache Spark"
      ],
      "metadata": {
        "id": "beLH-TvImcrT"
      }
    },
    {
      "cell_type": "code",
      "source": [
        "spark = SparkSession \\\n",
        "        .builder \\\n",
        "        .master(\"local[2]\") \\\n",
        "        .appName(\"Netflix Analysis\") \\\n",
        "        .config(\"spark.executor.cores\", \"2\") \\\n",
        "        .config(\"spark.executor.memory\", \"2g\") \\\n",
        "        .config(\"spark.cores.max\", \"4\") \\\n",
        "        .getOrCreate()"
      ],
      "metadata": {
        "id": "N6dEl90_mazn"
      },
      "execution_count": 3,
      "outputs": []
    },
    {
      "cell_type": "markdown",
      "source": [
        "# Realiza a leituras dos dados"
      ],
      "metadata": {
        "id": "W42QLeggmrPH"
      }
    },
    {
      "cell_type": "code",
      "source": [
        "!wget https://datasets.imdbws.com/title.akas.tsv.gz"
      ],
      "metadata": {
        "colab": {
          "base_uri": "https://localhost:8080/"
        },
        "id": "8u5YAkDympeD",
        "outputId": "3989fbbc-ece3-48aa-abc8-994ead81480d"
      },
      "execution_count": 4,
      "outputs": [
        {
          "output_type": "stream",
          "name": "stdout",
          "text": [
            "--2022-03-07 17:10:43--  https://datasets.imdbws.com/title.akas.tsv.gz\n",
            "Resolving datasets.imdbws.com (datasets.imdbws.com)... 54.192.192.56, 54.192.192.79, 54.192.192.60, ...\n",
            "Connecting to datasets.imdbws.com (datasets.imdbws.com)|54.192.192.56|:443... connected.\n",
            "HTTP request sent, awaiting response... 200 OK\n",
            "Length: 265284746 (253M) [binary/octet-stream]\n",
            "Saving to: ‘title.akas.tsv.gz’\n",
            "\n",
            "title.akas.tsv.gz   100%[===================>] 253.00M  70.6MB/s    in 3.6s    \n",
            "\n",
            "2022-03-07 17:10:47 (70.2 MB/s) - ‘title.akas.tsv.gz’ saved [265284746/265284746]\n",
            "\n"
          ]
        }
      ]
    },
    {
      "cell_type": "code",
      "source": [
        "!wget https://datasets.imdbws.com/title.ratings.tsv.gz"
      ],
      "metadata": {
        "colab": {
          "base_uri": "https://localhost:8080/"
        },
        "id": "lBONeGr3rtp9",
        "outputId": "294c9a3d-0eb2-4f2d-cbd9-1d24c93771f3"
      },
      "execution_count": 5,
      "outputs": [
        {
          "output_type": "stream",
          "name": "stdout",
          "text": [
            "--2022-03-07 17:10:47--  https://datasets.imdbws.com/title.ratings.tsv.gz\n",
            "Resolving datasets.imdbws.com (datasets.imdbws.com)... 54.192.192.56, 54.192.192.79, 54.192.192.60, ...\n",
            "Connecting to datasets.imdbws.com (datasets.imdbws.com)|54.192.192.56|:443... connected.\n",
            "HTTP request sent, awaiting response... 200 OK\n",
            "Length: 6093109 (5.8M) [binary/octet-stream]\n",
            "Saving to: ‘title.ratings.tsv.gz’\n",
            "\n",
            "title.ratings.tsv.g 100%[===================>]   5.81M  --.-KB/s    in 0.08s   \n",
            "\n",
            "2022-03-07 17:10:47 (68.6 MB/s) - ‘title.ratings.tsv.gz’ saved [6093109/6093109]\n",
            "\n"
          ]
        }
      ]
    },
    {
      "cell_type": "code",
      "source": [
        "!wget https://datasets.imdbws.com/title.basics.tsv.gz"
      ],
      "metadata": {
        "colab": {
          "base_uri": "https://localhost:8080/"
        },
        "id": "JIKITDoG61aY",
        "outputId": "a4c1ca34-4ba3-4f17-bfbb-5a2c36cd78b2"
      },
      "execution_count": 6,
      "outputs": [
        {
          "output_type": "stream",
          "name": "stdout",
          "text": [
            "--2022-03-07 17:10:47--  https://datasets.imdbws.com/title.basics.tsv.gz\n",
            "Resolving datasets.imdbws.com (datasets.imdbws.com)... 54.192.192.56, 54.192.192.79, 54.192.192.60, ...\n",
            "Connecting to datasets.imdbws.com (datasets.imdbws.com)|54.192.192.56|:443... connected.\n",
            "HTTP request sent, awaiting response... 200 OK\n",
            "Length: 153141258 (146M) [binary/octet-stream]\n",
            "Saving to: ‘title.basics.tsv.gz’\n",
            "\n",
            "title.basics.tsv.gz 100%[===================>] 146.05M  62.1MB/s    in 2.4s    \n",
            "\n",
            "2022-03-07 17:10:50 (62.1 MB/s) - ‘title.basics.tsv.gz’ saved [153141258/153141258]\n",
            "\n"
          ]
        }
      ]
    },
    {
      "cell_type": "code",
      "source": [
        "!wget https://datasets.imdbws.com/title.episode.tsv.gz"
      ],
      "metadata": {
        "colab": {
          "base_uri": "https://localhost:8080/"
        },
        "id": "kE0wrM7L9BVK",
        "outputId": "98be649a-d1e1-4857-b569-d5eca516d928"
      },
      "execution_count": 7,
      "outputs": [
        {
          "output_type": "stream",
          "name": "stdout",
          "text": [
            "--2022-03-07 17:10:50--  https://datasets.imdbws.com/title.episode.tsv.gz\n",
            "Resolving datasets.imdbws.com (datasets.imdbws.com)... 54.192.192.79, 54.192.192.11, 54.192.192.56, ...\n",
            "Connecting to datasets.imdbws.com (datasets.imdbws.com)|54.192.192.79|:443... connected.\n",
            "HTTP request sent, awaiting response... 200 OK\n",
            "Length: 35526565 (34M) [binary/octet-stream]\n",
            "Saving to: ‘title.episode.tsv.gz’\n",
            "\n",
            "title.episode.tsv.g 100%[===================>]  33.88M  42.2MB/s    in 0.8s    \n",
            "\n",
            "2022-03-07 17:10:51 (42.2 MB/s) - ‘title.episode.tsv.gz’ saved [35526565/35526565]\n",
            "\n"
          ]
        }
      ]
    },
    {
      "cell_type": "code",
      "source": [
        "!gzip -d title.akas.tsv.gz"
      ],
      "metadata": {
        "id": "bE4I14L2nL_y"
      },
      "execution_count": 8,
      "outputs": []
    },
    {
      "cell_type": "code",
      "source": [
        "!gzip -d title.ratings.tsv.gz"
      ],
      "metadata": {
        "id": "eSgvpEAlr16U"
      },
      "execution_count": 9,
      "outputs": []
    },
    {
      "cell_type": "code",
      "source": [
        "!gzip -d title.basics.tsv.gz"
      ],
      "metadata": {
        "id": "vRTU-tUB7lqU"
      },
      "execution_count": 10,
      "outputs": []
    },
    {
      "cell_type": "code",
      "source": [
        "!gzip -d title.episode.tsv.gz"
      ],
      "metadata": {
        "id": "FDckIQ_G9EpS"
      },
      "execution_count": 11,
      "outputs": []
    },
    {
      "cell_type": "code",
      "source": [
        "!ls"
      ],
      "metadata": {
        "colab": {
          "base_uri": "https://localhost:8080/"
        },
        "id": "ffFbmNf6nTAi",
        "outputId": "4fd54fad-3596-4aa9-bc59-d36a4f56dfa6"
      },
      "execution_count": 12,
      "outputs": [
        {
          "output_type": "stream",
          "name": "stdout",
          "text": [
            "sample_data\ttitle.basics.tsv   title.ratings.tsv\n",
            "title.akas.tsv\ttitle.episode.tsv\n"
          ]
        }
      ]
    },
    {
      "cell_type": "code",
      "source": [
        "# IMDb Title Akas DataFrame\n",
        "akas_df = spark.read.options(delimiter='\\t').option(\"header\", True).csv(\"/content/title.akas.tsv\")"
      ],
      "metadata": {
        "id": "De0XUWN8m6NP"
      },
      "execution_count": 13,
      "outputs": []
    },
    {
      "cell_type": "code",
      "source": [
        "# IMDb Title Ratings DataFrame\n",
        "ratings_df = spark.read.options(delimiter='\\t').option(\"header\", True).csv(\"/content/title.ratings.tsv\")"
      ],
      "metadata": {
        "id": "LKVr6AKer6-Y"
      },
      "execution_count": 14,
      "outputs": []
    },
    {
      "cell_type": "code",
      "source": [
        "# IMDb Title Basics DataFrame\n",
        "basics_df = spark.read.options(delimiter='\\t').option(\"header\", True).csv(\"/content/title.basics.tsv\")"
      ],
      "metadata": {
        "id": "O9HX5BDz74cY"
      },
      "execution_count": 15,
      "outputs": []
    },
    {
      "cell_type": "code",
      "source": [
        "# IMDb Title Episode DataFrame\n",
        "episode_df = spark.read.options(delimiter='\\t').option(\"header\", True).csv(\"/content/title.episode.tsv\")"
      ],
      "metadata": {
        "id": "b5QyrQJf9JjX"
      },
      "execution_count": 16,
      "outputs": []
    },
    {
      "cell_type": "code",
      "source": [
        "# Netflix Streaming History DataFrame\n",
        "netflix_df = pd.read_csv('https://raw.githubusercontent.com/vichShir/netflix-analysis/master/data/NetflixViewingHistory2022.csv')"
      ],
      "metadata": {
        "id": "wjFUkKPZ-0Q1"
      },
      "execution_count": 17,
      "outputs": []
    },
    {
      "cell_type": "markdown",
      "source": [
        "# Confere a estrutura dos dados"
      ],
      "metadata": {
        "id": "tSLdRxJW5e7D"
      }
    },
    {
      "cell_type": "code",
      "source": [
        "print(type(akas_df))\n",
        "print(type(ratings_df))\n",
        "print(type(basics_df))\n",
        "print(type(episode_df))"
      ],
      "metadata": {
        "colab": {
          "base_uri": "https://localhost:8080/"
        },
        "id": "LobsFDMynpgQ",
        "outputId": "be84ce00-b167-46ca-f6af-0eccdb13d16a"
      },
      "execution_count": 18,
      "outputs": [
        {
          "output_type": "stream",
          "name": "stdout",
          "text": [
            "<class 'pyspark.sql.dataframe.DataFrame'>\n",
            "<class 'pyspark.sql.dataframe.DataFrame'>\n",
            "<class 'pyspark.sql.dataframe.DataFrame'>\n",
            "<class 'pyspark.sql.dataframe.DataFrame'>\n"
          ]
        }
      ]
    },
    {
      "cell_type": "code",
      "source": [
        "akas_df.printSchema()"
      ],
      "metadata": {
        "colab": {
          "base_uri": "https://localhost:8080/"
        },
        "id": "l5wO9u0Dnrlb",
        "outputId": "579545b7-9d2b-4918-bc2b-e218ea798df8"
      },
      "execution_count": 19,
      "outputs": [
        {
          "output_type": "stream",
          "name": "stdout",
          "text": [
            "root\n",
            " |-- titleId: string (nullable = true)\n",
            " |-- ordering: string (nullable = true)\n",
            " |-- title: string (nullable = true)\n",
            " |-- region: string (nullable = true)\n",
            " |-- language: string (nullable = true)\n",
            " |-- types: string (nullable = true)\n",
            " |-- attributes: string (nullable = true)\n",
            " |-- isOriginalTitle: string (nullable = true)\n",
            "\n"
          ]
        }
      ]
    },
    {
      "cell_type": "code",
      "source": [
        "print(f'DataFrame Title Akas tem {akas_df.count()} linhas.')"
      ],
      "metadata": {
        "colab": {
          "base_uri": "https://localhost:8080/"
        },
        "id": "YJng8SMvddAK",
        "outputId": "d25d0b38-3434-4214-bdb1-183d9d46615f"
      },
      "execution_count": 58,
      "outputs": [
        {
          "output_type": "stream",
          "name": "stdout",
          "text": [
            "DataFrame Title Akas tem 31268700 linhas.\n"
          ]
        }
      ]
    },
    {
      "cell_type": "code",
      "source": [
        "ratings_df.printSchema()"
      ],
      "metadata": {
        "colab": {
          "base_uri": "https://localhost:8080/"
        },
        "id": "eMOxBrWrsBot",
        "outputId": "7ddea3c1-8130-41d9-ec19-5d5ed2a27c93"
      },
      "execution_count": 20,
      "outputs": [
        {
          "output_type": "stream",
          "name": "stdout",
          "text": [
            "root\n",
            " |-- tconst: string (nullable = true)\n",
            " |-- averageRating: string (nullable = true)\n",
            " |-- numVotes: string (nullable = true)\n",
            "\n"
          ]
        }
      ]
    },
    {
      "cell_type": "code",
      "source": [
        "print(f'DataFrame Title Ratings tem {ratings_df.count()} linhas.')"
      ],
      "metadata": {
        "colab": {
          "base_uri": "https://localhost:8080/"
        },
        "id": "ST2uJidxdmf_",
        "outputId": "8edeae2b-5105-4061-d42f-0cb9e39d4739"
      },
      "execution_count": 59,
      "outputs": [
        {
          "output_type": "stream",
          "name": "stdout",
          "text": [
            "DataFrame Title Ratings tem 1221334 linhas.\n"
          ]
        }
      ]
    },
    {
      "cell_type": "code",
      "source": [
        "basics_df.printSchema()"
      ],
      "metadata": {
        "colab": {
          "base_uri": "https://localhost:8080/"
        },
        "id": "W6qK1L_g8EIo",
        "outputId": "7626b92b-c5a9-4712-d5c0-37ae0d316193"
      },
      "execution_count": 21,
      "outputs": [
        {
          "output_type": "stream",
          "name": "stdout",
          "text": [
            "root\n",
            " |-- tconst: string (nullable = true)\n",
            " |-- titleType: string (nullable = true)\n",
            " |-- primaryTitle: string (nullable = true)\n",
            " |-- originalTitle: string (nullable = true)\n",
            " |-- isAdult: string (nullable = true)\n",
            " |-- startYear: string (nullable = true)\n",
            " |-- endYear: string (nullable = true)\n",
            " |-- runtimeMinutes: string (nullable = true)\n",
            " |-- genres: string (nullable = true)\n",
            "\n"
          ]
        }
      ]
    },
    {
      "cell_type": "code",
      "source": [
        "print(f'DataFrame Title Basics tem {basics_df.count()} linhas.')"
      ],
      "metadata": {
        "colab": {
          "base_uri": "https://localhost:8080/"
        },
        "id": "PSwl9EzgdpMl",
        "outputId": "f05e3b21-6bfc-43c6-8856-869763d36441"
      },
      "execution_count": 60,
      "outputs": [
        {
          "output_type": "stream",
          "name": "stdout",
          "text": [
            "DataFrame Title Basics tem 8749012 linhas.\n"
          ]
        }
      ]
    },
    {
      "cell_type": "code",
      "source": [
        "episode_df.printSchema()"
      ],
      "metadata": {
        "colab": {
          "base_uri": "https://localhost:8080/"
        },
        "id": "a57Tr01G9QuZ",
        "outputId": "a914a73e-1e5d-4501-acaf-eae1a2e9f0b6"
      },
      "execution_count": 22,
      "outputs": [
        {
          "output_type": "stream",
          "name": "stdout",
          "text": [
            "root\n",
            " |-- tconst: string (nullable = true)\n",
            " |-- parentTconst: string (nullable = true)\n",
            " |-- seasonNumber: string (nullable = true)\n",
            " |-- episodeNumber: string (nullable = true)\n",
            "\n"
          ]
        }
      ]
    },
    {
      "cell_type": "code",
      "source": [
        "print(f'DataFrame Title Episode tem {episode_df.count()} linhas.')"
      ],
      "metadata": {
        "colab": {
          "base_uri": "https://localhost:8080/"
        },
        "id": "0eAfRVwAds77",
        "outputId": "12733342-f8cb-4aa7-f320-816b5724ff34"
      },
      "execution_count": 61,
      "outputs": [
        {
          "output_type": "stream",
          "name": "stdout",
          "text": [
            "DataFrame Title Episode tem 6552731 linhas.\n"
          ]
        }
      ]
    },
    {
      "cell_type": "code",
      "source": [
        "netflix_df.info()"
      ],
      "metadata": {
        "colab": {
          "base_uri": "https://localhost:8080/"
        },
        "id": "pbI8xQNEAGmv",
        "outputId": "4bc4d7dd-9013-42e2-dab6-d56454fd7065"
      },
      "execution_count": 23,
      "outputs": [
        {
          "output_type": "stream",
          "name": "stdout",
          "text": [
            "<class 'pandas.core.frame.DataFrame'>\n",
            "RangeIndex: 450 entries, 0 to 449\n",
            "Data columns (total 2 columns):\n",
            " #   Column  Non-Null Count  Dtype \n",
            "---  ------  --------------  ----- \n",
            " 0   Title   450 non-null    object\n",
            " 1   Date    450 non-null    object\n",
            "dtypes: object(2)\n",
            "memory usage: 7.2+ KB\n"
          ]
        }
      ]
    },
    {
      "cell_type": "code",
      "source": [
        "sum(netflix_df.duplicated())"
      ],
      "metadata": {
        "colab": {
          "base_uri": "https://localhost:8080/"
        },
        "id": "Qd2MyDVpABO6",
        "outputId": "9b8ff07a-6783-492f-c8ad-ab9eefd6c6dc"
      },
      "execution_count": 24,
      "outputs": [
        {
          "output_type": "execute_result",
          "data": {
            "text/plain": [
              "0"
            ]
          },
          "metadata": {},
          "execution_count": 24
        }
      ]
    },
    {
      "cell_type": "markdown",
      "source": [
        "# Pré-visualização dos dados"
      ],
      "metadata": {
        "id": "AQ4SO8LX5x4Y"
      }
    },
    {
      "cell_type": "code",
      "source": [
        "# IMDb Title Akas DataFrame\n",
        "display(akas_df.limit(5).toPandas())"
      ],
      "metadata": {
        "colab": {
          "base_uri": "https://localhost:8080/",
          "height": 206
        },
        "id": "aTh8mXZKnxRP",
        "outputId": "365f8edb-9a67-4c91-92e2-f7f86410b88a"
      },
      "execution_count": 25,
      "outputs": [
        {
          "output_type": "display_data",
          "data": {
            "text/html": [
              "\n",
              "  <div id=\"df-197d617c-6e08-4fe4-924a-2b8020c602ac\">\n",
              "    <div class=\"colab-df-container\">\n",
              "      <div>\n",
              "<style scoped>\n",
              "    .dataframe tbody tr th:only-of-type {\n",
              "        vertical-align: middle;\n",
              "    }\n",
              "\n",
              "    .dataframe tbody tr th {\n",
              "        vertical-align: top;\n",
              "    }\n",
              "\n",
              "    .dataframe thead th {\n",
              "        text-align: right;\n",
              "    }\n",
              "</style>\n",
              "<table border=\"1\" class=\"dataframe\">\n",
              "  <thead>\n",
              "    <tr style=\"text-align: right;\">\n",
              "      <th></th>\n",
              "      <th>titleId</th>\n",
              "      <th>ordering</th>\n",
              "      <th>title</th>\n",
              "      <th>region</th>\n",
              "      <th>language</th>\n",
              "      <th>types</th>\n",
              "      <th>attributes</th>\n",
              "      <th>isOriginalTitle</th>\n",
              "    </tr>\n",
              "  </thead>\n",
              "  <tbody>\n",
              "    <tr>\n",
              "      <th>0</th>\n",
              "      <td>tt0000001</td>\n",
              "      <td>1</td>\n",
              "      <td>Карменсіта</td>\n",
              "      <td>UA</td>\n",
              "      <td>\\N</td>\n",
              "      <td>imdbDisplay</td>\n",
              "      <td>\\N</td>\n",
              "      <td>0</td>\n",
              "    </tr>\n",
              "    <tr>\n",
              "      <th>1</th>\n",
              "      <td>tt0000001</td>\n",
              "      <td>2</td>\n",
              "      <td>Carmencita</td>\n",
              "      <td>DE</td>\n",
              "      <td>\\N</td>\n",
              "      <td>\\N</td>\n",
              "      <td>literal title</td>\n",
              "      <td>0</td>\n",
              "    </tr>\n",
              "    <tr>\n",
              "      <th>2</th>\n",
              "      <td>tt0000001</td>\n",
              "      <td>3</td>\n",
              "      <td>Carmencita - spanyol tánc</td>\n",
              "      <td>HU</td>\n",
              "      <td>\\N</td>\n",
              "      <td>imdbDisplay</td>\n",
              "      <td>\\N</td>\n",
              "      <td>0</td>\n",
              "    </tr>\n",
              "    <tr>\n",
              "      <th>3</th>\n",
              "      <td>tt0000001</td>\n",
              "      <td>4</td>\n",
              "      <td>Καρμενσίτα</td>\n",
              "      <td>GR</td>\n",
              "      <td>\\N</td>\n",
              "      <td>imdbDisplay</td>\n",
              "      <td>\\N</td>\n",
              "      <td>0</td>\n",
              "    </tr>\n",
              "    <tr>\n",
              "      <th>4</th>\n",
              "      <td>tt0000001</td>\n",
              "      <td>5</td>\n",
              "      <td>Карменсита</td>\n",
              "      <td>RU</td>\n",
              "      <td>\\N</td>\n",
              "      <td>imdbDisplay</td>\n",
              "      <td>\\N</td>\n",
              "      <td>0</td>\n",
              "    </tr>\n",
              "  </tbody>\n",
              "</table>\n",
              "</div>\n",
              "      <button class=\"colab-df-convert\" onclick=\"convertToInteractive('df-197d617c-6e08-4fe4-924a-2b8020c602ac')\"\n",
              "              title=\"Convert this dataframe to an interactive table.\"\n",
              "              style=\"display:none;\">\n",
              "        \n",
              "  <svg xmlns=\"http://www.w3.org/2000/svg\" height=\"24px\"viewBox=\"0 0 24 24\"\n",
              "       width=\"24px\">\n",
              "    <path d=\"M0 0h24v24H0V0z\" fill=\"none\"/>\n",
              "    <path d=\"M18.56 5.44l.94 2.06.94-2.06 2.06-.94-2.06-.94-.94-2.06-.94 2.06-2.06.94zm-11 1L8.5 8.5l.94-2.06 2.06-.94-2.06-.94L8.5 2.5l-.94 2.06-2.06.94zm10 10l.94 2.06.94-2.06 2.06-.94-2.06-.94-.94-2.06-.94 2.06-2.06.94z\"/><path d=\"M17.41 7.96l-1.37-1.37c-.4-.4-.92-.59-1.43-.59-.52 0-1.04.2-1.43.59L10.3 9.45l-7.72 7.72c-.78.78-.78 2.05 0 2.83L4 21.41c.39.39.9.59 1.41.59.51 0 1.02-.2 1.41-.59l7.78-7.78 2.81-2.81c.8-.78.8-2.07 0-2.86zM5.41 20L4 18.59l7.72-7.72 1.47 1.35L5.41 20z\"/>\n",
              "  </svg>\n",
              "      </button>\n",
              "      \n",
              "  <style>\n",
              "    .colab-df-container {\n",
              "      display:flex;\n",
              "      flex-wrap:wrap;\n",
              "      gap: 12px;\n",
              "    }\n",
              "\n",
              "    .colab-df-convert {\n",
              "      background-color: #E8F0FE;\n",
              "      border: none;\n",
              "      border-radius: 50%;\n",
              "      cursor: pointer;\n",
              "      display: none;\n",
              "      fill: #1967D2;\n",
              "      height: 32px;\n",
              "      padding: 0 0 0 0;\n",
              "      width: 32px;\n",
              "    }\n",
              "\n",
              "    .colab-df-convert:hover {\n",
              "      background-color: #E2EBFA;\n",
              "      box-shadow: 0px 1px 2px rgba(60, 64, 67, 0.3), 0px 1px 3px 1px rgba(60, 64, 67, 0.15);\n",
              "      fill: #174EA6;\n",
              "    }\n",
              "\n",
              "    [theme=dark] .colab-df-convert {\n",
              "      background-color: #3B4455;\n",
              "      fill: #D2E3FC;\n",
              "    }\n",
              "\n",
              "    [theme=dark] .colab-df-convert:hover {\n",
              "      background-color: #434B5C;\n",
              "      box-shadow: 0px 1px 3px 1px rgba(0, 0, 0, 0.15);\n",
              "      filter: drop-shadow(0px 1px 2px rgba(0, 0, 0, 0.3));\n",
              "      fill: #FFFFFF;\n",
              "    }\n",
              "  </style>\n",
              "\n",
              "      <script>\n",
              "        const buttonEl =\n",
              "          document.querySelector('#df-197d617c-6e08-4fe4-924a-2b8020c602ac button.colab-df-convert');\n",
              "        buttonEl.style.display =\n",
              "          google.colab.kernel.accessAllowed ? 'block' : 'none';\n",
              "\n",
              "        async function convertToInteractive(key) {\n",
              "          const element = document.querySelector('#df-197d617c-6e08-4fe4-924a-2b8020c602ac');\n",
              "          const dataTable =\n",
              "            await google.colab.kernel.invokeFunction('convertToInteractive',\n",
              "                                                     [key], {});\n",
              "          if (!dataTable) return;\n",
              "\n",
              "          const docLinkHtml = 'Like what you see? Visit the ' +\n",
              "            '<a target=\"_blank\" href=https://colab.research.google.com/notebooks/data_table.ipynb>data table notebook</a>'\n",
              "            + ' to learn more about interactive tables.';\n",
              "          element.innerHTML = '';\n",
              "          dataTable['output_type'] = 'display_data';\n",
              "          await google.colab.output.renderOutput(dataTable, element);\n",
              "          const docLink = document.createElement('div');\n",
              "          docLink.innerHTML = docLinkHtml;\n",
              "          element.appendChild(docLink);\n",
              "        }\n",
              "      </script>\n",
              "    </div>\n",
              "  </div>\n",
              "  "
            ],
            "text/plain": [
              "     titleId ordering                      title region language        types  \\\n",
              "0  tt0000001        1                 Карменсіта     UA       \\N  imdbDisplay   \n",
              "1  tt0000001        2                 Carmencita     DE       \\N           \\N   \n",
              "2  tt0000001        3  Carmencita - spanyol tánc     HU       \\N  imdbDisplay   \n",
              "3  tt0000001        4                 Καρμενσίτα     GR       \\N  imdbDisplay   \n",
              "4  tt0000001        5                 Карменсита     RU       \\N  imdbDisplay   \n",
              "\n",
              "      attributes isOriginalTitle  \n",
              "0             \\N               0  \n",
              "1  literal title               0  \n",
              "2             \\N               0  \n",
              "3             \\N               0  \n",
              "4             \\N               0  "
            ]
          },
          "metadata": {}
        }
      ]
    },
    {
      "cell_type": "code",
      "source": [
        "# IMDb Title Ratings DataFrame\n",
        "display(ratings_df.limit(5).toPandas())"
      ],
      "metadata": {
        "colab": {
          "base_uri": "https://localhost:8080/",
          "height": 206
        },
        "id": "gjdt4CiAsMai",
        "outputId": "87a088ba-fb3f-4224-f7ec-b322c1643d7d"
      },
      "execution_count": 26,
      "outputs": [
        {
          "output_type": "display_data",
          "data": {
            "text/html": [
              "\n",
              "  <div id=\"df-f32cde37-0fe2-4f6f-bb94-38a882020bf6\">\n",
              "    <div class=\"colab-df-container\">\n",
              "      <div>\n",
              "<style scoped>\n",
              "    .dataframe tbody tr th:only-of-type {\n",
              "        vertical-align: middle;\n",
              "    }\n",
              "\n",
              "    .dataframe tbody tr th {\n",
              "        vertical-align: top;\n",
              "    }\n",
              "\n",
              "    .dataframe thead th {\n",
              "        text-align: right;\n",
              "    }\n",
              "</style>\n",
              "<table border=\"1\" class=\"dataframe\">\n",
              "  <thead>\n",
              "    <tr style=\"text-align: right;\">\n",
              "      <th></th>\n",
              "      <th>tconst</th>\n",
              "      <th>averageRating</th>\n",
              "      <th>numVotes</th>\n",
              "    </tr>\n",
              "  </thead>\n",
              "  <tbody>\n",
              "    <tr>\n",
              "      <th>0</th>\n",
              "      <td>tt0000001</td>\n",
              "      <td>5.7</td>\n",
              "      <td>1864</td>\n",
              "    </tr>\n",
              "    <tr>\n",
              "      <th>1</th>\n",
              "      <td>tt0000002</td>\n",
              "      <td>6.0</td>\n",
              "      <td>244</td>\n",
              "    </tr>\n",
              "    <tr>\n",
              "      <th>2</th>\n",
              "      <td>tt0000003</td>\n",
              "      <td>6.5</td>\n",
              "      <td>1632</td>\n",
              "    </tr>\n",
              "    <tr>\n",
              "      <th>3</th>\n",
              "      <td>tt0000004</td>\n",
              "      <td>5.8</td>\n",
              "      <td>158</td>\n",
              "    </tr>\n",
              "    <tr>\n",
              "      <th>4</th>\n",
              "      <td>tt0000005</td>\n",
              "      <td>6.2</td>\n",
              "      <td>2459</td>\n",
              "    </tr>\n",
              "  </tbody>\n",
              "</table>\n",
              "</div>\n",
              "      <button class=\"colab-df-convert\" onclick=\"convertToInteractive('df-f32cde37-0fe2-4f6f-bb94-38a882020bf6')\"\n",
              "              title=\"Convert this dataframe to an interactive table.\"\n",
              "              style=\"display:none;\">\n",
              "        \n",
              "  <svg xmlns=\"http://www.w3.org/2000/svg\" height=\"24px\"viewBox=\"0 0 24 24\"\n",
              "       width=\"24px\">\n",
              "    <path d=\"M0 0h24v24H0V0z\" fill=\"none\"/>\n",
              "    <path d=\"M18.56 5.44l.94 2.06.94-2.06 2.06-.94-2.06-.94-.94-2.06-.94 2.06-2.06.94zm-11 1L8.5 8.5l.94-2.06 2.06-.94-2.06-.94L8.5 2.5l-.94 2.06-2.06.94zm10 10l.94 2.06.94-2.06 2.06-.94-2.06-.94-.94-2.06-.94 2.06-2.06.94z\"/><path d=\"M17.41 7.96l-1.37-1.37c-.4-.4-.92-.59-1.43-.59-.52 0-1.04.2-1.43.59L10.3 9.45l-7.72 7.72c-.78.78-.78 2.05 0 2.83L4 21.41c.39.39.9.59 1.41.59.51 0 1.02-.2 1.41-.59l7.78-7.78 2.81-2.81c.8-.78.8-2.07 0-2.86zM5.41 20L4 18.59l7.72-7.72 1.47 1.35L5.41 20z\"/>\n",
              "  </svg>\n",
              "      </button>\n",
              "      \n",
              "  <style>\n",
              "    .colab-df-container {\n",
              "      display:flex;\n",
              "      flex-wrap:wrap;\n",
              "      gap: 12px;\n",
              "    }\n",
              "\n",
              "    .colab-df-convert {\n",
              "      background-color: #E8F0FE;\n",
              "      border: none;\n",
              "      border-radius: 50%;\n",
              "      cursor: pointer;\n",
              "      display: none;\n",
              "      fill: #1967D2;\n",
              "      height: 32px;\n",
              "      padding: 0 0 0 0;\n",
              "      width: 32px;\n",
              "    }\n",
              "\n",
              "    .colab-df-convert:hover {\n",
              "      background-color: #E2EBFA;\n",
              "      box-shadow: 0px 1px 2px rgba(60, 64, 67, 0.3), 0px 1px 3px 1px rgba(60, 64, 67, 0.15);\n",
              "      fill: #174EA6;\n",
              "    }\n",
              "\n",
              "    [theme=dark] .colab-df-convert {\n",
              "      background-color: #3B4455;\n",
              "      fill: #D2E3FC;\n",
              "    }\n",
              "\n",
              "    [theme=dark] .colab-df-convert:hover {\n",
              "      background-color: #434B5C;\n",
              "      box-shadow: 0px 1px 3px 1px rgba(0, 0, 0, 0.15);\n",
              "      filter: drop-shadow(0px 1px 2px rgba(0, 0, 0, 0.3));\n",
              "      fill: #FFFFFF;\n",
              "    }\n",
              "  </style>\n",
              "\n",
              "      <script>\n",
              "        const buttonEl =\n",
              "          document.querySelector('#df-f32cde37-0fe2-4f6f-bb94-38a882020bf6 button.colab-df-convert');\n",
              "        buttonEl.style.display =\n",
              "          google.colab.kernel.accessAllowed ? 'block' : 'none';\n",
              "\n",
              "        async function convertToInteractive(key) {\n",
              "          const element = document.querySelector('#df-f32cde37-0fe2-4f6f-bb94-38a882020bf6');\n",
              "          const dataTable =\n",
              "            await google.colab.kernel.invokeFunction('convertToInteractive',\n",
              "                                                     [key], {});\n",
              "          if (!dataTable) return;\n",
              "\n",
              "          const docLinkHtml = 'Like what you see? Visit the ' +\n",
              "            '<a target=\"_blank\" href=https://colab.research.google.com/notebooks/data_table.ipynb>data table notebook</a>'\n",
              "            + ' to learn more about interactive tables.';\n",
              "          element.innerHTML = '';\n",
              "          dataTable['output_type'] = 'display_data';\n",
              "          await google.colab.output.renderOutput(dataTable, element);\n",
              "          const docLink = document.createElement('div');\n",
              "          docLink.innerHTML = docLinkHtml;\n",
              "          element.appendChild(docLink);\n",
              "        }\n",
              "      </script>\n",
              "    </div>\n",
              "  </div>\n",
              "  "
            ],
            "text/plain": [
              "      tconst averageRating numVotes\n",
              "0  tt0000001           5.7     1864\n",
              "1  tt0000002           6.0      244\n",
              "2  tt0000003           6.5     1632\n",
              "3  tt0000004           5.8      158\n",
              "4  tt0000005           6.2     2459"
            ]
          },
          "metadata": {}
        }
      ]
    },
    {
      "cell_type": "code",
      "source": [
        "# IMDb Title Basics DataFrame\n",
        "display(basics_df.limit(5).toPandas())"
      ],
      "metadata": {
        "colab": {
          "base_uri": "https://localhost:8080/",
          "height": 206
        },
        "id": "j3-5B6218cnH",
        "outputId": "a9c0941c-802d-4252-8578-1ec0e2206ccb"
      },
      "execution_count": 27,
      "outputs": [
        {
          "output_type": "display_data",
          "data": {
            "text/html": [
              "\n",
              "  <div id=\"df-6f297ef8-f28e-4229-afa4-4851b0e49fa0\">\n",
              "    <div class=\"colab-df-container\">\n",
              "      <div>\n",
              "<style scoped>\n",
              "    .dataframe tbody tr th:only-of-type {\n",
              "        vertical-align: middle;\n",
              "    }\n",
              "\n",
              "    .dataframe tbody tr th {\n",
              "        vertical-align: top;\n",
              "    }\n",
              "\n",
              "    .dataframe thead th {\n",
              "        text-align: right;\n",
              "    }\n",
              "</style>\n",
              "<table border=\"1\" class=\"dataframe\">\n",
              "  <thead>\n",
              "    <tr style=\"text-align: right;\">\n",
              "      <th></th>\n",
              "      <th>tconst</th>\n",
              "      <th>titleType</th>\n",
              "      <th>primaryTitle</th>\n",
              "      <th>originalTitle</th>\n",
              "      <th>isAdult</th>\n",
              "      <th>startYear</th>\n",
              "      <th>endYear</th>\n",
              "      <th>runtimeMinutes</th>\n",
              "      <th>genres</th>\n",
              "    </tr>\n",
              "  </thead>\n",
              "  <tbody>\n",
              "    <tr>\n",
              "      <th>0</th>\n",
              "      <td>tt0000001</td>\n",
              "      <td>short</td>\n",
              "      <td>Carmencita</td>\n",
              "      <td>Carmencita</td>\n",
              "      <td>0</td>\n",
              "      <td>1894</td>\n",
              "      <td>\\N</td>\n",
              "      <td>1</td>\n",
              "      <td>Documentary,Short</td>\n",
              "    </tr>\n",
              "    <tr>\n",
              "      <th>1</th>\n",
              "      <td>tt0000002</td>\n",
              "      <td>short</td>\n",
              "      <td>Le clown et ses chiens</td>\n",
              "      <td>Le clown et ses chiens</td>\n",
              "      <td>0</td>\n",
              "      <td>1892</td>\n",
              "      <td>\\N</td>\n",
              "      <td>5</td>\n",
              "      <td>Animation,Short</td>\n",
              "    </tr>\n",
              "    <tr>\n",
              "      <th>2</th>\n",
              "      <td>tt0000003</td>\n",
              "      <td>short</td>\n",
              "      <td>Pauvre Pierrot</td>\n",
              "      <td>Pauvre Pierrot</td>\n",
              "      <td>0</td>\n",
              "      <td>1892</td>\n",
              "      <td>\\N</td>\n",
              "      <td>4</td>\n",
              "      <td>Animation,Comedy,Romance</td>\n",
              "    </tr>\n",
              "    <tr>\n",
              "      <th>3</th>\n",
              "      <td>tt0000004</td>\n",
              "      <td>short</td>\n",
              "      <td>Un bon bock</td>\n",
              "      <td>Un bon bock</td>\n",
              "      <td>0</td>\n",
              "      <td>1892</td>\n",
              "      <td>\\N</td>\n",
              "      <td>12</td>\n",
              "      <td>Animation,Short</td>\n",
              "    </tr>\n",
              "    <tr>\n",
              "      <th>4</th>\n",
              "      <td>tt0000005</td>\n",
              "      <td>short</td>\n",
              "      <td>Blacksmith Scene</td>\n",
              "      <td>Blacksmith Scene</td>\n",
              "      <td>0</td>\n",
              "      <td>1893</td>\n",
              "      <td>\\N</td>\n",
              "      <td>1</td>\n",
              "      <td>Comedy,Short</td>\n",
              "    </tr>\n",
              "  </tbody>\n",
              "</table>\n",
              "</div>\n",
              "      <button class=\"colab-df-convert\" onclick=\"convertToInteractive('df-6f297ef8-f28e-4229-afa4-4851b0e49fa0')\"\n",
              "              title=\"Convert this dataframe to an interactive table.\"\n",
              "              style=\"display:none;\">\n",
              "        \n",
              "  <svg xmlns=\"http://www.w3.org/2000/svg\" height=\"24px\"viewBox=\"0 0 24 24\"\n",
              "       width=\"24px\">\n",
              "    <path d=\"M0 0h24v24H0V0z\" fill=\"none\"/>\n",
              "    <path d=\"M18.56 5.44l.94 2.06.94-2.06 2.06-.94-2.06-.94-.94-2.06-.94 2.06-2.06.94zm-11 1L8.5 8.5l.94-2.06 2.06-.94-2.06-.94L8.5 2.5l-.94 2.06-2.06.94zm10 10l.94 2.06.94-2.06 2.06-.94-2.06-.94-.94-2.06-.94 2.06-2.06.94z\"/><path d=\"M17.41 7.96l-1.37-1.37c-.4-.4-.92-.59-1.43-.59-.52 0-1.04.2-1.43.59L10.3 9.45l-7.72 7.72c-.78.78-.78 2.05 0 2.83L4 21.41c.39.39.9.59 1.41.59.51 0 1.02-.2 1.41-.59l7.78-7.78 2.81-2.81c.8-.78.8-2.07 0-2.86zM5.41 20L4 18.59l7.72-7.72 1.47 1.35L5.41 20z\"/>\n",
              "  </svg>\n",
              "      </button>\n",
              "      \n",
              "  <style>\n",
              "    .colab-df-container {\n",
              "      display:flex;\n",
              "      flex-wrap:wrap;\n",
              "      gap: 12px;\n",
              "    }\n",
              "\n",
              "    .colab-df-convert {\n",
              "      background-color: #E8F0FE;\n",
              "      border: none;\n",
              "      border-radius: 50%;\n",
              "      cursor: pointer;\n",
              "      display: none;\n",
              "      fill: #1967D2;\n",
              "      height: 32px;\n",
              "      padding: 0 0 0 0;\n",
              "      width: 32px;\n",
              "    }\n",
              "\n",
              "    .colab-df-convert:hover {\n",
              "      background-color: #E2EBFA;\n",
              "      box-shadow: 0px 1px 2px rgba(60, 64, 67, 0.3), 0px 1px 3px 1px rgba(60, 64, 67, 0.15);\n",
              "      fill: #174EA6;\n",
              "    }\n",
              "\n",
              "    [theme=dark] .colab-df-convert {\n",
              "      background-color: #3B4455;\n",
              "      fill: #D2E3FC;\n",
              "    }\n",
              "\n",
              "    [theme=dark] .colab-df-convert:hover {\n",
              "      background-color: #434B5C;\n",
              "      box-shadow: 0px 1px 3px 1px rgba(0, 0, 0, 0.15);\n",
              "      filter: drop-shadow(0px 1px 2px rgba(0, 0, 0, 0.3));\n",
              "      fill: #FFFFFF;\n",
              "    }\n",
              "  </style>\n",
              "\n",
              "      <script>\n",
              "        const buttonEl =\n",
              "          document.querySelector('#df-6f297ef8-f28e-4229-afa4-4851b0e49fa0 button.colab-df-convert');\n",
              "        buttonEl.style.display =\n",
              "          google.colab.kernel.accessAllowed ? 'block' : 'none';\n",
              "\n",
              "        async function convertToInteractive(key) {\n",
              "          const element = document.querySelector('#df-6f297ef8-f28e-4229-afa4-4851b0e49fa0');\n",
              "          const dataTable =\n",
              "            await google.colab.kernel.invokeFunction('convertToInteractive',\n",
              "                                                     [key], {});\n",
              "          if (!dataTable) return;\n",
              "\n",
              "          const docLinkHtml = 'Like what you see? Visit the ' +\n",
              "            '<a target=\"_blank\" href=https://colab.research.google.com/notebooks/data_table.ipynb>data table notebook</a>'\n",
              "            + ' to learn more about interactive tables.';\n",
              "          element.innerHTML = '';\n",
              "          dataTable['output_type'] = 'display_data';\n",
              "          await google.colab.output.renderOutput(dataTable, element);\n",
              "          const docLink = document.createElement('div');\n",
              "          docLink.innerHTML = docLinkHtml;\n",
              "          element.appendChild(docLink);\n",
              "        }\n",
              "      </script>\n",
              "    </div>\n",
              "  </div>\n",
              "  "
            ],
            "text/plain": [
              "      tconst titleType            primaryTitle           originalTitle  \\\n",
              "0  tt0000001     short              Carmencita              Carmencita   \n",
              "1  tt0000002     short  Le clown et ses chiens  Le clown et ses chiens   \n",
              "2  tt0000003     short          Pauvre Pierrot          Pauvre Pierrot   \n",
              "3  tt0000004     short             Un bon bock             Un bon bock   \n",
              "4  tt0000005     short        Blacksmith Scene        Blacksmith Scene   \n",
              "\n",
              "  isAdult startYear endYear runtimeMinutes                    genres  \n",
              "0       0      1894      \\N              1         Documentary,Short  \n",
              "1       0      1892      \\N              5           Animation,Short  \n",
              "2       0      1892      \\N              4  Animation,Comedy,Romance  \n",
              "3       0      1892      \\N             12           Animation,Short  \n",
              "4       0      1893      \\N              1              Comedy,Short  "
            ]
          },
          "metadata": {}
        }
      ]
    },
    {
      "cell_type": "code",
      "source": [
        "# IMDb Title Episode DataFrame\n",
        "display(episode_df.limit(5).toPandas())"
      ],
      "metadata": {
        "colab": {
          "base_uri": "https://localhost:8080/",
          "height": 206
        },
        "id": "ofUtQaZB9b84",
        "outputId": "64384123-cf99-45d0-fcc4-789b9fab49d8"
      },
      "execution_count": 28,
      "outputs": [
        {
          "output_type": "display_data",
          "data": {
            "text/html": [
              "\n",
              "  <div id=\"df-07ab12e8-7b45-4486-8da4-b3670efeeeda\">\n",
              "    <div class=\"colab-df-container\">\n",
              "      <div>\n",
              "<style scoped>\n",
              "    .dataframe tbody tr th:only-of-type {\n",
              "        vertical-align: middle;\n",
              "    }\n",
              "\n",
              "    .dataframe tbody tr th {\n",
              "        vertical-align: top;\n",
              "    }\n",
              "\n",
              "    .dataframe thead th {\n",
              "        text-align: right;\n",
              "    }\n",
              "</style>\n",
              "<table border=\"1\" class=\"dataframe\">\n",
              "  <thead>\n",
              "    <tr style=\"text-align: right;\">\n",
              "      <th></th>\n",
              "      <th>tconst</th>\n",
              "      <th>parentTconst</th>\n",
              "      <th>seasonNumber</th>\n",
              "      <th>episodeNumber</th>\n",
              "    </tr>\n",
              "  </thead>\n",
              "  <tbody>\n",
              "    <tr>\n",
              "      <th>0</th>\n",
              "      <td>tt0020666</td>\n",
              "      <td>tt15180956</td>\n",
              "      <td>1</td>\n",
              "      <td>2</td>\n",
              "    </tr>\n",
              "    <tr>\n",
              "      <th>1</th>\n",
              "      <td>tt0020829</td>\n",
              "      <td>tt15180956</td>\n",
              "      <td>1</td>\n",
              "      <td>1</td>\n",
              "    </tr>\n",
              "    <tr>\n",
              "      <th>2</th>\n",
              "      <td>tt0021166</td>\n",
              "      <td>tt15180956</td>\n",
              "      <td>1</td>\n",
              "      <td>3</td>\n",
              "    </tr>\n",
              "    <tr>\n",
              "      <th>3</th>\n",
              "      <td>tt0021612</td>\n",
              "      <td>tt15180956</td>\n",
              "      <td>2</td>\n",
              "      <td>2</td>\n",
              "    </tr>\n",
              "    <tr>\n",
              "      <th>4</th>\n",
              "      <td>tt0021655</td>\n",
              "      <td>tt15180956</td>\n",
              "      <td>2</td>\n",
              "      <td>5</td>\n",
              "    </tr>\n",
              "  </tbody>\n",
              "</table>\n",
              "</div>\n",
              "      <button class=\"colab-df-convert\" onclick=\"convertToInteractive('df-07ab12e8-7b45-4486-8da4-b3670efeeeda')\"\n",
              "              title=\"Convert this dataframe to an interactive table.\"\n",
              "              style=\"display:none;\">\n",
              "        \n",
              "  <svg xmlns=\"http://www.w3.org/2000/svg\" height=\"24px\"viewBox=\"0 0 24 24\"\n",
              "       width=\"24px\">\n",
              "    <path d=\"M0 0h24v24H0V0z\" fill=\"none\"/>\n",
              "    <path d=\"M18.56 5.44l.94 2.06.94-2.06 2.06-.94-2.06-.94-.94-2.06-.94 2.06-2.06.94zm-11 1L8.5 8.5l.94-2.06 2.06-.94-2.06-.94L8.5 2.5l-.94 2.06-2.06.94zm10 10l.94 2.06.94-2.06 2.06-.94-2.06-.94-.94-2.06-.94 2.06-2.06.94z\"/><path d=\"M17.41 7.96l-1.37-1.37c-.4-.4-.92-.59-1.43-.59-.52 0-1.04.2-1.43.59L10.3 9.45l-7.72 7.72c-.78.78-.78 2.05 0 2.83L4 21.41c.39.39.9.59 1.41.59.51 0 1.02-.2 1.41-.59l7.78-7.78 2.81-2.81c.8-.78.8-2.07 0-2.86zM5.41 20L4 18.59l7.72-7.72 1.47 1.35L5.41 20z\"/>\n",
              "  </svg>\n",
              "      </button>\n",
              "      \n",
              "  <style>\n",
              "    .colab-df-container {\n",
              "      display:flex;\n",
              "      flex-wrap:wrap;\n",
              "      gap: 12px;\n",
              "    }\n",
              "\n",
              "    .colab-df-convert {\n",
              "      background-color: #E8F0FE;\n",
              "      border: none;\n",
              "      border-radius: 50%;\n",
              "      cursor: pointer;\n",
              "      display: none;\n",
              "      fill: #1967D2;\n",
              "      height: 32px;\n",
              "      padding: 0 0 0 0;\n",
              "      width: 32px;\n",
              "    }\n",
              "\n",
              "    .colab-df-convert:hover {\n",
              "      background-color: #E2EBFA;\n",
              "      box-shadow: 0px 1px 2px rgba(60, 64, 67, 0.3), 0px 1px 3px 1px rgba(60, 64, 67, 0.15);\n",
              "      fill: #174EA6;\n",
              "    }\n",
              "\n",
              "    [theme=dark] .colab-df-convert {\n",
              "      background-color: #3B4455;\n",
              "      fill: #D2E3FC;\n",
              "    }\n",
              "\n",
              "    [theme=dark] .colab-df-convert:hover {\n",
              "      background-color: #434B5C;\n",
              "      box-shadow: 0px 1px 3px 1px rgba(0, 0, 0, 0.15);\n",
              "      filter: drop-shadow(0px 1px 2px rgba(0, 0, 0, 0.3));\n",
              "      fill: #FFFFFF;\n",
              "    }\n",
              "  </style>\n",
              "\n",
              "      <script>\n",
              "        const buttonEl =\n",
              "          document.querySelector('#df-07ab12e8-7b45-4486-8da4-b3670efeeeda button.colab-df-convert');\n",
              "        buttonEl.style.display =\n",
              "          google.colab.kernel.accessAllowed ? 'block' : 'none';\n",
              "\n",
              "        async function convertToInteractive(key) {\n",
              "          const element = document.querySelector('#df-07ab12e8-7b45-4486-8da4-b3670efeeeda');\n",
              "          const dataTable =\n",
              "            await google.colab.kernel.invokeFunction('convertToInteractive',\n",
              "                                                     [key], {});\n",
              "          if (!dataTable) return;\n",
              "\n",
              "          const docLinkHtml = 'Like what you see? Visit the ' +\n",
              "            '<a target=\"_blank\" href=https://colab.research.google.com/notebooks/data_table.ipynb>data table notebook</a>'\n",
              "            + ' to learn more about interactive tables.';\n",
              "          element.innerHTML = '';\n",
              "          dataTable['output_type'] = 'display_data';\n",
              "          await google.colab.output.renderOutput(dataTable, element);\n",
              "          const docLink = document.createElement('div');\n",
              "          docLink.innerHTML = docLinkHtml;\n",
              "          element.appendChild(docLink);\n",
              "        }\n",
              "      </script>\n",
              "    </div>\n",
              "  </div>\n",
              "  "
            ],
            "text/plain": [
              "      tconst parentTconst seasonNumber episodeNumber\n",
              "0  tt0020666   tt15180956            1             2\n",
              "1  tt0020829   tt15180956            1             1\n",
              "2  tt0021166   tt15180956            1             3\n",
              "3  tt0021612   tt15180956            2             2\n",
              "4  tt0021655   tt15180956            2             5"
            ]
          },
          "metadata": {}
        }
      ]
    },
    {
      "cell_type": "code",
      "source": [
        "# Netflix Streaming History DataFrame\n",
        "netflix_df.head()"
      ],
      "metadata": {
        "colab": {
          "base_uri": "https://localhost:8080/",
          "height": 206
        },
        "id": "-zvjTGsOAwE_",
        "outputId": "e3a349d3-1df8-4692-b8d0-3e865a93c081"
      },
      "execution_count": 29,
      "outputs": [
        {
          "output_type": "execute_result",
          "data": {
            "text/html": [
              "\n",
              "  <div id=\"df-eec9fb62-e744-4e85-abca-f54d4bc5182d\">\n",
              "    <div class=\"colab-df-container\">\n",
              "      <div>\n",
              "<style scoped>\n",
              "    .dataframe tbody tr th:only-of-type {\n",
              "        vertical-align: middle;\n",
              "    }\n",
              "\n",
              "    .dataframe tbody tr th {\n",
              "        vertical-align: top;\n",
              "    }\n",
              "\n",
              "    .dataframe thead th {\n",
              "        text-align: right;\n",
              "    }\n",
              "</style>\n",
              "<table border=\"1\" class=\"dataframe\">\n",
              "  <thead>\n",
              "    <tr style=\"text-align: right;\">\n",
              "      <th></th>\n",
              "      <th>Title</th>\n",
              "      <th>Date</th>\n",
              "    </tr>\n",
              "  </thead>\n",
              "  <tbody>\n",
              "    <tr>\n",
              "      <th>0</th>\n",
              "      <td>Segunda Guerra em Cores: Caminho para a Vitória: Temporada 1: Ocupação da Itália</td>\n",
              "      <td>14/02/2022</td>\n",
              "    </tr>\n",
              "    <tr>\n",
              "      <th>1</th>\n",
              "      <td>Segunda Guerra em Cores: Caminho para a Vitória: Temporada 1: Batalha de Kursk</td>\n",
              "      <td>08/02/2022</td>\n",
              "    </tr>\n",
              "    <tr>\n",
              "      <th>2</th>\n",
              "      <td>Segunda Guerra em Cores: Caminho para a Vitória: Temporada 1: Ocupação do Norte da África</td>\n",
              "      <td>31/01/2022</td>\n",
              "    </tr>\n",
              "    <tr>\n",
              "      <th>3</th>\n",
              "      <td>Segunda Guerra em Cores: Caminho para a Vitória: Temporada 1: Batalha do Atlântico</td>\n",
              "      <td>30/12/2021</td>\n",
              "    </tr>\n",
              "    <tr>\n",
              "      <th>4</th>\n",
              "      <td>Segunda Guerra em Cores: Caminho para a Vitória: Temporada 1: Dunquerque</td>\n",
              "      <td>27/12/2021</td>\n",
              "    </tr>\n",
              "  </tbody>\n",
              "</table>\n",
              "</div>\n",
              "      <button class=\"colab-df-convert\" onclick=\"convertToInteractive('df-eec9fb62-e744-4e85-abca-f54d4bc5182d')\"\n",
              "              title=\"Convert this dataframe to an interactive table.\"\n",
              "              style=\"display:none;\">\n",
              "        \n",
              "  <svg xmlns=\"http://www.w3.org/2000/svg\" height=\"24px\"viewBox=\"0 0 24 24\"\n",
              "       width=\"24px\">\n",
              "    <path d=\"M0 0h24v24H0V0z\" fill=\"none\"/>\n",
              "    <path d=\"M18.56 5.44l.94 2.06.94-2.06 2.06-.94-2.06-.94-.94-2.06-.94 2.06-2.06.94zm-11 1L8.5 8.5l.94-2.06 2.06-.94-2.06-.94L8.5 2.5l-.94 2.06-2.06.94zm10 10l.94 2.06.94-2.06 2.06-.94-2.06-.94-.94-2.06-.94 2.06-2.06.94z\"/><path d=\"M17.41 7.96l-1.37-1.37c-.4-.4-.92-.59-1.43-.59-.52 0-1.04.2-1.43.59L10.3 9.45l-7.72 7.72c-.78.78-.78 2.05 0 2.83L4 21.41c.39.39.9.59 1.41.59.51 0 1.02-.2 1.41-.59l7.78-7.78 2.81-2.81c.8-.78.8-2.07 0-2.86zM5.41 20L4 18.59l7.72-7.72 1.47 1.35L5.41 20z\"/>\n",
              "  </svg>\n",
              "      </button>\n",
              "      \n",
              "  <style>\n",
              "    .colab-df-container {\n",
              "      display:flex;\n",
              "      flex-wrap:wrap;\n",
              "      gap: 12px;\n",
              "    }\n",
              "\n",
              "    .colab-df-convert {\n",
              "      background-color: #E8F0FE;\n",
              "      border: none;\n",
              "      border-radius: 50%;\n",
              "      cursor: pointer;\n",
              "      display: none;\n",
              "      fill: #1967D2;\n",
              "      height: 32px;\n",
              "      padding: 0 0 0 0;\n",
              "      width: 32px;\n",
              "    }\n",
              "\n",
              "    .colab-df-convert:hover {\n",
              "      background-color: #E2EBFA;\n",
              "      box-shadow: 0px 1px 2px rgba(60, 64, 67, 0.3), 0px 1px 3px 1px rgba(60, 64, 67, 0.15);\n",
              "      fill: #174EA6;\n",
              "    }\n",
              "\n",
              "    [theme=dark] .colab-df-convert {\n",
              "      background-color: #3B4455;\n",
              "      fill: #D2E3FC;\n",
              "    }\n",
              "\n",
              "    [theme=dark] .colab-df-convert:hover {\n",
              "      background-color: #434B5C;\n",
              "      box-shadow: 0px 1px 3px 1px rgba(0, 0, 0, 0.15);\n",
              "      filter: drop-shadow(0px 1px 2px rgba(0, 0, 0, 0.3));\n",
              "      fill: #FFFFFF;\n",
              "    }\n",
              "  </style>\n",
              "\n",
              "      <script>\n",
              "        const buttonEl =\n",
              "          document.querySelector('#df-eec9fb62-e744-4e85-abca-f54d4bc5182d button.colab-df-convert');\n",
              "        buttonEl.style.display =\n",
              "          google.colab.kernel.accessAllowed ? 'block' : 'none';\n",
              "\n",
              "        async function convertToInteractive(key) {\n",
              "          const element = document.querySelector('#df-eec9fb62-e744-4e85-abca-f54d4bc5182d');\n",
              "          const dataTable =\n",
              "            await google.colab.kernel.invokeFunction('convertToInteractive',\n",
              "                                                     [key], {});\n",
              "          if (!dataTable) return;\n",
              "\n",
              "          const docLinkHtml = 'Like what you see? Visit the ' +\n",
              "            '<a target=\"_blank\" href=https://colab.research.google.com/notebooks/data_table.ipynb>data table notebook</a>'\n",
              "            + ' to learn more about interactive tables.';\n",
              "          element.innerHTML = '';\n",
              "          dataTable['output_type'] = 'display_data';\n",
              "          await google.colab.output.renderOutput(dataTable, element);\n",
              "          const docLink = document.createElement('div');\n",
              "          docLink.innerHTML = docLinkHtml;\n",
              "          element.appendChild(docLink);\n",
              "        }\n",
              "      </script>\n",
              "    </div>\n",
              "  </div>\n",
              "  "
            ],
            "text/plain": [
              "                                                                                       Title  \\\n",
              "0           Segunda Guerra em Cores: Caminho para a Vitória: Temporada 1: Ocupação da Itália   \n",
              "1             Segunda Guerra em Cores: Caminho para a Vitória: Temporada 1: Batalha de Kursk   \n",
              "2  Segunda Guerra em Cores: Caminho para a Vitória: Temporada 1: Ocupação do Norte da África   \n",
              "3         Segunda Guerra em Cores: Caminho para a Vitória: Temporada 1: Batalha do Atlântico   \n",
              "4                   Segunda Guerra em Cores: Caminho para a Vitória: Temporada 1: Dunquerque   \n",
              "\n",
              "         Date  \n",
              "0  14/02/2022  \n",
              "1  08/02/2022  \n",
              "2  31/01/2022  \n",
              "3  30/12/2021  \n",
              "4  27/12/2021  "
            ]
          },
          "metadata": {},
          "execution_count": 29
        }
      ]
    },
    {
      "cell_type": "markdown",
      "source": [
        "# Separar o título e o nome do episódio"
      ],
      "metadata": {
        "id": "Je_oo2mm6P4r"
      }
    },
    {
      "cell_type": "code",
      "source": [
        "netflix_df['Title']"
      ],
      "metadata": {
        "colab": {
          "base_uri": "https://localhost:8080/"
        },
        "id": "c0shGfpZ6WRh",
        "outputId": "caac1277-2532-4e7c-dc47-dc6b5d19fb6a"
      },
      "execution_count": 30,
      "outputs": [
        {
          "output_type": "execute_result",
          "data": {
            "text/plain": [
              "0               Segunda Guerra em Cores: Caminho para a Vitória: Temporada 1: Ocupação da Itália\n",
              "1                 Segunda Guerra em Cores: Caminho para a Vitória: Temporada 1: Batalha de Kursk\n",
              "2      Segunda Guerra em Cores: Caminho para a Vitória: Temporada 1: Ocupação do Norte da África\n",
              "3             Segunda Guerra em Cores: Caminho para a Vitória: Temporada 1: Batalha do Atlântico\n",
              "4                       Segunda Guerra em Cores: Caminho para a Vitória: Temporada 1: Dunquerque\n",
              "                                                 ...                                            \n",
              "445                                                                                   ParaNorman\n",
              "446                                                           Bob Esponja - Um Herói Fora D'Água\n",
              "447                                                             Pets - A Vida Secreta dos Bichos\n",
              "448                                                The Walking Dead: Temporada 1: Adeus, passado\n",
              "449                                            Exterminadores do Além Contra a Loira do Banheiro\n",
              "Name: Title, Length: 450, dtype: object"
            ]
          },
          "metadata": {},
          "execution_count": 30
        }
      ]
    },
    {
      "cell_type": "code",
      "source": [
        "# Remove duplicated row streaming error\n",
        "netflix_df = netflix_df[netflix_df['Title'] != 'Mars: Season 1_hook_04_16x9']"
      ],
      "metadata": {
        "id": "uue8UpjEKvoK"
      },
      "execution_count": 31,
      "outputs": []
    },
    {
      "cell_type": "code",
      "source": [
        "def split_title(title):\n",
        "  \"\"\"\n",
        "    Return the main title and episode name by title\n",
        "  \"\"\"\n",
        "  main_title = title\n",
        "  episode_name = ''\n",
        "  texts = re.split('Temporada |Minissérie', title)\n",
        "\n",
        "  # title have the separator key\n",
        "  if len(texts) > 1:\n",
        "    # get the main title\n",
        "    main_title = texts[0]\n",
        "    # remove white spaces\n",
        "    main_title = main_title.strip()\n",
        "    # remove the ':' character\n",
        "    main_title = main_title[:-1]\n",
        "\n",
        "    # get the episode name\n",
        "    episode_name = texts[1]\n",
        "\n",
        "  return (main_title, episode_name)"
      ],
      "metadata": {
        "id": "9-EvtMRT7deI"
      },
      "execution_count": 32,
      "outputs": []
    },
    {
      "cell_type": "code",
      "source": [
        "# Get episode name from Title\n",
        "netflix_df['Episode'] = netflix_df['Title'].map(lambda x: split_title(x)[1])"
      ],
      "metadata": {
        "id": "zr0lebsT-Sea"
      },
      "execution_count": 33,
      "outputs": []
    },
    {
      "cell_type": "code",
      "source": [
        "# Update Title to the main title\n",
        "netflix_df['Title'] = netflix_df['Title'].map(lambda x: split_title(x)[0])"
      ],
      "metadata": {
        "id": "uzh7yD3x6uyM"
      },
      "execution_count": 34,
      "outputs": []
    },
    {
      "cell_type": "code",
      "source": [
        "netflix_df.head()"
      ],
      "metadata": {
        "colab": {
          "base_uri": "https://localhost:8080/",
          "height": 206
        },
        "id": "vTtMhAGi-WUr",
        "outputId": "aa0a1050-d549-43be-c958-dd8302237a91"
      },
      "execution_count": 35,
      "outputs": [
        {
          "output_type": "execute_result",
          "data": {
            "text/html": [
              "\n",
              "  <div id=\"df-7882294c-73a8-41ec-b8be-33f72ab2a3f5\">\n",
              "    <div class=\"colab-df-container\">\n",
              "      <div>\n",
              "<style scoped>\n",
              "    .dataframe tbody tr th:only-of-type {\n",
              "        vertical-align: middle;\n",
              "    }\n",
              "\n",
              "    .dataframe tbody tr th {\n",
              "        vertical-align: top;\n",
              "    }\n",
              "\n",
              "    .dataframe thead th {\n",
              "        text-align: right;\n",
              "    }\n",
              "</style>\n",
              "<table border=\"1\" class=\"dataframe\">\n",
              "  <thead>\n",
              "    <tr style=\"text-align: right;\">\n",
              "      <th></th>\n",
              "      <th>Title</th>\n",
              "      <th>Date</th>\n",
              "      <th>Episode</th>\n",
              "    </tr>\n",
              "  </thead>\n",
              "  <tbody>\n",
              "    <tr>\n",
              "      <th>0</th>\n",
              "      <td>Segunda Guerra em Cores: Caminho para a Vitória</td>\n",
              "      <td>14/02/2022</td>\n",
              "      <td>1: Ocupação da Itália</td>\n",
              "    </tr>\n",
              "    <tr>\n",
              "      <th>1</th>\n",
              "      <td>Segunda Guerra em Cores: Caminho para a Vitória</td>\n",
              "      <td>08/02/2022</td>\n",
              "      <td>1: Batalha de Kursk</td>\n",
              "    </tr>\n",
              "    <tr>\n",
              "      <th>2</th>\n",
              "      <td>Segunda Guerra em Cores: Caminho para a Vitória</td>\n",
              "      <td>31/01/2022</td>\n",
              "      <td>1: Ocupação do Norte da África</td>\n",
              "    </tr>\n",
              "    <tr>\n",
              "      <th>3</th>\n",
              "      <td>Segunda Guerra em Cores: Caminho para a Vitória</td>\n",
              "      <td>30/12/2021</td>\n",
              "      <td>1: Batalha do Atlântico</td>\n",
              "    </tr>\n",
              "    <tr>\n",
              "      <th>4</th>\n",
              "      <td>Segunda Guerra em Cores: Caminho para a Vitória</td>\n",
              "      <td>27/12/2021</td>\n",
              "      <td>1: Dunquerque</td>\n",
              "    </tr>\n",
              "  </tbody>\n",
              "</table>\n",
              "</div>\n",
              "      <button class=\"colab-df-convert\" onclick=\"convertToInteractive('df-7882294c-73a8-41ec-b8be-33f72ab2a3f5')\"\n",
              "              title=\"Convert this dataframe to an interactive table.\"\n",
              "              style=\"display:none;\">\n",
              "        \n",
              "  <svg xmlns=\"http://www.w3.org/2000/svg\" height=\"24px\"viewBox=\"0 0 24 24\"\n",
              "       width=\"24px\">\n",
              "    <path d=\"M0 0h24v24H0V0z\" fill=\"none\"/>\n",
              "    <path d=\"M18.56 5.44l.94 2.06.94-2.06 2.06-.94-2.06-.94-.94-2.06-.94 2.06-2.06.94zm-11 1L8.5 8.5l.94-2.06 2.06-.94-2.06-.94L8.5 2.5l-.94 2.06-2.06.94zm10 10l.94 2.06.94-2.06 2.06-.94-2.06-.94-.94-2.06-.94 2.06-2.06.94z\"/><path d=\"M17.41 7.96l-1.37-1.37c-.4-.4-.92-.59-1.43-.59-.52 0-1.04.2-1.43.59L10.3 9.45l-7.72 7.72c-.78.78-.78 2.05 0 2.83L4 21.41c.39.39.9.59 1.41.59.51 0 1.02-.2 1.41-.59l7.78-7.78 2.81-2.81c.8-.78.8-2.07 0-2.86zM5.41 20L4 18.59l7.72-7.72 1.47 1.35L5.41 20z\"/>\n",
              "  </svg>\n",
              "      </button>\n",
              "      \n",
              "  <style>\n",
              "    .colab-df-container {\n",
              "      display:flex;\n",
              "      flex-wrap:wrap;\n",
              "      gap: 12px;\n",
              "    }\n",
              "\n",
              "    .colab-df-convert {\n",
              "      background-color: #E8F0FE;\n",
              "      border: none;\n",
              "      border-radius: 50%;\n",
              "      cursor: pointer;\n",
              "      display: none;\n",
              "      fill: #1967D2;\n",
              "      height: 32px;\n",
              "      padding: 0 0 0 0;\n",
              "      width: 32px;\n",
              "    }\n",
              "\n",
              "    .colab-df-convert:hover {\n",
              "      background-color: #E2EBFA;\n",
              "      box-shadow: 0px 1px 2px rgba(60, 64, 67, 0.3), 0px 1px 3px 1px rgba(60, 64, 67, 0.15);\n",
              "      fill: #174EA6;\n",
              "    }\n",
              "\n",
              "    [theme=dark] .colab-df-convert {\n",
              "      background-color: #3B4455;\n",
              "      fill: #D2E3FC;\n",
              "    }\n",
              "\n",
              "    [theme=dark] .colab-df-convert:hover {\n",
              "      background-color: #434B5C;\n",
              "      box-shadow: 0px 1px 3px 1px rgba(0, 0, 0, 0.15);\n",
              "      filter: drop-shadow(0px 1px 2px rgba(0, 0, 0, 0.3));\n",
              "      fill: #FFFFFF;\n",
              "    }\n",
              "  </style>\n",
              "\n",
              "      <script>\n",
              "        const buttonEl =\n",
              "          document.querySelector('#df-7882294c-73a8-41ec-b8be-33f72ab2a3f5 button.colab-df-convert');\n",
              "        buttonEl.style.display =\n",
              "          google.colab.kernel.accessAllowed ? 'block' : 'none';\n",
              "\n",
              "        async function convertToInteractive(key) {\n",
              "          const element = document.querySelector('#df-7882294c-73a8-41ec-b8be-33f72ab2a3f5');\n",
              "          const dataTable =\n",
              "            await google.colab.kernel.invokeFunction('convertToInteractive',\n",
              "                                                     [key], {});\n",
              "          if (!dataTable) return;\n",
              "\n",
              "          const docLinkHtml = 'Like what you see? Visit the ' +\n",
              "            '<a target=\"_blank\" href=https://colab.research.google.com/notebooks/data_table.ipynb>data table notebook</a>'\n",
              "            + ' to learn more about interactive tables.';\n",
              "          element.innerHTML = '';\n",
              "          dataTable['output_type'] = 'display_data';\n",
              "          await google.colab.output.renderOutput(dataTable, element);\n",
              "          const docLink = document.createElement('div');\n",
              "          docLink.innerHTML = docLinkHtml;\n",
              "          element.appendChild(docLink);\n",
              "        }\n",
              "      </script>\n",
              "    </div>\n",
              "  </div>\n",
              "  "
            ],
            "text/plain": [
              "                                             Title        Date  \\\n",
              "0  Segunda Guerra em Cores: Caminho para a Vitória  14/02/2022   \n",
              "1  Segunda Guerra em Cores: Caminho para a Vitória  08/02/2022   \n",
              "2  Segunda Guerra em Cores: Caminho para a Vitória  31/01/2022   \n",
              "3  Segunda Guerra em Cores: Caminho para a Vitória  30/12/2021   \n",
              "4  Segunda Guerra em Cores: Caminho para a Vitória  27/12/2021   \n",
              "\n",
              "                          Episode  \n",
              "0           1: Ocupação da Itália  \n",
              "1             1: Batalha de Kursk  \n",
              "2  1: Ocupação do Norte da África  \n",
              "3         1: Batalha do Atlântico  \n",
              "4                   1: Dunquerque  "
            ]
          },
          "metadata": {},
          "execution_count": 35
        }
      ]
    },
    {
      "cell_type": "code",
      "source": [
        "netflix_df.sample(5)"
      ],
      "metadata": {
        "colab": {
          "base_uri": "https://localhost:8080/",
          "height": 206
        },
        "id": "XAzVp2VA-jij",
        "outputId": "73bb44a3-c3b4-407a-814f-efdc2ea97c9d"
      },
      "execution_count": 36,
      "outputs": [
        {
          "output_type": "execute_result",
          "data": {
            "text/html": [
              "\n",
              "  <div id=\"df-fb83509a-0c79-4b95-a78e-0d6d59ec83d2\">\n",
              "    <div class=\"colab-df-container\">\n",
              "      <div>\n",
              "<style scoped>\n",
              "    .dataframe tbody tr th:only-of-type {\n",
              "        vertical-align: middle;\n",
              "    }\n",
              "\n",
              "    .dataframe tbody tr th {\n",
              "        vertical-align: top;\n",
              "    }\n",
              "\n",
              "    .dataframe thead th {\n",
              "        text-align: right;\n",
              "    }\n",
              "</style>\n",
              "<table border=\"1\" class=\"dataframe\">\n",
              "  <thead>\n",
              "    <tr style=\"text-align: right;\">\n",
              "      <th></th>\n",
              "      <th>Title</th>\n",
              "      <th>Date</th>\n",
              "      <th>Episode</th>\n",
              "    </tr>\n",
              "  </thead>\n",
              "  <tbody>\n",
              "    <tr>\n",
              "      <th>211</th>\n",
              "      <td>Teasing Master Takagi-san</td>\n",
              "      <td>05/01/2020</td>\n",
              "      <td>2: Episódio 3</td>\n",
              "    </tr>\n",
              "    <tr>\n",
              "      <th>61</th>\n",
              "      <td>Space Force</td>\n",
              "      <td>16/11/2020</td>\n",
              "      <td>1: Salvando o Epsilon 6!</td>\n",
              "    </tr>\n",
              "    <tr>\n",
              "      <th>323</th>\n",
              "      <td>Um maluco no pedaço</td>\n",
              "      <td>30/10/2019</td>\n",
              "      <td>4: Batizado classe A</td>\n",
              "    </tr>\n",
              "    <tr>\n",
              "      <th>110</th>\n",
              "      <td>Toradora!</td>\n",
              "      <td>03/08/2020</td>\n",
              "      <td>1: Sua canção</td>\n",
              "    </tr>\n",
              "    <tr>\n",
              "      <th>106</th>\n",
              "      <td>Toradora!</td>\n",
              "      <td>04/08/2020</td>\n",
              "      <td>1: Dia de piscina</td>\n",
              "    </tr>\n",
              "  </tbody>\n",
              "</table>\n",
              "</div>\n",
              "      <button class=\"colab-df-convert\" onclick=\"convertToInteractive('df-fb83509a-0c79-4b95-a78e-0d6d59ec83d2')\"\n",
              "              title=\"Convert this dataframe to an interactive table.\"\n",
              "              style=\"display:none;\">\n",
              "        \n",
              "  <svg xmlns=\"http://www.w3.org/2000/svg\" height=\"24px\"viewBox=\"0 0 24 24\"\n",
              "       width=\"24px\">\n",
              "    <path d=\"M0 0h24v24H0V0z\" fill=\"none\"/>\n",
              "    <path d=\"M18.56 5.44l.94 2.06.94-2.06 2.06-.94-2.06-.94-.94-2.06-.94 2.06-2.06.94zm-11 1L8.5 8.5l.94-2.06 2.06-.94-2.06-.94L8.5 2.5l-.94 2.06-2.06.94zm10 10l.94 2.06.94-2.06 2.06-.94-2.06-.94-.94-2.06-.94 2.06-2.06.94z\"/><path d=\"M17.41 7.96l-1.37-1.37c-.4-.4-.92-.59-1.43-.59-.52 0-1.04.2-1.43.59L10.3 9.45l-7.72 7.72c-.78.78-.78 2.05 0 2.83L4 21.41c.39.39.9.59 1.41.59.51 0 1.02-.2 1.41-.59l7.78-7.78 2.81-2.81c.8-.78.8-2.07 0-2.86zM5.41 20L4 18.59l7.72-7.72 1.47 1.35L5.41 20z\"/>\n",
              "  </svg>\n",
              "      </button>\n",
              "      \n",
              "  <style>\n",
              "    .colab-df-container {\n",
              "      display:flex;\n",
              "      flex-wrap:wrap;\n",
              "      gap: 12px;\n",
              "    }\n",
              "\n",
              "    .colab-df-convert {\n",
              "      background-color: #E8F0FE;\n",
              "      border: none;\n",
              "      border-radius: 50%;\n",
              "      cursor: pointer;\n",
              "      display: none;\n",
              "      fill: #1967D2;\n",
              "      height: 32px;\n",
              "      padding: 0 0 0 0;\n",
              "      width: 32px;\n",
              "    }\n",
              "\n",
              "    .colab-df-convert:hover {\n",
              "      background-color: #E2EBFA;\n",
              "      box-shadow: 0px 1px 2px rgba(60, 64, 67, 0.3), 0px 1px 3px 1px rgba(60, 64, 67, 0.15);\n",
              "      fill: #174EA6;\n",
              "    }\n",
              "\n",
              "    [theme=dark] .colab-df-convert {\n",
              "      background-color: #3B4455;\n",
              "      fill: #D2E3FC;\n",
              "    }\n",
              "\n",
              "    [theme=dark] .colab-df-convert:hover {\n",
              "      background-color: #434B5C;\n",
              "      box-shadow: 0px 1px 3px 1px rgba(0, 0, 0, 0.15);\n",
              "      filter: drop-shadow(0px 1px 2px rgba(0, 0, 0, 0.3));\n",
              "      fill: #FFFFFF;\n",
              "    }\n",
              "  </style>\n",
              "\n",
              "      <script>\n",
              "        const buttonEl =\n",
              "          document.querySelector('#df-fb83509a-0c79-4b95-a78e-0d6d59ec83d2 button.colab-df-convert');\n",
              "        buttonEl.style.display =\n",
              "          google.colab.kernel.accessAllowed ? 'block' : 'none';\n",
              "\n",
              "        async function convertToInteractive(key) {\n",
              "          const element = document.querySelector('#df-fb83509a-0c79-4b95-a78e-0d6d59ec83d2');\n",
              "          const dataTable =\n",
              "            await google.colab.kernel.invokeFunction('convertToInteractive',\n",
              "                                                     [key], {});\n",
              "          if (!dataTable) return;\n",
              "\n",
              "          const docLinkHtml = 'Like what you see? Visit the ' +\n",
              "            '<a target=\"_blank\" href=https://colab.research.google.com/notebooks/data_table.ipynb>data table notebook</a>'\n",
              "            + ' to learn more about interactive tables.';\n",
              "          element.innerHTML = '';\n",
              "          dataTable['output_type'] = 'display_data';\n",
              "          await google.colab.output.renderOutput(dataTable, element);\n",
              "          const docLink = document.createElement('div');\n",
              "          docLink.innerHTML = docLinkHtml;\n",
              "          element.appendChild(docLink);\n",
              "        }\n",
              "      </script>\n",
              "    </div>\n",
              "  </div>\n",
              "  "
            ],
            "text/plain": [
              "                         Title        Date                   Episode\n",
              "211  Teasing Master Takagi-san  05/01/2020             2: Episódio 3\n",
              "61                 Space Force  16/11/2020  1: Salvando o Epsilon 6!\n",
              "323        Um maluco no pedaço  30/10/2019      4: Batizado classe A\n",
              "110                  Toradora!  03/08/2020             1: Sua canção\n",
              "106                  Toradora!  04/08/2020         1: Dia de piscina"
            ]
          },
          "metadata": {},
          "execution_count": 36
        }
      ]
    },
    {
      "cell_type": "markdown",
      "source": [
        "# Associar um ID do IMDb"
      ],
      "metadata": {
        "id": "RKphBm5GA5A1"
      }
    },
    {
      "cell_type": "code",
      "source": [
        "# Get unique titles\n",
        "titles = netflix_df['Title'].unique()\n",
        "titles = np.sort(titles)\n",
        "titles"
      ],
      "metadata": {
        "colab": {
          "base_uri": "https://localhost:8080/"
        },
        "id": "9Jv-G1qNBklq",
        "outputId": "86d2cdaa-01f7-4d01-c215-ad80e9347d7e"
      },
      "execution_count": 37,
      "outputs": [
        {
          "output_type": "execute_result",
          "data": {
            "text/plain": [
              "array(['A Garota que conquistou o tempo', 'A Viagem de Chihiro',\n",
              "       'A Voz do Silêncio – Koe No Katachi', 'Ano Hana',\n",
              "       'Atlantis - O reino perdido', 'Bob Esponja',\n",
              "       \"Bob Esponja - Um Herói Fora D'Água\", 'Challenger: Voo Final',\n",
              "       'Coraline e o mundo secreto', 'Crianças Lobo', 'Divertida Mente',\n",
              "       'Escola de rock', 'Explicando... O Coronavírus',\n",
              "       'Exterminadores do Além Contra a Loira do Banheiro',\n",
              "       'Grandes Momentos da Segunda Guerra em Cores',\n",
              "       'História: Direto ao Assunto', 'Kubo e as Cordas Mágicas',\n",
              "       'Little Witch Academia',\n",
              "       'Little Witch Academia: The Enchanted Parade',\n",
              "       'Luzes no Céu: Fireworks', 'Marte', 'Meu Amigo Totoro',\n",
              "       'Mission Control: The Unsung Heroes of Apollo',\n",
              "       'NOVA: Black Hole Apocalypse', 'NOVA: Viagem a Saturno',\n",
              "       'O Universo', 'Olhos de Gato', 'One-Punch Man', 'ParaNorman',\n",
              "       'Pets - A Vida Secreta dos Bichos', 'Sangatsu no Lion',\n",
              "       'Segunda Guerra em Cores: Caminho para a Vitória', 'Sherlock',\n",
              "       'Shiki Oriori: O Sabor da Juventude', 'Space Force',\n",
              "       'Teasing Master Takagi-san', 'The Search for Life in Space',\n",
              "       'The Walking Dead', 'Toradora!', 'Tron: O legado', 'Três é Demais',\n",
              "       'Um maluco no pedaço', 'Viagem para Agartha', 'Your Name'],\n",
              "      dtype=object)"
            ]
          },
          "metadata": {},
          "execution_count": 37
        }
      ]
    },
    {
      "cell_type": "code",
      "source": [
        "print(f'São ao todo {len(titles)} títulos.')"
      ],
      "metadata": {
        "colab": {
          "base_uri": "https://localhost:8080/"
        },
        "id": "36zNw_EuBzwo",
        "outputId": "bb226e32-f985-4106-a655-a21c6b73aaeb"
      },
      "execution_count": 38,
      "outputs": [
        {
          "output_type": "stream",
          "name": "stdout",
          "text": [
            "São ao todo 44 títulos.\n"
          ]
        }
      ]
    },
    {
      "cell_type": "code",
      "source": [
        "original_titles = np.array(['Toki o kakeru shôjo', 'Sen to Chihiro no kamikakushi', 'Koe no katachi', 'Anohana: The Flower We Saw That Day',\n",
        "                            'Atlantis: The Lost Empire', 'SpongeBob SquarePants', 'The SpongeBob Movie: Sponge Out of Water', 'Challenger: The Final Flight',\n",
        "                            'Coraline', 'Wolf Children', 'Inside Out', 'School of Rock',\n",
        "                            'Coronavirus, Explained', 'Exterminadores do Além Contra a Loira do Banheiro', 'Greatest Events of WWII in Colour', 'History 101',\n",
        "                            'Kubo and the Two Strings', 'Little Witch Academia', 'Little Witch Academia: The Enchanted Parade', 'Luzes no Céu: Fireworks',\n",
        "                            'The Martian', 'Tonari no Totoro', 'Mission Control: The Unsung Heroes of Apollo', 'Nova', 'Nova',\n",
        "                            'The Universe', 'A Whisker Away', 'One Punch Man: Wanpanman', 'ParaNorman',\n",
        "                            'The Secret Life of Pets', 'Sangatsu no Lion', 'WWII in Color: Road to Victory', 'Sherlock',\n",
        "                            'Flavors of Youth', 'Space Force', 'Karakai Jouzu no Takagi-san', 'The Search for Life in Space',\n",
        "                            'The Walking Dead', 'Toradora!', 'Tron: Legacy', 'Full House',\n",
        "                            'The Fresh Prince of Bel-Air', 'Children Who Chase Lost Voices', 'Kimi no na wa.'])\n",
        "original_titles"
      ],
      "metadata": {
        "colab": {
          "base_uri": "https://localhost:8080/"
        },
        "id": "JJGwTje-P4bg",
        "outputId": "24570527-67cf-4e1e-dc34-bc0b09ee9e6a"
      },
      "execution_count": 87,
      "outputs": [
        {
          "output_type": "execute_result",
          "data": {
            "text/plain": [
              "array(['Toki o kakeru shôjo', 'Sen to Chihiro no kamikakushi',\n",
              "       'Koe no katachi', 'Anohana: The Flower We Saw That Day',\n",
              "       'Atlantis: The Lost Empire', 'SpongeBob SquarePants',\n",
              "       'The SpongeBob Movie: Sponge Out of Water',\n",
              "       'Challenger: The Final Flight', 'Coraline', 'Wolf Children',\n",
              "       'Inside Out', 'School of Rock', 'Coronavirus, Explained',\n",
              "       'Exterminadores do Além Contra a Loira do Banheiro',\n",
              "       'Greatest Events of WWII in Colour', 'History 101',\n",
              "       'Kubo and the Two Strings', 'Little Witch Academia',\n",
              "       'Little Witch Academia: The Enchanted Parade',\n",
              "       'Luzes no Céu: Fireworks', 'The Martian', 'Tonari no Totoro',\n",
              "       'Mission Control: The Unsung Heroes of Apollo', 'Nova', 'Nova',\n",
              "       'The Universe', 'A Whisker Away', 'One Punch Man: Wanpanman',\n",
              "       'ParaNorman', 'The Secret Life of Pets', 'Sangatsu no Lion',\n",
              "       'WWII in Color: Road to Victory', 'Sherlock', 'Flavors of Youth',\n",
              "       'Space Force', 'Karakai Jouzu no Takagi-san',\n",
              "       'The Search for Life in Space', 'The Walking Dead', 'Toradora!',\n",
              "       'Tron: Legacy', 'Full House', 'The Fresh Prince of Bel-Air',\n",
              "       'Children Who Chase Lost Voices', 'Kimi no na wa.'], dtype='<U49')"
            ]
          },
          "metadata": {},
          "execution_count": 87
        }
      ]
    },
    {
      "cell_type": "code",
      "source": [
        "mapped_titles = dict(zip(titles, original_titles))\n",
        "mapped_titles"
      ],
      "metadata": {
        "colab": {
          "base_uri": "https://localhost:8080/"
        },
        "id": "pq3Vq4CohED8",
        "outputId": "6861b9fa-b461-4d32-ad5b-4bfaccab4f49"
      },
      "execution_count": 88,
      "outputs": [
        {
          "output_type": "execute_result",
          "data": {
            "text/plain": [
              "{'A Garota que conquistou o tempo': 'Toki o kakeru shôjo',\n",
              " 'A Viagem de Chihiro': 'Sen to Chihiro no kamikakushi',\n",
              " 'A Voz do Silêncio – Koe No Katachi': 'Koe no katachi',\n",
              " 'Ano Hana': 'Anohana: The Flower We Saw That Day',\n",
              " 'Atlantis - O reino perdido': 'Atlantis: The Lost Empire',\n",
              " 'Bob Esponja': 'SpongeBob SquarePants',\n",
              " \"Bob Esponja - Um Herói Fora D'Água\": 'The SpongeBob Movie: Sponge Out of Water',\n",
              " 'Challenger: Voo Final': 'Challenger: The Final Flight',\n",
              " 'Coraline e o mundo secreto': 'Coraline',\n",
              " 'Crianças Lobo': 'Wolf Children',\n",
              " 'Divertida Mente': 'Inside Out',\n",
              " 'Escola de rock': 'School of Rock',\n",
              " 'Explicando... O Coronavírus': 'Coronavirus, Explained',\n",
              " 'Exterminadores do Além Contra a Loira do Banheiro': 'Exterminadores do Além Contra a Loira do Banheiro',\n",
              " 'Grandes Momentos da Segunda Guerra em Cores': 'Greatest Events of WWII in Colour',\n",
              " 'História: Direto ao Assunto': 'History 101',\n",
              " 'Kubo e as Cordas Mágicas': 'Kubo and the Two Strings',\n",
              " 'Little Witch Academia': 'Little Witch Academia',\n",
              " 'Little Witch Academia: The Enchanted Parade': 'Little Witch Academia: The Enchanted Parade',\n",
              " 'Luzes no Céu: Fireworks': 'Luzes no Céu: Fireworks',\n",
              " 'Marte': 'The Martian',\n",
              " 'Meu Amigo Totoro': 'Tonari no Totoro',\n",
              " 'Mission Control: The Unsung Heroes of Apollo': 'Mission Control: The Unsung Heroes of Apollo',\n",
              " 'NOVA: Black Hole Apocalypse': 'Nova',\n",
              " 'NOVA: Viagem a Saturno': 'Nova',\n",
              " 'O Universo': 'The Universe',\n",
              " 'Olhos de Gato': 'A Whisker Away',\n",
              " 'One-Punch Man': 'One Punch Man: Wanpanman',\n",
              " 'ParaNorman': 'ParaNorman',\n",
              " 'Pets - A Vida Secreta dos Bichos': 'The Secret Life of Pets',\n",
              " 'Sangatsu no Lion': 'Sangatsu no Lion',\n",
              " 'Segunda Guerra em Cores: Caminho para a Vitória': 'WWII in Color: Road to Victory',\n",
              " 'Sherlock': 'Sherlock',\n",
              " 'Shiki Oriori: O Sabor da Juventude': 'Flavors of Youth',\n",
              " 'Space Force': 'Space Force',\n",
              " 'Teasing Master Takagi-san': 'Karakai Jouzu no Takagi-san',\n",
              " 'The Search for Life in Space': 'The Search for Life in Space',\n",
              " 'The Walking Dead': 'The Walking Dead',\n",
              " 'Toradora!': 'Toradora!',\n",
              " 'Tron: O legado': 'Tron: Legacy',\n",
              " 'Três é Demais': 'Full House',\n",
              " 'Um maluco no pedaço': 'The Fresh Prince of Bel-Air',\n",
              " 'Viagem para Agartha': 'Children Who Chase Lost Voices',\n",
              " 'Your Name': 'Kimi no na wa.'}"
            ]
          },
          "metadata": {},
          "execution_count": 88
        }
      ]
    },
    {
      "cell_type": "code",
      "source": [
        "netflix_df['Title'].replace(mapped_titles, inplace=True)\n",
        "netflix_df.sample(5)"
      ],
      "metadata": {
        "colab": {
          "base_uri": "https://localhost:8080/",
          "height": 206
        },
        "id": "eHroOmykhkHO",
        "outputId": "002e9e4f-1241-4ab5-bdc9-f862415745d7"
      },
      "execution_count": 89,
      "outputs": [
        {
          "output_type": "execute_result",
          "data": {
            "text/html": [
              "\n",
              "  <div id=\"df-be68fec0-73b2-4938-ab9e-dee7f4dc0225\">\n",
              "    <div class=\"colab-df-container\">\n",
              "      <div>\n",
              "<style scoped>\n",
              "    .dataframe tbody tr th:only-of-type {\n",
              "        vertical-align: middle;\n",
              "    }\n",
              "\n",
              "    .dataframe tbody tr th {\n",
              "        vertical-align: top;\n",
              "    }\n",
              "\n",
              "    .dataframe thead th {\n",
              "        text-align: right;\n",
              "    }\n",
              "</style>\n",
              "<table border=\"1\" class=\"dataframe\">\n",
              "  <thead>\n",
              "    <tr style=\"text-align: right;\">\n",
              "      <th></th>\n",
              "      <th>Title</th>\n",
              "      <th>Date</th>\n",
              "      <th>Episode</th>\n",
              "    </tr>\n",
              "  </thead>\n",
              "  <tbody>\n",
              "    <tr>\n",
              "      <th>206</th>\n",
              "      <td>Full House</td>\n",
              "      <td>08/01/2020</td>\n",
              "      <td>3: O retorno de velhos hábitos</td>\n",
              "    </tr>\n",
              "    <tr>\n",
              "      <th>209</th>\n",
              "      <td>Karakai Jouzu no Takagi-san</td>\n",
              "      <td>06/01/2020</td>\n",
              "      <td>2: Episódio 4</td>\n",
              "    </tr>\n",
              "    <tr>\n",
              "      <th>207</th>\n",
              "      <td>Karakai Jouzu no Takagi-san</td>\n",
              "      <td>07/01/2020</td>\n",
              "      <td>2: Episódio 5</td>\n",
              "    </tr>\n",
              "    <tr>\n",
              "      <th>13</th>\n",
              "      <td>Greatest Events of WWII in Colour</td>\n",
              "      <td>12/10/2021</td>\n",
              "      <td>1: Pearl Harbor</td>\n",
              "    </tr>\n",
              "    <tr>\n",
              "      <th>304</th>\n",
              "      <td>The Fresh Prince of Bel-Air</td>\n",
              "      <td>09/11/2019</td>\n",
              "      <td>5: Papai por um dia</td>\n",
              "    </tr>\n",
              "  </tbody>\n",
              "</table>\n",
              "</div>\n",
              "      <button class=\"colab-df-convert\" onclick=\"convertToInteractive('df-be68fec0-73b2-4938-ab9e-dee7f4dc0225')\"\n",
              "              title=\"Convert this dataframe to an interactive table.\"\n",
              "              style=\"display:none;\">\n",
              "        \n",
              "  <svg xmlns=\"http://www.w3.org/2000/svg\" height=\"24px\"viewBox=\"0 0 24 24\"\n",
              "       width=\"24px\">\n",
              "    <path d=\"M0 0h24v24H0V0z\" fill=\"none\"/>\n",
              "    <path d=\"M18.56 5.44l.94 2.06.94-2.06 2.06-.94-2.06-.94-.94-2.06-.94 2.06-2.06.94zm-11 1L8.5 8.5l.94-2.06 2.06-.94-2.06-.94L8.5 2.5l-.94 2.06-2.06.94zm10 10l.94 2.06.94-2.06 2.06-.94-2.06-.94-.94-2.06-.94 2.06-2.06.94z\"/><path d=\"M17.41 7.96l-1.37-1.37c-.4-.4-.92-.59-1.43-.59-.52 0-1.04.2-1.43.59L10.3 9.45l-7.72 7.72c-.78.78-.78 2.05 0 2.83L4 21.41c.39.39.9.59 1.41.59.51 0 1.02-.2 1.41-.59l7.78-7.78 2.81-2.81c.8-.78.8-2.07 0-2.86zM5.41 20L4 18.59l7.72-7.72 1.47 1.35L5.41 20z\"/>\n",
              "  </svg>\n",
              "      </button>\n",
              "      \n",
              "  <style>\n",
              "    .colab-df-container {\n",
              "      display:flex;\n",
              "      flex-wrap:wrap;\n",
              "      gap: 12px;\n",
              "    }\n",
              "\n",
              "    .colab-df-convert {\n",
              "      background-color: #E8F0FE;\n",
              "      border: none;\n",
              "      border-radius: 50%;\n",
              "      cursor: pointer;\n",
              "      display: none;\n",
              "      fill: #1967D2;\n",
              "      height: 32px;\n",
              "      padding: 0 0 0 0;\n",
              "      width: 32px;\n",
              "    }\n",
              "\n",
              "    .colab-df-convert:hover {\n",
              "      background-color: #E2EBFA;\n",
              "      box-shadow: 0px 1px 2px rgba(60, 64, 67, 0.3), 0px 1px 3px 1px rgba(60, 64, 67, 0.15);\n",
              "      fill: #174EA6;\n",
              "    }\n",
              "\n",
              "    [theme=dark] .colab-df-convert {\n",
              "      background-color: #3B4455;\n",
              "      fill: #D2E3FC;\n",
              "    }\n",
              "\n",
              "    [theme=dark] .colab-df-convert:hover {\n",
              "      background-color: #434B5C;\n",
              "      box-shadow: 0px 1px 3px 1px rgba(0, 0, 0, 0.15);\n",
              "      filter: drop-shadow(0px 1px 2px rgba(0, 0, 0, 0.3));\n",
              "      fill: #FFFFFF;\n",
              "    }\n",
              "  </style>\n",
              "\n",
              "      <script>\n",
              "        const buttonEl =\n",
              "          document.querySelector('#df-be68fec0-73b2-4938-ab9e-dee7f4dc0225 button.colab-df-convert');\n",
              "        buttonEl.style.display =\n",
              "          google.colab.kernel.accessAllowed ? 'block' : 'none';\n",
              "\n",
              "        async function convertToInteractive(key) {\n",
              "          const element = document.querySelector('#df-be68fec0-73b2-4938-ab9e-dee7f4dc0225');\n",
              "          const dataTable =\n",
              "            await google.colab.kernel.invokeFunction('convertToInteractive',\n",
              "                                                     [key], {});\n",
              "          if (!dataTable) return;\n",
              "\n",
              "          const docLinkHtml = 'Like what you see? Visit the ' +\n",
              "            '<a target=\"_blank\" href=https://colab.research.google.com/notebooks/data_table.ipynb>data table notebook</a>'\n",
              "            + ' to learn more about interactive tables.';\n",
              "          element.innerHTML = '';\n",
              "          dataTable['output_type'] = 'display_data';\n",
              "          await google.colab.output.renderOutput(dataTable, element);\n",
              "          const docLink = document.createElement('div');\n",
              "          docLink.innerHTML = docLinkHtml;\n",
              "          element.appendChild(docLink);\n",
              "        }\n",
              "      </script>\n",
              "    </div>\n",
              "  </div>\n",
              "  "
            ],
            "text/plain": [
              "                                 Title        Date  \\\n",
              "206                         Full House  08/01/2020   \n",
              "209        Karakai Jouzu no Takagi-san  06/01/2020   \n",
              "207        Karakai Jouzu no Takagi-san  07/01/2020   \n",
              "13   Greatest Events of WWII in Colour  12/10/2021   \n",
              "304        The Fresh Prince of Bel-Air  09/11/2019   \n",
              "\n",
              "                            Episode  \n",
              "206  3: O retorno de velhos hábitos  \n",
              "209                   2: Episódio 4  \n",
              "207                   2: Episódio 5  \n",
              "13                  1: Pearl Harbor  \n",
              "304             5: Papai por um dia  "
            ]
          },
          "metadata": {},
          "execution_count": 89
        }
      ]
    },
    {
      "cell_type": "code",
      "source": [
        "from IPython.display import clear_output\n",
        "\n",
        "def get_id_from_imdb(title_name):\n",
        "  titles = spark.sql(f\"SELECT titleId FROM akas_df WHERE title = '{title_name}' AND types = 'imdbDisplay'\").toPandas()\n",
        "  titles = titles.drop_duplicates(subset=['titleId'])\n",
        "  titles = titles.reset_index(drop=True)\n",
        "\n",
        "  \"\"\"\n",
        "  ids_size = len(titles.index)\n",
        "\n",
        "  if ids_size > 1:\n",
        "    clear_output(wait=True)\n",
        "    print(f'Escolha um ID (index) para <<{title_name}>>:')\n",
        "    display(titles)\n",
        "    input_id = int(input('>> '))\n",
        "    id = titles['titleId'][titles.index[input_id]]\n",
        "  elif ids_size == 1:\n",
        "    id = titles['titleId'][titles.index[0]]\n",
        "  else:\n",
        "    id = None\n",
        "  \"\"\"\n",
        "\n",
        "  if len(titles) > 0:\n",
        "    id = titles['titleId'][titles.index[0]]\n",
        "  else:\n",
        "    id = None\n",
        "\n",
        "  title_id = id if id != None else np.nan\n",
        "  return title_id"
      ],
      "metadata": {
        "id": "hEEgwNPBBIg7"
      },
      "execution_count": 90,
      "outputs": []
    },
    {
      "cell_type": "code",
      "source": [
        "title_ids = [get_id_from_imdb(x) for x in original_titles]\n",
        "title_ids"
      ],
      "metadata": {
        "colab": {
          "base_uri": "https://localhost:8080/"
        },
        "id": "UCk8aKG8A_6z",
        "outputId": "0d0f40ac-16c4-4725-ae74-66543d5467c9"
      },
      "execution_count": 91,
      "outputs": [
        {
          "output_type": "execute_result",
          "data": {
            "text/plain": [
              "['tt0808506',\n",
              " 'tt0245429',\n",
              " 'tt5323662',\n",
              " 'tt1913273',\n",
              " 'tt0230011',\n",
              " 'tt0206512',\n",
              " 'tt2279373',\n",
              " 'tt12930534',\n",
              " 'tt0327597',\n",
              " 'tt2140203',\n",
              " 'tt0073174',\n",
              " 'tt0332379',\n",
              " 'tt12189310',\n",
              " 'tt8753660',\n",
              " 'tt9103932',\n",
              " 'tt11958648',\n",
              " 'tt4302938',\n",
              " 'tt6352180',\n",
              " 'tt4831682',\n",
              " 'tt6317962',\n",
              " 'tt2910906',\n",
              " 'tt0096283',\n",
              " 'tt5959952',\n",
              " 'tt0206501',\n",
              " 'tt0206501',\n",
              " 'tt1051155',\n",
              " 'tt11958344',\n",
              " 'tt4508902',\n",
              " 'tt1623288',\n",
              " 'tt2709768',\n",
              " 'tt6074794',\n",
              " 'tt16477402',\n",
              " 'tt0337593',\n",
              " 'tt8176578',\n",
              " 'tt11309924',\n",
              " 'tt7808344',\n",
              " 'tt7521400',\n",
              " 'tt0028478',\n",
              " 'tt1279024',\n",
              " 'tt1104001',\n",
              " 'tt0092359',\n",
              " 'tt0098800',\n",
              " 'tt1839494',\n",
              " 'tt5311514']"
            ]
          },
          "metadata": {},
          "execution_count": 91
        }
      ]
    },
    {
      "cell_type": "code",
      "source": [
        "def categorise(row):\n",
        "  for i in range(len(original_titles)):\n",
        "    if(row['Title'] == original_titles[i]):\n",
        "      return title_ids[i]\n",
        "  return np.nan"
      ],
      "metadata": {
        "id": "Z1JRoySKqF4U"
      },
      "execution_count": 92,
      "outputs": []
    },
    {
      "cell_type": "code",
      "source": [
        "netflix_df['titleId'] = netflix_df.apply(lambda row: categorise(row), axis=1)\n",
        "netflix_df.head()"
      ],
      "metadata": {
        "colab": {
          "base_uri": "https://localhost:8080/",
          "height": 206
        },
        "id": "-5NFC7YIqLDb",
        "outputId": "04b12a67-8a72-4886-8fa0-5e1abd904d15"
      },
      "execution_count": 93,
      "outputs": [
        {
          "output_type": "execute_result",
          "data": {
            "text/html": [
              "\n",
              "  <div id=\"df-ac819cc7-e8c2-4908-b8c1-41507b214cca\">\n",
              "    <div class=\"colab-df-container\">\n",
              "      <div>\n",
              "<style scoped>\n",
              "    .dataframe tbody tr th:only-of-type {\n",
              "        vertical-align: middle;\n",
              "    }\n",
              "\n",
              "    .dataframe tbody tr th {\n",
              "        vertical-align: top;\n",
              "    }\n",
              "\n",
              "    .dataframe thead th {\n",
              "        text-align: right;\n",
              "    }\n",
              "</style>\n",
              "<table border=\"1\" class=\"dataframe\">\n",
              "  <thead>\n",
              "    <tr style=\"text-align: right;\">\n",
              "      <th></th>\n",
              "      <th>Title</th>\n",
              "      <th>Date</th>\n",
              "      <th>Episode</th>\n",
              "      <th>titleId</th>\n",
              "    </tr>\n",
              "  </thead>\n",
              "  <tbody>\n",
              "    <tr>\n",
              "      <th>0</th>\n",
              "      <td>WWII in Color: Road to Victory</td>\n",
              "      <td>14/02/2022</td>\n",
              "      <td>1: Ocupação da Itália</td>\n",
              "      <td>tt16477402</td>\n",
              "    </tr>\n",
              "    <tr>\n",
              "      <th>1</th>\n",
              "      <td>WWII in Color: Road to Victory</td>\n",
              "      <td>08/02/2022</td>\n",
              "      <td>1: Batalha de Kursk</td>\n",
              "      <td>tt16477402</td>\n",
              "    </tr>\n",
              "    <tr>\n",
              "      <th>2</th>\n",
              "      <td>WWII in Color: Road to Victory</td>\n",
              "      <td>31/01/2022</td>\n",
              "      <td>1: Ocupação do Norte da África</td>\n",
              "      <td>tt16477402</td>\n",
              "    </tr>\n",
              "    <tr>\n",
              "      <th>3</th>\n",
              "      <td>WWII in Color: Road to Victory</td>\n",
              "      <td>30/12/2021</td>\n",
              "      <td>1: Batalha do Atlântico</td>\n",
              "      <td>tt16477402</td>\n",
              "    </tr>\n",
              "    <tr>\n",
              "      <th>4</th>\n",
              "      <td>WWII in Color: Road to Victory</td>\n",
              "      <td>27/12/2021</td>\n",
              "      <td>1: Dunquerque</td>\n",
              "      <td>tt16477402</td>\n",
              "    </tr>\n",
              "  </tbody>\n",
              "</table>\n",
              "</div>\n",
              "      <button class=\"colab-df-convert\" onclick=\"convertToInteractive('df-ac819cc7-e8c2-4908-b8c1-41507b214cca')\"\n",
              "              title=\"Convert this dataframe to an interactive table.\"\n",
              "              style=\"display:none;\">\n",
              "        \n",
              "  <svg xmlns=\"http://www.w3.org/2000/svg\" height=\"24px\"viewBox=\"0 0 24 24\"\n",
              "       width=\"24px\">\n",
              "    <path d=\"M0 0h24v24H0V0z\" fill=\"none\"/>\n",
              "    <path d=\"M18.56 5.44l.94 2.06.94-2.06 2.06-.94-2.06-.94-.94-2.06-.94 2.06-2.06.94zm-11 1L8.5 8.5l.94-2.06 2.06-.94-2.06-.94L8.5 2.5l-.94 2.06-2.06.94zm10 10l.94 2.06.94-2.06 2.06-.94-2.06-.94-.94-2.06-.94 2.06-2.06.94z\"/><path d=\"M17.41 7.96l-1.37-1.37c-.4-.4-.92-.59-1.43-.59-.52 0-1.04.2-1.43.59L10.3 9.45l-7.72 7.72c-.78.78-.78 2.05 0 2.83L4 21.41c.39.39.9.59 1.41.59.51 0 1.02-.2 1.41-.59l7.78-7.78 2.81-2.81c.8-.78.8-2.07 0-2.86zM5.41 20L4 18.59l7.72-7.72 1.47 1.35L5.41 20z\"/>\n",
              "  </svg>\n",
              "      </button>\n",
              "      \n",
              "  <style>\n",
              "    .colab-df-container {\n",
              "      display:flex;\n",
              "      flex-wrap:wrap;\n",
              "      gap: 12px;\n",
              "    }\n",
              "\n",
              "    .colab-df-convert {\n",
              "      background-color: #E8F0FE;\n",
              "      border: none;\n",
              "      border-radius: 50%;\n",
              "      cursor: pointer;\n",
              "      display: none;\n",
              "      fill: #1967D2;\n",
              "      height: 32px;\n",
              "      padding: 0 0 0 0;\n",
              "      width: 32px;\n",
              "    }\n",
              "\n",
              "    .colab-df-convert:hover {\n",
              "      background-color: #E2EBFA;\n",
              "      box-shadow: 0px 1px 2px rgba(60, 64, 67, 0.3), 0px 1px 3px 1px rgba(60, 64, 67, 0.15);\n",
              "      fill: #174EA6;\n",
              "    }\n",
              "\n",
              "    [theme=dark] .colab-df-convert {\n",
              "      background-color: #3B4455;\n",
              "      fill: #D2E3FC;\n",
              "    }\n",
              "\n",
              "    [theme=dark] .colab-df-convert:hover {\n",
              "      background-color: #434B5C;\n",
              "      box-shadow: 0px 1px 3px 1px rgba(0, 0, 0, 0.15);\n",
              "      filter: drop-shadow(0px 1px 2px rgba(0, 0, 0, 0.3));\n",
              "      fill: #FFFFFF;\n",
              "    }\n",
              "  </style>\n",
              "\n",
              "      <script>\n",
              "        const buttonEl =\n",
              "          document.querySelector('#df-ac819cc7-e8c2-4908-b8c1-41507b214cca button.colab-df-convert');\n",
              "        buttonEl.style.display =\n",
              "          google.colab.kernel.accessAllowed ? 'block' : 'none';\n",
              "\n",
              "        async function convertToInteractive(key) {\n",
              "          const element = document.querySelector('#df-ac819cc7-e8c2-4908-b8c1-41507b214cca');\n",
              "          const dataTable =\n",
              "            await google.colab.kernel.invokeFunction('convertToInteractive',\n",
              "                                                     [key], {});\n",
              "          if (!dataTable) return;\n",
              "\n",
              "          const docLinkHtml = 'Like what you see? Visit the ' +\n",
              "            '<a target=\"_blank\" href=https://colab.research.google.com/notebooks/data_table.ipynb>data table notebook</a>'\n",
              "            + ' to learn more about interactive tables.';\n",
              "          element.innerHTML = '';\n",
              "          dataTable['output_type'] = 'display_data';\n",
              "          await google.colab.output.renderOutput(dataTable, element);\n",
              "          const docLink = document.createElement('div');\n",
              "          docLink.innerHTML = docLinkHtml;\n",
              "          element.appendChild(docLink);\n",
              "        }\n",
              "      </script>\n",
              "    </div>\n",
              "  </div>\n",
              "  "
            ],
            "text/plain": [
              "                            Title        Date                         Episode  \\\n",
              "0  WWII in Color: Road to Victory  14/02/2022           1: Ocupação da Itália   \n",
              "1  WWII in Color: Road to Victory  08/02/2022             1: Batalha de Kursk   \n",
              "2  WWII in Color: Road to Victory  31/01/2022  1: Ocupação do Norte da África   \n",
              "3  WWII in Color: Road to Victory  30/12/2021         1: Batalha do Atlântico   \n",
              "4  WWII in Color: Road to Victory  27/12/2021                   1: Dunquerque   \n",
              "\n",
              "      titleId  \n",
              "0  tt16477402  \n",
              "1  tt16477402  \n",
              "2  tt16477402  \n",
              "3  tt16477402  \n",
              "4  tt16477402  "
            ]
          },
          "metadata": {},
          "execution_count": 93
        }
      ]
    },
    {
      "cell_type": "code",
      "source": [
        "netflix_df = netflix_df[['titleId', 'Title', 'Episode', 'Date']]"
      ],
      "metadata": {
        "id": "u04WDX6VrNmH"
      },
      "execution_count": 94,
      "outputs": []
    },
    {
      "cell_type": "code",
      "source": [
        "netflix_df.head()"
      ],
      "metadata": {
        "colab": {
          "base_uri": "https://localhost:8080/",
          "height": 206
        },
        "id": "sd5QRivLrYLo",
        "outputId": "c18c155c-a0e0-44a4-a449-737af7d0b89c"
      },
      "execution_count": 95,
      "outputs": [
        {
          "output_type": "execute_result",
          "data": {
            "text/html": [
              "\n",
              "  <div id=\"df-34b3b677-265d-4a75-b996-e22b932d3e98\">\n",
              "    <div class=\"colab-df-container\">\n",
              "      <div>\n",
              "<style scoped>\n",
              "    .dataframe tbody tr th:only-of-type {\n",
              "        vertical-align: middle;\n",
              "    }\n",
              "\n",
              "    .dataframe tbody tr th {\n",
              "        vertical-align: top;\n",
              "    }\n",
              "\n",
              "    .dataframe thead th {\n",
              "        text-align: right;\n",
              "    }\n",
              "</style>\n",
              "<table border=\"1\" class=\"dataframe\">\n",
              "  <thead>\n",
              "    <tr style=\"text-align: right;\">\n",
              "      <th></th>\n",
              "      <th>titleId</th>\n",
              "      <th>Title</th>\n",
              "      <th>Episode</th>\n",
              "      <th>Date</th>\n",
              "    </tr>\n",
              "  </thead>\n",
              "  <tbody>\n",
              "    <tr>\n",
              "      <th>0</th>\n",
              "      <td>tt16477402</td>\n",
              "      <td>WWII in Color: Road to Victory</td>\n",
              "      <td>1: Ocupação da Itália</td>\n",
              "      <td>14/02/2022</td>\n",
              "    </tr>\n",
              "    <tr>\n",
              "      <th>1</th>\n",
              "      <td>tt16477402</td>\n",
              "      <td>WWII in Color: Road to Victory</td>\n",
              "      <td>1: Batalha de Kursk</td>\n",
              "      <td>08/02/2022</td>\n",
              "    </tr>\n",
              "    <tr>\n",
              "      <th>2</th>\n",
              "      <td>tt16477402</td>\n",
              "      <td>WWII in Color: Road to Victory</td>\n",
              "      <td>1: Ocupação do Norte da África</td>\n",
              "      <td>31/01/2022</td>\n",
              "    </tr>\n",
              "    <tr>\n",
              "      <th>3</th>\n",
              "      <td>tt16477402</td>\n",
              "      <td>WWII in Color: Road to Victory</td>\n",
              "      <td>1: Batalha do Atlântico</td>\n",
              "      <td>30/12/2021</td>\n",
              "    </tr>\n",
              "    <tr>\n",
              "      <th>4</th>\n",
              "      <td>tt16477402</td>\n",
              "      <td>WWII in Color: Road to Victory</td>\n",
              "      <td>1: Dunquerque</td>\n",
              "      <td>27/12/2021</td>\n",
              "    </tr>\n",
              "  </tbody>\n",
              "</table>\n",
              "</div>\n",
              "      <button class=\"colab-df-convert\" onclick=\"convertToInteractive('df-34b3b677-265d-4a75-b996-e22b932d3e98')\"\n",
              "              title=\"Convert this dataframe to an interactive table.\"\n",
              "              style=\"display:none;\">\n",
              "        \n",
              "  <svg xmlns=\"http://www.w3.org/2000/svg\" height=\"24px\"viewBox=\"0 0 24 24\"\n",
              "       width=\"24px\">\n",
              "    <path d=\"M0 0h24v24H0V0z\" fill=\"none\"/>\n",
              "    <path d=\"M18.56 5.44l.94 2.06.94-2.06 2.06-.94-2.06-.94-.94-2.06-.94 2.06-2.06.94zm-11 1L8.5 8.5l.94-2.06 2.06-.94-2.06-.94L8.5 2.5l-.94 2.06-2.06.94zm10 10l.94 2.06.94-2.06 2.06-.94-2.06-.94-.94-2.06-.94 2.06-2.06.94z\"/><path d=\"M17.41 7.96l-1.37-1.37c-.4-.4-.92-.59-1.43-.59-.52 0-1.04.2-1.43.59L10.3 9.45l-7.72 7.72c-.78.78-.78 2.05 0 2.83L4 21.41c.39.39.9.59 1.41.59.51 0 1.02-.2 1.41-.59l7.78-7.78 2.81-2.81c.8-.78.8-2.07 0-2.86zM5.41 20L4 18.59l7.72-7.72 1.47 1.35L5.41 20z\"/>\n",
              "  </svg>\n",
              "      </button>\n",
              "      \n",
              "  <style>\n",
              "    .colab-df-container {\n",
              "      display:flex;\n",
              "      flex-wrap:wrap;\n",
              "      gap: 12px;\n",
              "    }\n",
              "\n",
              "    .colab-df-convert {\n",
              "      background-color: #E8F0FE;\n",
              "      border: none;\n",
              "      border-radius: 50%;\n",
              "      cursor: pointer;\n",
              "      display: none;\n",
              "      fill: #1967D2;\n",
              "      height: 32px;\n",
              "      padding: 0 0 0 0;\n",
              "      width: 32px;\n",
              "    }\n",
              "\n",
              "    .colab-df-convert:hover {\n",
              "      background-color: #E2EBFA;\n",
              "      box-shadow: 0px 1px 2px rgba(60, 64, 67, 0.3), 0px 1px 3px 1px rgba(60, 64, 67, 0.15);\n",
              "      fill: #174EA6;\n",
              "    }\n",
              "\n",
              "    [theme=dark] .colab-df-convert {\n",
              "      background-color: #3B4455;\n",
              "      fill: #D2E3FC;\n",
              "    }\n",
              "\n",
              "    [theme=dark] .colab-df-convert:hover {\n",
              "      background-color: #434B5C;\n",
              "      box-shadow: 0px 1px 3px 1px rgba(0, 0, 0, 0.15);\n",
              "      filter: drop-shadow(0px 1px 2px rgba(0, 0, 0, 0.3));\n",
              "      fill: #FFFFFF;\n",
              "    }\n",
              "  </style>\n",
              "\n",
              "      <script>\n",
              "        const buttonEl =\n",
              "          document.querySelector('#df-34b3b677-265d-4a75-b996-e22b932d3e98 button.colab-df-convert');\n",
              "        buttonEl.style.display =\n",
              "          google.colab.kernel.accessAllowed ? 'block' : 'none';\n",
              "\n",
              "        async function convertToInteractive(key) {\n",
              "          const element = document.querySelector('#df-34b3b677-265d-4a75-b996-e22b932d3e98');\n",
              "          const dataTable =\n",
              "            await google.colab.kernel.invokeFunction('convertToInteractive',\n",
              "                                                     [key], {});\n",
              "          if (!dataTable) return;\n",
              "\n",
              "          const docLinkHtml = 'Like what you see? Visit the ' +\n",
              "            '<a target=\"_blank\" href=https://colab.research.google.com/notebooks/data_table.ipynb>data table notebook</a>'\n",
              "            + ' to learn more about interactive tables.';\n",
              "          element.innerHTML = '';\n",
              "          dataTable['output_type'] = 'display_data';\n",
              "          await google.colab.output.renderOutput(dataTable, element);\n",
              "          const docLink = document.createElement('div');\n",
              "          docLink.innerHTML = docLinkHtml;\n",
              "          element.appendChild(docLink);\n",
              "        }\n",
              "      </script>\n",
              "    </div>\n",
              "  </div>\n",
              "  "
            ],
            "text/plain": [
              "      titleId                           Title                         Episode  \\\n",
              "0  tt16477402  WWII in Color: Road to Victory           1: Ocupação da Itália   \n",
              "1  tt16477402  WWII in Color: Road to Victory             1: Batalha de Kursk   \n",
              "2  tt16477402  WWII in Color: Road to Victory  1: Ocupação do Norte da África   \n",
              "3  tt16477402  WWII in Color: Road to Victory         1: Batalha do Atlântico   \n",
              "4  tt16477402  WWII in Color: Road to Victory                   1: Dunquerque   \n",
              "\n",
              "         Date  \n",
              "0  14/02/2022  \n",
              "1  08/02/2022  \n",
              "2  31/01/2022  \n",
              "3  30/12/2021  \n",
              "4  27/12/2021  "
            ]
          },
          "metadata": {},
          "execution_count": 95
        }
      ]
    },
    {
      "cell_type": "markdown",
      "source": [
        "## Imputar os episódios do título \"Nova\""
      ],
      "metadata": {
        "id": "Vgb-4faDqn77"
      }
    },
    {
      "cell_type": "code",
      "source": [
        "netflix_df.loc[132,'Episode'] = 'Death Dive to Saturn'\n",
        "netflix_df.loc[133,'Episode'] = 'Black Hole Apocalypse'"
      ],
      "metadata": {
        "id": "iC4qR54_pUyq"
      },
      "execution_count": 108,
      "outputs": []
    },
    {
      "cell_type": "code",
      "source": [
        "netflix_df.loc[[132, 133]]"
      ],
      "metadata": {
        "colab": {
          "base_uri": "https://localhost:8080/",
          "height": 112
        },
        "id": "W5t44N3bqdl7",
        "outputId": "6c72c588-a76d-43e6-fe6c-85560f020809"
      },
      "execution_count": 109,
      "outputs": [
        {
          "output_type": "execute_result",
          "data": {
            "text/html": [
              "\n",
              "  <div id=\"df-7fc2a2ae-0ba9-4ac5-afd1-697a7ab94a7c\">\n",
              "    <div class=\"colab-df-container\">\n",
              "      <div>\n",
              "<style scoped>\n",
              "    .dataframe tbody tr th:only-of-type {\n",
              "        vertical-align: middle;\n",
              "    }\n",
              "\n",
              "    .dataframe tbody tr th {\n",
              "        vertical-align: top;\n",
              "    }\n",
              "\n",
              "    .dataframe thead th {\n",
              "        text-align: right;\n",
              "    }\n",
              "</style>\n",
              "<table border=\"1\" class=\"dataframe\">\n",
              "  <thead>\n",
              "    <tr style=\"text-align: right;\">\n",
              "      <th></th>\n",
              "      <th>titleId</th>\n",
              "      <th>Title</th>\n",
              "      <th>Episode</th>\n",
              "      <th>Date</th>\n",
              "    </tr>\n",
              "  </thead>\n",
              "  <tbody>\n",
              "    <tr>\n",
              "      <th>132</th>\n",
              "      <td>tt0206501</td>\n",
              "      <td>Nova</td>\n",
              "      <td>Death Dive to Saturn</td>\n",
              "      <td>14/06/2020</td>\n",
              "    </tr>\n",
              "    <tr>\n",
              "      <th>133</th>\n",
              "      <td>tt0206501</td>\n",
              "      <td>Nova</td>\n",
              "      <td>Black Hole Apocalypse</td>\n",
              "      <td>13/06/2020</td>\n",
              "    </tr>\n",
              "  </tbody>\n",
              "</table>\n",
              "</div>\n",
              "      <button class=\"colab-df-convert\" onclick=\"convertToInteractive('df-7fc2a2ae-0ba9-4ac5-afd1-697a7ab94a7c')\"\n",
              "              title=\"Convert this dataframe to an interactive table.\"\n",
              "              style=\"display:none;\">\n",
              "        \n",
              "  <svg xmlns=\"http://www.w3.org/2000/svg\" height=\"24px\"viewBox=\"0 0 24 24\"\n",
              "       width=\"24px\">\n",
              "    <path d=\"M0 0h24v24H0V0z\" fill=\"none\"/>\n",
              "    <path d=\"M18.56 5.44l.94 2.06.94-2.06 2.06-.94-2.06-.94-.94-2.06-.94 2.06-2.06.94zm-11 1L8.5 8.5l.94-2.06 2.06-.94-2.06-.94L8.5 2.5l-.94 2.06-2.06.94zm10 10l.94 2.06.94-2.06 2.06-.94-2.06-.94-.94-2.06-.94 2.06-2.06.94z\"/><path d=\"M17.41 7.96l-1.37-1.37c-.4-.4-.92-.59-1.43-.59-.52 0-1.04.2-1.43.59L10.3 9.45l-7.72 7.72c-.78.78-.78 2.05 0 2.83L4 21.41c.39.39.9.59 1.41.59.51 0 1.02-.2 1.41-.59l7.78-7.78 2.81-2.81c.8-.78.8-2.07 0-2.86zM5.41 20L4 18.59l7.72-7.72 1.47 1.35L5.41 20z\"/>\n",
              "  </svg>\n",
              "      </button>\n",
              "      \n",
              "  <style>\n",
              "    .colab-df-container {\n",
              "      display:flex;\n",
              "      flex-wrap:wrap;\n",
              "      gap: 12px;\n",
              "    }\n",
              "\n",
              "    .colab-df-convert {\n",
              "      background-color: #E8F0FE;\n",
              "      border: none;\n",
              "      border-radius: 50%;\n",
              "      cursor: pointer;\n",
              "      display: none;\n",
              "      fill: #1967D2;\n",
              "      height: 32px;\n",
              "      padding: 0 0 0 0;\n",
              "      width: 32px;\n",
              "    }\n",
              "\n",
              "    .colab-df-convert:hover {\n",
              "      background-color: #E2EBFA;\n",
              "      box-shadow: 0px 1px 2px rgba(60, 64, 67, 0.3), 0px 1px 3px 1px rgba(60, 64, 67, 0.15);\n",
              "      fill: #174EA6;\n",
              "    }\n",
              "\n",
              "    [theme=dark] .colab-df-convert {\n",
              "      background-color: #3B4455;\n",
              "      fill: #D2E3FC;\n",
              "    }\n",
              "\n",
              "    [theme=dark] .colab-df-convert:hover {\n",
              "      background-color: #434B5C;\n",
              "      box-shadow: 0px 1px 3px 1px rgba(0, 0, 0, 0.15);\n",
              "      filter: drop-shadow(0px 1px 2px rgba(0, 0, 0, 0.3));\n",
              "      fill: #FFFFFF;\n",
              "    }\n",
              "  </style>\n",
              "\n",
              "      <script>\n",
              "        const buttonEl =\n",
              "          document.querySelector('#df-7fc2a2ae-0ba9-4ac5-afd1-697a7ab94a7c button.colab-df-convert');\n",
              "        buttonEl.style.display =\n",
              "          google.colab.kernel.accessAllowed ? 'block' : 'none';\n",
              "\n",
              "        async function convertToInteractive(key) {\n",
              "          const element = document.querySelector('#df-7fc2a2ae-0ba9-4ac5-afd1-697a7ab94a7c');\n",
              "          const dataTable =\n",
              "            await google.colab.kernel.invokeFunction('convertToInteractive',\n",
              "                                                     [key], {});\n",
              "          if (!dataTable) return;\n",
              "\n",
              "          const docLinkHtml = 'Like what you see? Visit the ' +\n",
              "            '<a target=\"_blank\" href=https://colab.research.google.com/notebooks/data_table.ipynb>data table notebook</a>'\n",
              "            + ' to learn more about interactive tables.';\n",
              "          element.innerHTML = '';\n",
              "          dataTable['output_type'] = 'display_data';\n",
              "          await google.colab.output.renderOutput(dataTable, element);\n",
              "          const docLink = document.createElement('div');\n",
              "          docLink.innerHTML = docLinkHtml;\n",
              "          element.appendChild(docLink);\n",
              "        }\n",
              "      </script>\n",
              "    </div>\n",
              "  </div>\n",
              "  "
            ],
            "text/plain": [
              "       titleId Title                Episode        Date\n",
              "132  tt0206501  Nova   Death Dive to Saturn  14/06/2020\n",
              "133  tt0206501  Nova  Black Hole Apocalypse  13/06/2020"
            ]
          },
          "metadata": {},
          "execution_count": 109
        }
      ]
    },
    {
      "cell_type": "markdown",
      "source": [
        "## Exportar dados"
      ],
      "metadata": {
        "id": "KMeU_Lp-q4iQ"
      }
    },
    {
      "cell_type": "code",
      "source": [
        "from google.colab import files\n",
        "\n",
        "netflix_df.to_csv('NetflixIMDb.csv', index=False, encoding = 'utf-8') \n",
        "files.download('NetflixIMDb.csv')"
      ],
      "metadata": {
        "colab": {
          "base_uri": "https://localhost:8080/",
          "height": 17
        },
        "id": "Y_NEZXPbqivg",
        "outputId": "cc754950-9379-41ed-9cf7-3964c33d7b8d"
      },
      "execution_count": 110,
      "outputs": [
        {
          "output_type": "display_data",
          "data": {
            "application/javascript": [
              "\n",
              "    async function download(id, filename, size) {\n",
              "      if (!google.colab.kernel.accessAllowed) {\n",
              "        return;\n",
              "      }\n",
              "      const div = document.createElement('div');\n",
              "      const label = document.createElement('label');\n",
              "      label.textContent = `Downloading \"${filename}\": `;\n",
              "      div.appendChild(label);\n",
              "      const progress = document.createElement('progress');\n",
              "      progress.max = size;\n",
              "      div.appendChild(progress);\n",
              "      document.body.appendChild(div);\n",
              "\n",
              "      const buffers = [];\n",
              "      let downloaded = 0;\n",
              "\n",
              "      const channel = await google.colab.kernel.comms.open(id);\n",
              "      // Send a message to notify the kernel that we're ready.\n",
              "      channel.send({})\n",
              "\n",
              "      for await (const message of channel.messages) {\n",
              "        // Send a message to notify the kernel that we're ready.\n",
              "        channel.send({})\n",
              "        if (message.buffers) {\n",
              "          for (const buffer of message.buffers) {\n",
              "            buffers.push(buffer);\n",
              "            downloaded += buffer.byteLength;\n",
              "            progress.value = downloaded;\n",
              "          }\n",
              "        }\n",
              "      }\n",
              "      const blob = new Blob(buffers, {type: 'application/binary'});\n",
              "      const a = document.createElement('a');\n",
              "      a.href = window.URL.createObjectURL(blob);\n",
              "      a.download = filename;\n",
              "      div.appendChild(a);\n",
              "      a.click();\n",
              "      div.remove();\n",
              "    }\n",
              "  "
            ],
            "text/plain": [
              "<IPython.core.display.Javascript object>"
            ]
          },
          "metadata": {}
        },
        {
          "output_type": "display_data",
          "data": {
            "application/javascript": [
              "download(\"download_90cd5f48-446a-4bdc-b1ed-5391f2e9828a\", \"NetflixIMDb.csv\", 27531)"
            ],
            "text/plain": [
              "<IPython.core.display.Javascript object>"
            ]
          },
          "metadata": {}
        }
      ]
    },
    {
      "cell_type": "markdown",
      "source": [
        "# Finalizar sessão do Spark"
      ],
      "metadata": {
        "id": "EMlX5rapXI8U"
      }
    },
    {
      "cell_type": "code",
      "source": [
        "spark.stop()"
      ],
      "metadata": {
        "id": "35g_QzVFXIbJ"
      },
      "execution_count": null,
      "outputs": []
    },
    {
      "cell_type": "markdown",
      "source": [
        "# Área de Testes"
      ],
      "metadata": {
        "id": "kyfJnlM-_nnR"
      }
    },
    {
      "cell_type": "code",
      "source": [
        "akas_df.filter(akas_df[\"title\"] == 'Greatest Events of WWII in Colour').show()"
      ],
      "metadata": {
        "colab": {
          "base_uri": "https://localhost:8080/"
        },
        "id": "RaIDm8VqpNZt",
        "outputId": "937da953-b02a-41ed-c94b-d888bd32fe27"
      },
      "execution_count": null,
      "outputs": [
        {
          "output_type": "stream",
          "name": "stdout",
          "text": [
            "+---------+--------+--------------------+------+--------+-----------+----------+---------------+\n",
            "|  titleId|ordering|               title|region|language|      types|attributes|isOriginalTitle|\n",
            "+---------+--------+--------------------+------+--------+-----------+----------+---------------+\n",
            "|tt9103932|      11|Greatest Events o...|    AU|      \\N|imdbDisplay|        \\N|              0|\n",
            "|tt9103932|      13|Greatest Events o...|    IN|      en|imdbDisplay|        \\N|              0|\n",
            "|tt9103932|      14|Greatest Events o...|    \\N|      \\N|   original|        \\N|              1|\n",
            "|tt9103932|       1|Greatest Events o...|    CA|      en|imdbDisplay|        \\N|              0|\n",
            "|tt9103932|       2|Greatest Events o...|    CA|      fr|imdbDisplay|        \\N|              0|\n",
            "|tt9103932|       4|Greatest Events o...|    US|      \\N|imdbDisplay|        \\N|              0|\n",
            "|tt9103932|       6|Greatest Events o...|    GB|      \\N|imdbDisplay|        \\N|              0|\n",
            "+---------+--------+--------------------+------+--------+-----------+----------+---------------+\n",
            "\n"
          ]
        }
      ]
    },
    {
      "cell_type": "code",
      "source": [
        "ratings_df.filter(ratings_df[\"tconst\"] == 'tt16477402').show()"
      ],
      "metadata": {
        "colab": {
          "base_uri": "https://localhost:8080/"
        },
        "id": "GrLYZiXgc68q",
        "outputId": "af24b269-6049-42f9-80e2-54d13efa83ed"
      },
      "execution_count": null,
      "outputs": [
        {
          "output_type": "stream",
          "name": "stdout",
          "text": [
            "+----------+-------------+--------+\n",
            "|    tconst|averageRating|numVotes|\n",
            "+----------+-------------+--------+\n",
            "|tt16477402|          8.2|    1227|\n",
            "+----------+-------------+--------+\n",
            "\n"
          ]
        }
      ]
    },
    {
      "cell_type": "code",
      "source": [
        "episode_df.filter(episode_df[\"parentTconst\"] == 'tt16477402').show()"
      ],
      "metadata": {
        "colab": {
          "base_uri": "https://localhost:8080/"
        },
        "id": "DO8o-YhHBFzX",
        "outputId": "574ce74c-6514-4a89-da80-0fcb912a0180"
      },
      "execution_count": null,
      "outputs": [
        {
          "output_type": "stream",
          "name": "stdout",
          "text": [
            "+----------+------------+------------+-------------+\n",
            "|    tconst|parentTconst|seasonNumber|episodeNumber|\n",
            "+----------+------------+------------+-------------+\n",
            "|tt16542412|  tt16477402|           1|            1|\n",
            "|tt16542414|  tt16477402|           1|            2|\n",
            "|tt16542592|  tt16477402|           1|            3|\n",
            "|tt16542830|  tt16477402|           1|            4|\n",
            "|tt16542940|  tt16477402|           1|            5|\n",
            "|tt16543116|  tt16477402|           1|            6|\n",
            "|tt16543212|  tt16477402|           1|            8|\n",
            "|tt16543224|  tt16477402|           1|            7|\n",
            "|tt16543454|  tt16477402|           1|            9|\n",
            "|tt16543590|  tt16477402|           1|           10|\n",
            "+----------+------------+------------+-------------+\n",
            "\n"
          ]
        }
      ]
    },
    {
      "cell_type": "code",
      "source": [
        "basics_df.filter(basics_df[\"tconst\"] == 'tt6756500').show()"
      ],
      "metadata": {
        "colab": {
          "base_uri": "https://localhost:8080/"
        },
        "id": "lfX23x-sBqCK",
        "outputId": "43b70cee-7fc3-49c8-a6ce-b0f5ffc2473f"
      },
      "execution_count": null,
      "outputs": [
        {
          "output_type": "stream",
          "name": "stdout",
          "text": [
            "+---------+---------+------------+-------------+-------+---------+-------+--------------+-----------+\n",
            "|   tconst|titleType|primaryTitle|originalTitle|isAdult|startYear|endYear|runtimeMinutes|     genres|\n",
            "+---------+---------+------------+-------------+-------+---------+-------+--------------+-----------+\n",
            "|tt6756500|    short|        NOVA|         NOVA|      0|     2015|     \\N|            \\N|Drama,Short|\n",
            "+---------+---------+------------+-------------+-------+---------+-------+--------------+-----------+\n",
            "\n"
          ]
        }
      ]
    },
    {
      "cell_type": "code",
      "source": [
        "# Registering a table\n",
        "akas_df.registerTempTable(\"akas_df\")\n",
        "spark.sql(\"SELECT * FROM akas_df\").show(3)"
      ],
      "metadata": {
        "colab": {
          "base_uri": "https://localhost:8080/"
        },
        "id": "5kT4xz2FqHRm",
        "outputId": "0aa6d07a-b66b-4cb1-d0bc-f13af357a33e"
      },
      "execution_count": 39,
      "outputs": [
        {
          "output_type": "stream",
          "name": "stderr",
          "text": [
            "/usr/local/lib/python3.7/dist-packages/pyspark/sql/dataframe.py:140: FutureWarning: Deprecated in 2.0, use createOrReplaceTempView instead.\n",
            "  FutureWarning\n"
          ]
        },
        {
          "output_type": "stream",
          "name": "stdout",
          "text": [
            "+---------+--------+--------------------+------+--------+-----------+-------------+---------------+\n",
            "|  titleId|ordering|               title|region|language|      types|   attributes|isOriginalTitle|\n",
            "+---------+--------+--------------------+------+--------+-----------+-------------+---------------+\n",
            "|tt0000001|       1|          Карменсіта|    UA|      \\N|imdbDisplay|           \\N|              0|\n",
            "|tt0000001|       2|          Carmencita|    DE|      \\N|         \\N|literal title|              0|\n",
            "|tt0000001|       3|Carmencita - span...|    HU|      \\N|imdbDisplay|           \\N|              0|\n",
            "+---------+--------+--------------------+------+--------+-----------+-------------+---------------+\n",
            "only showing top 3 rows\n",
            "\n"
          ]
        }
      ]
    },
    {
      "cell_type": "code",
      "source": [
        "df = spark.sql(\"SELECT titleId, title, region, language FROM akas_df WHERE title = 'Nova' AND types = 'imdbDisplay'\").toPandas()\n",
        "df"
      ],
      "metadata": {
        "colab": {
          "base_uri": "https://localhost:8080/",
          "height": 1000
        },
        "id": "2uSYSGaCqjjT",
        "outputId": "b3b95316-bfe9-4565-95b9-c7c9f1a051a5"
      },
      "execution_count": 85,
      "outputs": [
        {
          "output_type": "execute_result",
          "data": {
            "text/html": [
              "\n",
              "  <div id=\"df-0e439c23-26f9-434d-8be2-802fcb1139e3\">\n",
              "    <div class=\"colab-df-container\">\n",
              "      <div>\n",
              "<style scoped>\n",
              "    .dataframe tbody tr th:only-of-type {\n",
              "        vertical-align: middle;\n",
              "    }\n",
              "\n",
              "    .dataframe tbody tr th {\n",
              "        vertical-align: top;\n",
              "    }\n",
              "\n",
              "    .dataframe thead th {\n",
              "        text-align: right;\n",
              "    }\n",
              "</style>\n",
              "<table border=\"1\" class=\"dataframe\">\n",
              "  <thead>\n",
              "    <tr style=\"text-align: right;\">\n",
              "      <th></th>\n",
              "      <th>titleId</th>\n",
              "      <th>title</th>\n",
              "      <th>region</th>\n",
              "      <th>language</th>\n",
              "    </tr>\n",
              "  </thead>\n",
              "  <tbody>\n",
              "    <tr>\n",
              "      <th>0</th>\n",
              "      <td>tt0206501</td>\n",
              "      <td>Nova</td>\n",
              "      <td>CA</td>\n",
              "      <td>en</td>\n",
              "    </tr>\n",
              "    <tr>\n",
              "      <th>1</th>\n",
              "      <td>tt0206501</td>\n",
              "      <td>Nova</td>\n",
              "      <td>GB</td>\n",
              "      <td>\\N</td>\n",
              "    </tr>\n",
              "    <tr>\n",
              "      <th>2</th>\n",
              "      <td>tt0206501</td>\n",
              "      <td>Nova</td>\n",
              "      <td>US</td>\n",
              "      <td>\\N</td>\n",
              "    </tr>\n",
              "    <tr>\n",
              "      <th>3</th>\n",
              "      <td>tt0206501</td>\n",
              "      <td>Nova</td>\n",
              "      <td>AU</td>\n",
              "      <td>\\N</td>\n",
              "    </tr>\n",
              "    <tr>\n",
              "      <th>4</th>\n",
              "      <td>tt0206501</td>\n",
              "      <td>Nova</td>\n",
              "      <td>IT</td>\n",
              "      <td>\\N</td>\n",
              "    </tr>\n",
              "    <tr>\n",
              "      <th>5</th>\n",
              "      <td>tt0206501</td>\n",
              "      <td>Nova</td>\n",
              "      <td>IN</td>\n",
              "      <td>en</td>\n",
              "    </tr>\n",
              "    <tr>\n",
              "      <th>6</th>\n",
              "      <td>tt0206501</td>\n",
              "      <td>Nova</td>\n",
              "      <td>PH</td>\n",
              "      <td>en</td>\n",
              "    </tr>\n",
              "    <tr>\n",
              "      <th>7</th>\n",
              "      <td>tt0206501</td>\n",
              "      <td>Nova</td>\n",
              "      <td>DE</td>\n",
              "      <td>\\N</td>\n",
              "    </tr>\n",
              "    <tr>\n",
              "      <th>8</th>\n",
              "      <td>tt0206501</td>\n",
              "      <td>Nova</td>\n",
              "      <td>CA</td>\n",
              "      <td>fr</td>\n",
              "    </tr>\n",
              "    <tr>\n",
              "      <th>9</th>\n",
              "      <td>tt0206501</td>\n",
              "      <td>Nova</td>\n",
              "      <td>AE</td>\n",
              "      <td>\\N</td>\n",
              "    </tr>\n",
              "    <tr>\n",
              "      <th>10</th>\n",
              "      <td>tt1063009</td>\n",
              "      <td>Nova</td>\n",
              "      <td>US</td>\n",
              "      <td>\\N</td>\n",
              "    </tr>\n",
              "    <tr>\n",
              "      <th>11</th>\n",
              "      <td>tt10819022</td>\n",
              "      <td>Nova</td>\n",
              "      <td>US</td>\n",
              "      <td>\\N</td>\n",
              "    </tr>\n",
              "    <tr>\n",
              "      <th>12</th>\n",
              "      <td>tt10917808</td>\n",
              "      <td>Nova</td>\n",
              "      <td>US</td>\n",
              "      <td>\\N</td>\n",
              "    </tr>\n",
              "    <tr>\n",
              "      <th>13</th>\n",
              "      <td>tt11422992</td>\n",
              "      <td>Nova</td>\n",
              "      <td>US</td>\n",
              "      <td>\\N</td>\n",
              "    </tr>\n",
              "    <tr>\n",
              "      <th>14</th>\n",
              "      <td>tt11810294</td>\n",
              "      <td>Nova</td>\n",
              "      <td>AU</td>\n",
              "      <td>\\N</td>\n",
              "    </tr>\n",
              "    <tr>\n",
              "      <th>15</th>\n",
              "      <td>tt12005326</td>\n",
              "      <td>Nova</td>\n",
              "      <td>FR</td>\n",
              "      <td>\\N</td>\n",
              "    </tr>\n",
              "    <tr>\n",
              "      <th>16</th>\n",
              "      <td>tt12640062</td>\n",
              "      <td>Nova</td>\n",
              "      <td>US</td>\n",
              "      <td>\\N</td>\n",
              "    </tr>\n",
              "    <tr>\n",
              "      <th>17</th>\n",
              "      <td>tt12916046</td>\n",
              "      <td>Nova</td>\n",
              "      <td>US</td>\n",
              "      <td>\\N</td>\n",
              "    </tr>\n",
              "    <tr>\n",
              "      <th>18</th>\n",
              "      <td>tt1298791</td>\n",
              "      <td>Nova</td>\n",
              "      <td>MX</td>\n",
              "      <td>\\N</td>\n",
              "    </tr>\n",
              "    <tr>\n",
              "      <th>19</th>\n",
              "      <td>tt15341446</td>\n",
              "      <td>Nova</td>\n",
              "      <td>AU</td>\n",
              "      <td>\\N</td>\n",
              "    </tr>\n",
              "    <tr>\n",
              "      <th>20</th>\n",
              "      <td>tt15463012</td>\n",
              "      <td>Nova</td>\n",
              "      <td>US</td>\n",
              "      <td>\\N</td>\n",
              "    </tr>\n",
              "    <tr>\n",
              "      <th>21</th>\n",
              "      <td>tt2675964</td>\n",
              "      <td>Nova</td>\n",
              "      <td>US</td>\n",
              "      <td>\\N</td>\n",
              "    </tr>\n",
              "    <tr>\n",
              "      <th>22</th>\n",
              "      <td>tt2718732</td>\n",
              "      <td>Nova</td>\n",
              "      <td>ES</td>\n",
              "      <td>\\N</td>\n",
              "    </tr>\n",
              "    <tr>\n",
              "      <th>23</th>\n",
              "      <td>tt3587474</td>\n",
              "      <td>Nova</td>\n",
              "      <td>GB</td>\n",
              "      <td>\\N</td>\n",
              "    </tr>\n",
              "    <tr>\n",
              "      <th>24</th>\n",
              "      <td>tt4131518</td>\n",
              "      <td>Nova</td>\n",
              "      <td>XWW</td>\n",
              "      <td>en</td>\n",
              "    </tr>\n",
              "    <tr>\n",
              "      <th>25</th>\n",
              "      <td>tt4131518</td>\n",
              "      <td>Nova</td>\n",
              "      <td>GB</td>\n",
              "      <td>\\N</td>\n",
              "    </tr>\n",
              "    <tr>\n",
              "      <th>26</th>\n",
              "      <td>tt4131518</td>\n",
              "      <td>Nova</td>\n",
              "      <td>US</td>\n",
              "      <td>\\N</td>\n",
              "    </tr>\n",
              "    <tr>\n",
              "      <th>27</th>\n",
              "      <td>tt5132310</td>\n",
              "      <td>Nova</td>\n",
              "      <td>AU</td>\n",
              "      <td>\\N</td>\n",
              "    </tr>\n",
              "    <tr>\n",
              "      <th>28</th>\n",
              "      <td>tt5530134</td>\n",
              "      <td>Nova</td>\n",
              "      <td>US</td>\n",
              "      <td>\\N</td>\n",
              "    </tr>\n",
              "    <tr>\n",
              "      <th>29</th>\n",
              "      <td>tt5634660</td>\n",
              "      <td>Nova</td>\n",
              "      <td>US</td>\n",
              "      <td>\\N</td>\n",
              "    </tr>\n",
              "    <tr>\n",
              "      <th>30</th>\n",
              "      <td>tt6142776</td>\n",
              "      <td>Nova</td>\n",
              "      <td>US</td>\n",
              "      <td>\\N</td>\n",
              "    </tr>\n",
              "    <tr>\n",
              "      <th>31</th>\n",
              "      <td>tt6412402</td>\n",
              "      <td>Nova</td>\n",
              "      <td>AU</td>\n",
              "      <td>\\N</td>\n",
              "    </tr>\n",
              "    <tr>\n",
              "      <th>32</th>\n",
              "      <td>tt6766058</td>\n",
              "      <td>Nova</td>\n",
              "      <td>US</td>\n",
              "      <td>\\N</td>\n",
              "    </tr>\n",
              "    <tr>\n",
              "      <th>33</th>\n",
              "      <td>tt6972666</td>\n",
              "      <td>Nova</td>\n",
              "      <td>US</td>\n",
              "      <td>\\N</td>\n",
              "    </tr>\n",
              "  </tbody>\n",
              "</table>\n",
              "</div>\n",
              "      <button class=\"colab-df-convert\" onclick=\"convertToInteractive('df-0e439c23-26f9-434d-8be2-802fcb1139e3')\"\n",
              "              title=\"Convert this dataframe to an interactive table.\"\n",
              "              style=\"display:none;\">\n",
              "        \n",
              "  <svg xmlns=\"http://www.w3.org/2000/svg\" height=\"24px\"viewBox=\"0 0 24 24\"\n",
              "       width=\"24px\">\n",
              "    <path d=\"M0 0h24v24H0V0z\" fill=\"none\"/>\n",
              "    <path d=\"M18.56 5.44l.94 2.06.94-2.06 2.06-.94-2.06-.94-.94-2.06-.94 2.06-2.06.94zm-11 1L8.5 8.5l.94-2.06 2.06-.94-2.06-.94L8.5 2.5l-.94 2.06-2.06.94zm10 10l.94 2.06.94-2.06 2.06-.94-2.06-.94-.94-2.06-.94 2.06-2.06.94z\"/><path d=\"M17.41 7.96l-1.37-1.37c-.4-.4-.92-.59-1.43-.59-.52 0-1.04.2-1.43.59L10.3 9.45l-7.72 7.72c-.78.78-.78 2.05 0 2.83L4 21.41c.39.39.9.59 1.41.59.51 0 1.02-.2 1.41-.59l7.78-7.78 2.81-2.81c.8-.78.8-2.07 0-2.86zM5.41 20L4 18.59l7.72-7.72 1.47 1.35L5.41 20z\"/>\n",
              "  </svg>\n",
              "      </button>\n",
              "      \n",
              "  <style>\n",
              "    .colab-df-container {\n",
              "      display:flex;\n",
              "      flex-wrap:wrap;\n",
              "      gap: 12px;\n",
              "    }\n",
              "\n",
              "    .colab-df-convert {\n",
              "      background-color: #E8F0FE;\n",
              "      border: none;\n",
              "      border-radius: 50%;\n",
              "      cursor: pointer;\n",
              "      display: none;\n",
              "      fill: #1967D2;\n",
              "      height: 32px;\n",
              "      padding: 0 0 0 0;\n",
              "      width: 32px;\n",
              "    }\n",
              "\n",
              "    .colab-df-convert:hover {\n",
              "      background-color: #E2EBFA;\n",
              "      box-shadow: 0px 1px 2px rgba(60, 64, 67, 0.3), 0px 1px 3px 1px rgba(60, 64, 67, 0.15);\n",
              "      fill: #174EA6;\n",
              "    }\n",
              "\n",
              "    [theme=dark] .colab-df-convert {\n",
              "      background-color: #3B4455;\n",
              "      fill: #D2E3FC;\n",
              "    }\n",
              "\n",
              "    [theme=dark] .colab-df-convert:hover {\n",
              "      background-color: #434B5C;\n",
              "      box-shadow: 0px 1px 3px 1px rgba(0, 0, 0, 0.15);\n",
              "      filter: drop-shadow(0px 1px 2px rgba(0, 0, 0, 0.3));\n",
              "      fill: #FFFFFF;\n",
              "    }\n",
              "  </style>\n",
              "\n",
              "      <script>\n",
              "        const buttonEl =\n",
              "          document.querySelector('#df-0e439c23-26f9-434d-8be2-802fcb1139e3 button.colab-df-convert');\n",
              "        buttonEl.style.display =\n",
              "          google.colab.kernel.accessAllowed ? 'block' : 'none';\n",
              "\n",
              "        async function convertToInteractive(key) {\n",
              "          const element = document.querySelector('#df-0e439c23-26f9-434d-8be2-802fcb1139e3');\n",
              "          const dataTable =\n",
              "            await google.colab.kernel.invokeFunction('convertToInteractive',\n",
              "                                                     [key], {});\n",
              "          if (!dataTable) return;\n",
              "\n",
              "          const docLinkHtml = 'Like what you see? Visit the ' +\n",
              "            '<a target=\"_blank\" href=https://colab.research.google.com/notebooks/data_table.ipynb>data table notebook</a>'\n",
              "            + ' to learn more about interactive tables.';\n",
              "          element.innerHTML = '';\n",
              "          dataTable['output_type'] = 'display_data';\n",
              "          await google.colab.output.renderOutput(dataTable, element);\n",
              "          const docLink = document.createElement('div');\n",
              "          docLink.innerHTML = docLinkHtml;\n",
              "          element.appendChild(docLink);\n",
              "        }\n",
              "      </script>\n",
              "    </div>\n",
              "  </div>\n",
              "  "
            ],
            "text/plain": [
              "       titleId title region language\n",
              "0    tt0206501  Nova     CA       en\n",
              "1    tt0206501  Nova     GB       \\N\n",
              "2    tt0206501  Nova     US       \\N\n",
              "3    tt0206501  Nova     AU       \\N\n",
              "4    tt0206501  Nova     IT       \\N\n",
              "5    tt0206501  Nova     IN       en\n",
              "6    tt0206501  Nova     PH       en\n",
              "7    tt0206501  Nova     DE       \\N\n",
              "8    tt0206501  Nova     CA       fr\n",
              "9    tt0206501  Nova     AE       \\N\n",
              "10   tt1063009  Nova     US       \\N\n",
              "11  tt10819022  Nova     US       \\N\n",
              "12  tt10917808  Nova     US       \\N\n",
              "13  tt11422992  Nova     US       \\N\n",
              "14  tt11810294  Nova     AU       \\N\n",
              "15  tt12005326  Nova     FR       \\N\n",
              "16  tt12640062  Nova     US       \\N\n",
              "17  tt12916046  Nova     US       \\N\n",
              "18   tt1298791  Nova     MX       \\N\n",
              "19  tt15341446  Nova     AU       \\N\n",
              "20  tt15463012  Nova     US       \\N\n",
              "21   tt2675964  Nova     US       \\N\n",
              "22   tt2718732  Nova     ES       \\N\n",
              "23   tt3587474  Nova     GB       \\N\n",
              "24   tt4131518  Nova    XWW       en\n",
              "25   tt4131518  Nova     GB       \\N\n",
              "26   tt4131518  Nova     US       \\N\n",
              "27   tt5132310  Nova     AU       \\N\n",
              "28   tt5530134  Nova     US       \\N\n",
              "29   tt5634660  Nova     US       \\N\n",
              "30   tt6142776  Nova     US       \\N\n",
              "31   tt6412402  Nova     AU       \\N\n",
              "32   tt6766058  Nova     US       \\N\n",
              "33   tt6972666  Nova     US       \\N"
            ]
          },
          "metadata": {},
          "execution_count": 85
        }
      ]
    },
    {
      "cell_type": "code",
      "source": [
        "basics_df.registerTempTable(\"basics_df\")"
      ],
      "metadata": {
        "colab": {
          "base_uri": "https://localhost:8080/"
        },
        "id": "L2HNWXFm4QNb",
        "outputId": "4b7c1a13-8765-4627-b1cc-4fb705d9bc1b"
      },
      "execution_count": null,
      "outputs": [
        {
          "output_type": "stream",
          "name": "stderr",
          "text": [
            "/usr/local/lib/python3.7/dist-packages/pyspark/sql/dataframe.py:140: FutureWarning: Deprecated in 2.0, use createOrReplaceTempView instead.\n",
            "  FutureWarning\n"
          ]
        }
      ]
    },
    {
      "cell_type": "code",
      "source": [
        "spark.sql(\"SELECT * FROM basics_df WHERE primaryTitle LIKE '%Dunkirk%'\").toPandas()"
      ],
      "metadata": {
        "colab": {
          "base_uri": "https://localhost:8080/",
          "height": 424
        },
        "id": "NUNRiFi84OGA",
        "outputId": "d4cccd62-37f9-4d6b-94d9-a7049a4d034d"
      },
      "execution_count": null,
      "outputs": [
        {
          "output_type": "execute_result",
          "data": {
            "text/html": [
              "\n",
              "  <div id=\"df-b5c4fb1e-7c63-49ee-8d90-65135f215b43\">\n",
              "    <div class=\"colab-df-container\">\n",
              "      <div>\n",
              "<style scoped>\n",
              "    .dataframe tbody tr th:only-of-type {\n",
              "        vertical-align: middle;\n",
              "    }\n",
              "\n",
              "    .dataframe tbody tr th {\n",
              "        vertical-align: top;\n",
              "    }\n",
              "\n",
              "    .dataframe thead th {\n",
              "        text-align: right;\n",
              "    }\n",
              "</style>\n",
              "<table border=\"1\" class=\"dataframe\">\n",
              "  <thead>\n",
              "    <tr style=\"text-align: right;\">\n",
              "      <th></th>\n",
              "      <th>tconst</th>\n",
              "      <th>titleType</th>\n",
              "      <th>primaryTitle</th>\n",
              "      <th>originalTitle</th>\n",
              "      <th>isAdult</th>\n",
              "      <th>startYear</th>\n",
              "      <th>endYear</th>\n",
              "      <th>runtimeMinutes</th>\n",
              "      <th>genres</th>\n",
              "    </tr>\n",
              "  </thead>\n",
              "  <tbody>\n",
              "    <tr>\n",
              "      <th>0</th>\n",
              "      <td>tt0051565</td>\n",
              "      <td>movie</td>\n",
              "      <td>Dunkirk</td>\n",
              "      <td>Dunkirk</td>\n",
              "      <td>0</td>\n",
              "      <td>1958</td>\n",
              "      <td>\\N</td>\n",
              "      <td>135</td>\n",
              "      <td>Action,Drama,History</td>\n",
              "    </tr>\n",
              "    <tr>\n",
              "      <th>1</th>\n",
              "      <td>tt0058740</td>\n",
              "      <td>movie</td>\n",
              "      <td>Weekend at Dunkirk</td>\n",
              "      <td>Week-end à Zuydcoote</td>\n",
              "      <td>0</td>\n",
              "      <td>1964</td>\n",
              "      <td>\\N</td>\n",
              "      <td>119</td>\n",
              "      <td>Drama,War</td>\n",
              "    </tr>\n",
              "    <tr>\n",
              "      <th>2</th>\n",
              "      <td>tt0243228</td>\n",
              "      <td>video</td>\n",
              "      <td>Dunkirk: The Battle for France</td>\n",
              "      <td>Dunkirk: The Battle for France</td>\n",
              "      <td>0</td>\n",
              "      <td>1989</td>\n",
              "      <td>\\N</td>\n",
              "      <td>60</td>\n",
              "      <td>Documentary,History,War</td>\n",
              "    </tr>\n",
              "    <tr>\n",
              "      <th>3</th>\n",
              "      <td>tt0394875</td>\n",
              "      <td>tvEpisode</td>\n",
              "      <td>The Dunkirk Dilemma</td>\n",
              "      <td>The Dunkirk Dilemma</td>\n",
              "      <td>0</td>\n",
              "      <td>1997</td>\n",
              "      <td>\\N</td>\n",
              "      <td>60</td>\n",
              "      <td>\\N</td>\n",
              "    </tr>\n",
              "    <tr>\n",
              "      <th>4</th>\n",
              "      <td>tt0398983</td>\n",
              "      <td>tvMovie</td>\n",
              "      <td>Dunkirk: A Human Endeavour</td>\n",
              "      <td>Dunkirk: A Human Endeavour</td>\n",
              "      <td>0</td>\n",
              "      <td>1990</td>\n",
              "      <td>\\N</td>\n",
              "      <td>\\N</td>\n",
              "      <td>Documentary</td>\n",
              "    </tr>\n",
              "    <tr>\n",
              "      <th>...</th>\n",
              "      <td>...</td>\n",
              "      <td>...</td>\n",
              "      <td>...</td>\n",
              "      <td>...</td>\n",
              "      <td>...</td>\n",
              "      <td>...</td>\n",
              "      <td>...</td>\n",
              "      <td>...</td>\n",
              "      <td>...</td>\n",
              "    </tr>\n",
              "    <tr>\n",
              "      <th>69</th>\n",
              "      <td>tt9037796</td>\n",
              "      <td>tvEpisode</td>\n",
              "      <td>Dunkirk 1940: the Great Escape</td>\n",
              "      <td>Dunkirk 1940: the Great Escape</td>\n",
              "      <td>0</td>\n",
              "      <td>1990</td>\n",
              "      <td>\\N</td>\n",
              "      <td>\\N</td>\n",
              "      <td>Documentary,History</td>\n",
              "    </tr>\n",
              "    <tr>\n",
              "      <th>70</th>\n",
              "      <td>tt9194204</td>\n",
              "      <td>tvEpisode</td>\n",
              "      <td>Dunkirk</td>\n",
              "      <td>Dunkirk</td>\n",
              "      <td>0</td>\n",
              "      <td>2018</td>\n",
              "      <td>\\N</td>\n",
              "      <td>28</td>\n",
              "      <td>Comedy,Documentary,History</td>\n",
              "    </tr>\n",
              "    <tr>\n",
              "      <th>71</th>\n",
              "      <td>tt9339030</td>\n",
              "      <td>tvEpisode</td>\n",
              "      <td>America's Dunkirk Moment</td>\n",
              "      <td>America's Dunkirk Moment</td>\n",
              "      <td>0</td>\n",
              "      <td>2018</td>\n",
              "      <td>\\N</td>\n",
              "      <td>\\N</td>\n",
              "      <td>News</td>\n",
              "    </tr>\n",
              "    <tr>\n",
              "      <th>72</th>\n",
              "      <td>tt9494654</td>\n",
              "      <td>tvEpisode</td>\n",
              "      <td>Dunkirk</td>\n",
              "      <td>Dunkirk</td>\n",
              "      <td>0</td>\n",
              "      <td>2017</td>\n",
              "      <td>\\N</td>\n",
              "      <td>\\N</td>\n",
              "      <td>Comedy,Talk-Show</td>\n",
              "    </tr>\n",
              "    <tr>\n",
              "      <th>73</th>\n",
              "      <td>tt9826566</td>\n",
              "      <td>tvEpisode</td>\n",
              "      <td>Dunkirk</td>\n",
              "      <td>Dunkirk</td>\n",
              "      <td>0</td>\n",
              "      <td>2017</td>\n",
              "      <td>\\N</td>\n",
              "      <td>\\N</td>\n",
              "      <td>Reality-TV</td>\n",
              "    </tr>\n",
              "  </tbody>\n",
              "</table>\n",
              "<p>74 rows × 9 columns</p>\n",
              "</div>\n",
              "      <button class=\"colab-df-convert\" onclick=\"convertToInteractive('df-b5c4fb1e-7c63-49ee-8d90-65135f215b43')\"\n",
              "              title=\"Convert this dataframe to an interactive table.\"\n",
              "              style=\"display:none;\">\n",
              "        \n",
              "  <svg xmlns=\"http://www.w3.org/2000/svg\" height=\"24px\"viewBox=\"0 0 24 24\"\n",
              "       width=\"24px\">\n",
              "    <path d=\"M0 0h24v24H0V0z\" fill=\"none\"/>\n",
              "    <path d=\"M18.56 5.44l.94 2.06.94-2.06 2.06-.94-2.06-.94-.94-2.06-.94 2.06-2.06.94zm-11 1L8.5 8.5l.94-2.06 2.06-.94-2.06-.94L8.5 2.5l-.94 2.06-2.06.94zm10 10l.94 2.06.94-2.06 2.06-.94-2.06-.94-.94-2.06-.94 2.06-2.06.94z\"/><path d=\"M17.41 7.96l-1.37-1.37c-.4-.4-.92-.59-1.43-.59-.52 0-1.04.2-1.43.59L10.3 9.45l-7.72 7.72c-.78.78-.78 2.05 0 2.83L4 21.41c.39.39.9.59 1.41.59.51 0 1.02-.2 1.41-.59l7.78-7.78 2.81-2.81c.8-.78.8-2.07 0-2.86zM5.41 20L4 18.59l7.72-7.72 1.47 1.35L5.41 20z\"/>\n",
              "  </svg>\n",
              "      </button>\n",
              "      \n",
              "  <style>\n",
              "    .colab-df-container {\n",
              "      display:flex;\n",
              "      flex-wrap:wrap;\n",
              "      gap: 12px;\n",
              "    }\n",
              "\n",
              "    .colab-df-convert {\n",
              "      background-color: #E8F0FE;\n",
              "      border: none;\n",
              "      border-radius: 50%;\n",
              "      cursor: pointer;\n",
              "      display: none;\n",
              "      fill: #1967D2;\n",
              "      height: 32px;\n",
              "      padding: 0 0 0 0;\n",
              "      width: 32px;\n",
              "    }\n",
              "\n",
              "    .colab-df-convert:hover {\n",
              "      background-color: #E2EBFA;\n",
              "      box-shadow: 0px 1px 2px rgba(60, 64, 67, 0.3), 0px 1px 3px 1px rgba(60, 64, 67, 0.15);\n",
              "      fill: #174EA6;\n",
              "    }\n",
              "\n",
              "    [theme=dark] .colab-df-convert {\n",
              "      background-color: #3B4455;\n",
              "      fill: #D2E3FC;\n",
              "    }\n",
              "\n",
              "    [theme=dark] .colab-df-convert:hover {\n",
              "      background-color: #434B5C;\n",
              "      box-shadow: 0px 1px 3px 1px rgba(0, 0, 0, 0.15);\n",
              "      filter: drop-shadow(0px 1px 2px rgba(0, 0, 0, 0.3));\n",
              "      fill: #FFFFFF;\n",
              "    }\n",
              "  </style>\n",
              "\n",
              "      <script>\n",
              "        const buttonEl =\n",
              "          document.querySelector('#df-b5c4fb1e-7c63-49ee-8d90-65135f215b43 button.colab-df-convert');\n",
              "        buttonEl.style.display =\n",
              "          google.colab.kernel.accessAllowed ? 'block' : 'none';\n",
              "\n",
              "        async function convertToInteractive(key) {\n",
              "          const element = document.querySelector('#df-b5c4fb1e-7c63-49ee-8d90-65135f215b43');\n",
              "          const dataTable =\n",
              "            await google.colab.kernel.invokeFunction('convertToInteractive',\n",
              "                                                     [key], {});\n",
              "          if (!dataTable) return;\n",
              "\n",
              "          const docLinkHtml = 'Like what you see? Visit the ' +\n",
              "            '<a target=\"_blank\" href=https://colab.research.google.com/notebooks/data_table.ipynb>data table notebook</a>'\n",
              "            + ' to learn more about interactive tables.';\n",
              "          element.innerHTML = '';\n",
              "          dataTable['output_type'] = 'display_data';\n",
              "          await google.colab.output.renderOutput(dataTable, element);\n",
              "          const docLink = document.createElement('div');\n",
              "          docLink.innerHTML = docLinkHtml;\n",
              "          element.appendChild(docLink);\n",
              "        }\n",
              "      </script>\n",
              "    </div>\n",
              "  </div>\n",
              "  "
            ],
            "text/plain": [
              "       tconst  titleType                    primaryTitle  \\\n",
              "0   tt0051565      movie                         Dunkirk   \n",
              "1   tt0058740      movie              Weekend at Dunkirk   \n",
              "2   tt0243228      video  Dunkirk: The Battle for France   \n",
              "3   tt0394875  tvEpisode             The Dunkirk Dilemma   \n",
              "4   tt0398983    tvMovie      Dunkirk: A Human Endeavour   \n",
              "..        ...        ...                             ...   \n",
              "69  tt9037796  tvEpisode  Dunkirk 1940: the Great Escape   \n",
              "70  tt9194204  tvEpisode                         Dunkirk   \n",
              "71  tt9339030  tvEpisode        America's Dunkirk Moment   \n",
              "72  tt9494654  tvEpisode                         Dunkirk   \n",
              "73  tt9826566  tvEpisode                         Dunkirk   \n",
              "\n",
              "                     originalTitle isAdult startYear endYear runtimeMinutes  \\\n",
              "0                          Dunkirk       0      1958      \\N            135   \n",
              "1             Week-end à Zuydcoote       0      1964      \\N            119   \n",
              "2   Dunkirk: The Battle for France       0      1989      \\N             60   \n",
              "3              The Dunkirk Dilemma       0      1997      \\N             60   \n",
              "4       Dunkirk: A Human Endeavour       0      1990      \\N             \\N   \n",
              "..                             ...     ...       ...     ...            ...   \n",
              "69  Dunkirk 1940: the Great Escape       0      1990      \\N             \\N   \n",
              "70                         Dunkirk       0      2018      \\N             28   \n",
              "71        America's Dunkirk Moment       0      2018      \\N             \\N   \n",
              "72                         Dunkirk       0      2017      \\N             \\N   \n",
              "73                         Dunkirk       0      2017      \\N             \\N   \n",
              "\n",
              "                        genres  \n",
              "0         Action,Drama,History  \n",
              "1                    Drama,War  \n",
              "2      Documentary,History,War  \n",
              "3                           \\N  \n",
              "4                  Documentary  \n",
              "..                         ...  \n",
              "69         Documentary,History  \n",
              "70  Comedy,Documentary,History  \n",
              "71                        News  \n",
              "72            Comedy,Talk-Show  \n",
              "73                  Reality-TV  \n",
              "\n",
              "[74 rows x 9 columns]"
            ]
          },
          "metadata": {},
          "execution_count": 51
        }
      ]
    },
    {
      "cell_type": "code",
      "source": [
        "ratings_df.registerTempTable(\"ratings_df\")\n",
        "spark.sql(\"SELECT * FROM ratings_df WHERE tconst = 'tt0206501'\").show()"
      ],
      "metadata": {
        "colab": {
          "base_uri": "https://localhost:8080/"
        },
        "id": "flNtnLGQtHzC",
        "outputId": "dc91c258-9da8-404f-c8fe-6632bbb6353d"
      },
      "execution_count": 84,
      "outputs": [
        {
          "output_type": "stream",
          "name": "stderr",
          "text": [
            "/usr/local/lib/python3.7/dist-packages/pyspark/sql/dataframe.py:140: FutureWarning: Deprecated in 2.0, use createOrReplaceTempView instead.\n",
            "  FutureWarning\n"
          ]
        },
        {
          "output_type": "stream",
          "name": "stdout",
          "text": [
            "+---------+-------------+--------+\n",
            "|   tconst|averageRating|numVotes|\n",
            "+---------+-------------+--------+\n",
            "|tt0206501|          8.7|    2684|\n",
            "+---------+-------------+--------+\n",
            "\n"
          ]
        }
      ]
    },
    {
      "cell_type": "code",
      "source": [
        "ratings_df.filter(ratings_df[\"tconst\"] == 'tt7521400').show()"
      ],
      "metadata": {
        "colab": {
          "base_uri": "https://localhost:8080/"
        },
        "id": "NQSPe5jVsPf3",
        "outputId": "d4f1a464-a986-43d6-88cb-c92960e8c0cf"
      },
      "execution_count": 64,
      "outputs": [
        {
          "output_type": "stream",
          "name": "stdout",
          "text": [
            "+---------+-------------+--------+\n",
            "|   tconst|averageRating|numVotes|\n",
            "+---------+-------------+--------+\n",
            "|tt7521400|          6.4|     715|\n",
            "+---------+-------------+--------+\n",
            "\n"
          ]
        }
      ]
    },
    {
      "cell_type": "code",
      "source": [
        "spark.sql(\"SELECT * FROM \\\n",
        "ratings_df r INNER JOIN akas_df a \\\n",
        "  ON r.tconst = a.titleId \\\n",
        "WHERE r.tconst = 'tt12930534' \\\n",
        "\").show()"
      ],
      "metadata": {
        "colab": {
          "base_uri": "https://localhost:8080/"
        },
        "id": "LYb5GT2mtq-d",
        "outputId": "93d76c41-c92b-4192-b191-1f1499db0f99"
      },
      "execution_count": null,
      "outputs": [
        {
          "output_type": "stream",
          "name": "stdout",
          "text": [
            "+----------+-------------+--------+----------+--------+--------------------+------+--------+-----------+-----------+---------------+\n",
            "|    tconst|averageRating|numVotes|   titleId|ordering|               title|region|language|      types| attributes|isOriginalTitle|\n",
            "+----------+-------------+--------+----------+--------+--------------------+------+--------+-----------+-----------+---------------+\n",
            "|tt12930534|          7.8|    6546|tt12930534|      10|          Challenger|    AU|      \\N|         \\N|short title|              0|\n",
            "|tt12930534|          7.8|    6546|tt12930534|      11|Challenger: Ostat...|    PL|      \\N|imdbDisplay|         \\N|              0|\n",
            "|tt12930534|          7.8|    6546|tt12930534|       1|Challenger: Voo F...|    BR|      \\N|imdbDisplay|         \\N|              0|\n",
            "|tt12930534|          7.8|    6546|tt12930534|       2|Der letzte Flug d...|    DE|      \\N|imdbDisplay|         \\N|              0|\n",
            "|tt12930534|          7.8|    6546|tt12930534|       3|Challenger: Η Τελ...|    GR|      \\N|imdbDisplay|         \\N|              0|\n",
            "|tt12930534|          7.8|    6546|tt12930534|       4|'Челленджер': Пос...|    RU|      \\N|imdbDisplay|         \\N|              0|\n",
            "|tt12930534|          7.8|    6546|tt12930534|       5|Challenger: El vu...|    AR|      \\N|imdbDisplay|         \\N|              0|\n",
            "|tt12930534|          7.8|    6546|tt12930534|       6|Challenger: Den s...|    NO|      \\N|imdbDisplay|         \\N|              0|\n",
            "|tt12930534|          7.8|    6546|tt12930534|       7|Challenger: The F...|    \\N|      \\N|   original|         \\N|              1|\n",
            "|tt12930534|          7.8|    6546|tt12930534|       8|El último vuelo d...|    ES|      \\N|imdbDisplay|         \\N|              0|\n",
            "|tt12930534|          7.8|    6546|tt12930534|       9|Challenger: The F...|    US|      \\N|imdbDisplay|         \\N|              0|\n",
            "+----------+-------------+--------+----------+--------+--------------------+------+--------+-----------+-----------+---------------+\n",
            "\n"
          ]
        }
      ]
    }
  ]
}