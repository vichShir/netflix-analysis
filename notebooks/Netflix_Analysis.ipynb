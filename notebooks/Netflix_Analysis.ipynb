{
  "nbformat": 4,
  "nbformat_minor": 0,
  "metadata": {
    "colab": {
      "name": "Netflix_Analysis.ipynb",
      "provenance": [],
      "collapsed_sections": []
    },
    "kernelspec": {
      "name": "python3",
      "display_name": "Python 3"
    },
    "language_info": {
      "name": "python"
    }
  },
  "cells": [
    {
      "cell_type": "markdown",
      "source": [
        "# Importa as bibliotecas da aplicação"
      ],
      "metadata": {
        "id": "GZdf6UQFmWBc"
      }
    },
    {
      "cell_type": "code",
      "execution_count": 1,
      "metadata": {
        "colab": {
          "base_uri": "https://localhost:8080/"
        },
        "id": "4ZF-bp8tmKrU",
        "outputId": "458da40d-2e52-4bf5-fed2-3c75860114df"
      },
      "outputs": [
        {
          "output_type": "stream",
          "name": "stdout",
          "text": [
            "Collecting pyspark\n",
            "  Downloading pyspark-3.2.1.tar.gz (281.4 MB)\n",
            "\u001b[K     |████████████████████████████████| 281.4 MB 34 kB/s \n",
            "\u001b[?25hCollecting py4j==0.10.9.3\n",
            "  Downloading py4j-0.10.9.3-py2.py3-none-any.whl (198 kB)\n",
            "\u001b[K     |████████████████████████████████| 198 kB 51.9 MB/s \n",
            "\u001b[?25hBuilding wheels for collected packages: pyspark\n",
            "  Building wheel for pyspark (setup.py) ... \u001b[?25l\u001b[?25hdone\n",
            "  Created wheel for pyspark: filename=pyspark-3.2.1-py2.py3-none-any.whl size=281853642 sha256=52994019d3124774ea6670620c55d7dfcd07c146f8975d3ce50aa70b1ffc03ac\n",
            "  Stored in directory: /root/.cache/pip/wheels/9f/f5/07/7cd8017084dce4e93e84e92efd1e1d5334db05f2e83bcef74f\n",
            "Successfully built pyspark\n",
            "Installing collected packages: py4j, pyspark\n",
            "Successfully installed py4j-0.10.9.3 pyspark-3.2.1\n"
          ]
        }
      ],
      "source": [
        "!pip install pyspark"
      ]
    },
    {
      "cell_type": "code",
      "source": [
        "import sys\n",
        "\n",
        "from IPython.display import display\n",
        "from pyspark.conf import SparkConf\n",
        "from pyspark.sql import SparkSession\n",
        "from pyspark.context import SparkContext\n",
        "\n",
        "from IPython.display import HTML, display\n",
        "import tabulate\n",
        "\n",
        "import pandas as pd\n",
        "import numpy as np\n",
        "import re\n",
        "\n",
        "pd.options.display.max_colwidth = 100"
      ],
      "metadata": {
        "id": "ATv7AiE9mYH7"
      },
      "execution_count": 2,
      "outputs": []
    },
    {
      "cell_type": "markdown",
      "source": [
        "# Configura o ambiente de execução do Apache Spark"
      ],
      "metadata": {
        "id": "beLH-TvImcrT"
      }
    },
    {
      "cell_type": "code",
      "source": [
        "spark = SparkSession \\\n",
        "        .builder \\\n",
        "        .master(\"local[2]\") \\\n",
        "        .appName(\"Netflix Analysis\") \\\n",
        "        .config(\"spark.executor.cores\", \"2\") \\\n",
        "        .config(\"spark.executor.memory\", \"2g\") \\\n",
        "        .config(\"spark.cores.max\", \"4\") \\\n",
        "        .getOrCreate()"
      ],
      "metadata": {
        "id": "N6dEl90_mazn"
      },
      "execution_count": 3,
      "outputs": []
    },
    {
      "cell_type": "markdown",
      "source": [
        "# Realiza a leituras dos dados"
      ],
      "metadata": {
        "id": "W42QLeggmrPH"
      }
    },
    {
      "cell_type": "code",
      "source": [
        "!wget https://datasets.imdbws.com/title.akas.tsv.gz"
      ],
      "metadata": {
        "colab": {
          "base_uri": "https://localhost:8080/"
        },
        "id": "8u5YAkDympeD",
        "outputId": "32e9fae3-0efd-4f1f-95f7-9b85a5676e0d"
      },
      "execution_count": 4,
      "outputs": [
        {
          "output_type": "stream",
          "name": "stdout",
          "text": [
            "--2022-03-06 17:15:09--  https://datasets.imdbws.com/title.akas.tsv.gz\n",
            "Resolving datasets.imdbws.com (datasets.imdbws.com)... 65.8.249.127, 65.8.249.4, 65.8.249.41, ...\n",
            "Connecting to datasets.imdbws.com (datasets.imdbws.com)|65.8.249.127|:443... connected.\n",
            "HTTP request sent, awaiting response... 200 OK\n",
            "Length: 265207918 (253M) [binary/octet-stream]\n",
            "Saving to: ‘title.akas.tsv.gz’\n",
            "\n",
            "title.akas.tsv.gz   100%[===================>] 252.92M  52.7MB/s    in 5.0s    \n",
            "\n",
            "2022-03-06 17:15:15 (50.6 MB/s) - ‘title.akas.tsv.gz’ saved [265207918/265207918]\n",
            "\n"
          ]
        }
      ]
    },
    {
      "cell_type": "code",
      "source": [
        "!wget https://datasets.imdbws.com/title.ratings.tsv.gz"
      ],
      "metadata": {
        "colab": {
          "base_uri": "https://localhost:8080/"
        },
        "id": "lBONeGr3rtp9",
        "outputId": "3c97b5c9-f23f-4eb2-81bf-2943937401c1"
      },
      "execution_count": 5,
      "outputs": [
        {
          "output_type": "stream",
          "name": "stdout",
          "text": [
            "--2022-03-06 17:15:15--  https://datasets.imdbws.com/title.ratings.tsv.gz\n",
            "Resolving datasets.imdbws.com (datasets.imdbws.com)... 18.64.174.31, 18.64.174.128, 18.64.174.10, ...\n",
            "Connecting to datasets.imdbws.com (datasets.imdbws.com)|18.64.174.31|:443... connected.\n",
            "HTTP request sent, awaiting response... 200 OK\n",
            "Length: 6091797 (5.8M) [binary/octet-stream]\n",
            "Saving to: ‘title.ratings.tsv.gz’\n",
            "\n",
            "title.ratings.tsv.g 100%[===================>]   5.81M  10.2MB/s    in 0.6s    \n",
            "\n",
            "2022-03-06 17:15:15 (10.2 MB/s) - ‘title.ratings.tsv.gz’ saved [6091797/6091797]\n",
            "\n"
          ]
        }
      ]
    },
    {
      "cell_type": "code",
      "source": [
        "!wget https://datasets.imdbws.com/title.basics.tsv.gz"
      ],
      "metadata": {
        "colab": {
          "base_uri": "https://localhost:8080/"
        },
        "id": "JIKITDoG61aY",
        "outputId": "7b5888c3-6711-4082-b77c-1d0678ae31f7"
      },
      "execution_count": 6,
      "outputs": [
        {
          "output_type": "stream",
          "name": "stdout",
          "text": [
            "--2022-03-06 17:15:16--  https://datasets.imdbws.com/title.basics.tsv.gz\n",
            "Resolving datasets.imdbws.com (datasets.imdbws.com)... 18.64.174.31, 18.64.174.128, 18.64.174.10, ...\n",
            "Connecting to datasets.imdbws.com (datasets.imdbws.com)|18.64.174.31|:443... connected.\n",
            "HTTP request sent, awaiting response... 200 OK\n",
            "Length: 153141258 (146M) [binary/octet-stream]\n",
            "Saving to: ‘title.basics.tsv.gz’\n",
            "\n",
            "title.basics.tsv.gz 100%[===================>] 146.05M  47.3MB/s    in 3.2s    \n",
            "\n",
            "2022-03-06 17:15:19 (45.2 MB/s) - ‘title.basics.tsv.gz’ saved [153141258/153141258]\n",
            "\n"
          ]
        }
      ]
    },
    {
      "cell_type": "code",
      "source": [
        "!wget https://datasets.imdbws.com/title.episode.tsv.gz"
      ],
      "metadata": {
        "colab": {
          "base_uri": "https://localhost:8080/"
        },
        "id": "kE0wrM7L9BVK",
        "outputId": "14a90698-0c58-41e1-bbe1-d89144223a34"
      },
      "execution_count": 7,
      "outputs": [
        {
          "output_type": "stream",
          "name": "stdout",
          "text": [
            "--2022-03-06 17:15:19--  https://datasets.imdbws.com/title.episode.tsv.gz\n",
            "Resolving datasets.imdbws.com (datasets.imdbws.com)... 18.64.174.31, 18.64.174.128, 18.64.174.10, ...\n",
            "Connecting to datasets.imdbws.com (datasets.imdbws.com)|18.64.174.31|:443... connected.\n",
            "HTTP request sent, awaiting response... 200 OK\n",
            "Length: 35518152 (34M) [binary/octet-stream]\n",
            "Saving to: ‘title.episode.tsv.gz’\n",
            "\n",
            "title.episode.tsv.g 100%[===================>]  33.87M  53.5MB/s    in 0.6s    \n",
            "\n",
            "2022-03-06 17:15:20 (53.5 MB/s) - ‘title.episode.tsv.gz’ saved [35518152/35518152]\n",
            "\n"
          ]
        }
      ]
    },
    {
      "cell_type": "code",
      "source": [
        "!gzip -d title.akas.tsv.gz"
      ],
      "metadata": {
        "id": "bE4I14L2nL_y"
      },
      "execution_count": 8,
      "outputs": []
    },
    {
      "cell_type": "code",
      "source": [
        "!gzip -d title.ratings.tsv.gz"
      ],
      "metadata": {
        "id": "eSgvpEAlr16U"
      },
      "execution_count": 9,
      "outputs": []
    },
    {
      "cell_type": "code",
      "source": [
        "!gzip -d title.basics.tsv.gz"
      ],
      "metadata": {
        "id": "vRTU-tUB7lqU"
      },
      "execution_count": 10,
      "outputs": []
    },
    {
      "cell_type": "code",
      "source": [
        "!gzip -d title.episode.tsv.gz"
      ],
      "metadata": {
        "id": "FDckIQ_G9EpS"
      },
      "execution_count": 11,
      "outputs": []
    },
    {
      "cell_type": "code",
      "source": [
        "!ls"
      ],
      "metadata": {
        "colab": {
          "base_uri": "https://localhost:8080/"
        },
        "id": "ffFbmNf6nTAi",
        "outputId": "844b6daa-1e69-44b0-84e5-1e9981f14ea2"
      },
      "execution_count": 12,
      "outputs": [
        {
          "output_type": "stream",
          "name": "stdout",
          "text": [
            "sample_data\ttitle.basics.tsv   title.ratings.tsv\n",
            "title.akas.tsv\ttitle.episode.tsv\n"
          ]
        }
      ]
    },
    {
      "cell_type": "code",
      "source": [
        "# IMDb Title Akas DataFrame\n",
        "akas_df = spark.read.options(delimiter='\\t').option(\"header\", True).csv(\"/content/title.akas.tsv\")"
      ],
      "metadata": {
        "id": "De0XUWN8m6NP"
      },
      "execution_count": 13,
      "outputs": []
    },
    {
      "cell_type": "code",
      "source": [
        "# IMDb Title Ratings DataFrame\n",
        "ratings_df = spark.read.options(delimiter='\\t').option(\"header\", True).csv(\"/content/title.ratings.tsv\")"
      ],
      "metadata": {
        "id": "LKVr6AKer6-Y"
      },
      "execution_count": 14,
      "outputs": []
    },
    {
      "cell_type": "code",
      "source": [
        "# IMDb Title Basics DataFrame\n",
        "basics_df = spark.read.options(delimiter='\\t').option(\"header\", True).csv(\"/content/title.basics.tsv\")"
      ],
      "metadata": {
        "id": "O9HX5BDz74cY"
      },
      "execution_count": 15,
      "outputs": []
    },
    {
      "cell_type": "code",
      "source": [
        "# IMDb Title Episode DataFrame\n",
        "episode_df = spark.read.options(delimiter='\\t').option(\"header\", True).csv(\"/content/title.episode.tsv\")"
      ],
      "metadata": {
        "id": "b5QyrQJf9JjX"
      },
      "execution_count": 16,
      "outputs": []
    },
    {
      "cell_type": "code",
      "source": [
        "# Netflix Streaming History DataFrame\n",
        "netflix_df = pd.read_csv('https://raw.githubusercontent.com/vichShir/netflix-analysis/master/data/NetflixViewingHistory2022.csv')"
      ],
      "metadata": {
        "id": "wjFUkKPZ-0Q1"
      },
      "execution_count": 17,
      "outputs": []
    },
    {
      "cell_type": "markdown",
      "source": [
        "# Confere a estrutura dos dados"
      ],
      "metadata": {
        "id": "tSLdRxJW5e7D"
      }
    },
    {
      "cell_type": "code",
      "source": [
        "print(type(akas_df))\n",
        "print(type(ratings_df))\n",
        "print(type(basics_df))\n",
        "print(type(episode_df))"
      ],
      "metadata": {
        "colab": {
          "base_uri": "https://localhost:8080/"
        },
        "id": "LobsFDMynpgQ",
        "outputId": "386424c3-482f-4e40-aa4f-ab88aac3ae7b"
      },
      "execution_count": 18,
      "outputs": [
        {
          "output_type": "stream",
          "name": "stdout",
          "text": [
            "<class 'pyspark.sql.dataframe.DataFrame'>\n",
            "<class 'pyspark.sql.dataframe.DataFrame'>\n",
            "<class 'pyspark.sql.dataframe.DataFrame'>\n",
            "<class 'pyspark.sql.dataframe.DataFrame'>\n"
          ]
        }
      ]
    },
    {
      "cell_type": "code",
      "source": [
        "akas_df.printSchema()"
      ],
      "metadata": {
        "colab": {
          "base_uri": "https://localhost:8080/"
        },
        "id": "l5wO9u0Dnrlb",
        "outputId": "8c250660-9372-4958-83bb-71d5c73efd10"
      },
      "execution_count": 19,
      "outputs": [
        {
          "output_type": "stream",
          "name": "stdout",
          "text": [
            "root\n",
            " |-- titleId: string (nullable = true)\n",
            " |-- ordering: string (nullable = true)\n",
            " |-- title: string (nullable = true)\n",
            " |-- region: string (nullable = true)\n",
            " |-- language: string (nullable = true)\n",
            " |-- types: string (nullable = true)\n",
            " |-- attributes: string (nullable = true)\n",
            " |-- isOriginalTitle: string (nullable = true)\n",
            "\n"
          ]
        }
      ]
    },
    {
      "cell_type": "code",
      "source": [
        "ratings_df.printSchema()"
      ],
      "metadata": {
        "colab": {
          "base_uri": "https://localhost:8080/"
        },
        "id": "eMOxBrWrsBot",
        "outputId": "50361080-ed25-405f-fa69-ca0a06d4bfe8"
      },
      "execution_count": 20,
      "outputs": [
        {
          "output_type": "stream",
          "name": "stdout",
          "text": [
            "root\n",
            " |-- tconst: string (nullable = true)\n",
            " |-- averageRating: string (nullable = true)\n",
            " |-- numVotes: string (nullable = true)\n",
            "\n"
          ]
        }
      ]
    },
    {
      "cell_type": "code",
      "source": [
        "basics_df.printSchema()"
      ],
      "metadata": {
        "colab": {
          "base_uri": "https://localhost:8080/"
        },
        "id": "W6qK1L_g8EIo",
        "outputId": "9d4a8874-39e4-42f9-9c5a-bce62177c689"
      },
      "execution_count": 21,
      "outputs": [
        {
          "output_type": "stream",
          "name": "stdout",
          "text": [
            "root\n",
            " |-- tconst: string (nullable = true)\n",
            " |-- titleType: string (nullable = true)\n",
            " |-- primaryTitle: string (nullable = true)\n",
            " |-- originalTitle: string (nullable = true)\n",
            " |-- isAdult: string (nullable = true)\n",
            " |-- startYear: string (nullable = true)\n",
            " |-- endYear: string (nullable = true)\n",
            " |-- runtimeMinutes: string (nullable = true)\n",
            " |-- genres: string (nullable = true)\n",
            "\n"
          ]
        }
      ]
    },
    {
      "cell_type": "code",
      "source": [
        "episode_df.printSchema()"
      ],
      "metadata": {
        "colab": {
          "base_uri": "https://localhost:8080/"
        },
        "id": "a57Tr01G9QuZ",
        "outputId": "9e04744e-6904-4a97-e8b7-315287989976"
      },
      "execution_count": 22,
      "outputs": [
        {
          "output_type": "stream",
          "name": "stdout",
          "text": [
            "root\n",
            " |-- tconst: string (nullable = true)\n",
            " |-- parentTconst: string (nullable = true)\n",
            " |-- seasonNumber: string (nullable = true)\n",
            " |-- episodeNumber: string (nullable = true)\n",
            "\n"
          ]
        }
      ]
    },
    {
      "cell_type": "code",
      "source": [
        "netflix_df.info()"
      ],
      "metadata": {
        "colab": {
          "base_uri": "https://localhost:8080/"
        },
        "id": "pbI8xQNEAGmv",
        "outputId": "b9aa0e6a-df1d-41a6-a17f-61960053a5d2"
      },
      "execution_count": 23,
      "outputs": [
        {
          "output_type": "stream",
          "name": "stdout",
          "text": [
            "<class 'pandas.core.frame.DataFrame'>\n",
            "RangeIndex: 450 entries, 0 to 449\n",
            "Data columns (total 2 columns):\n",
            " #   Column  Non-Null Count  Dtype \n",
            "---  ------  --------------  ----- \n",
            " 0   Title   450 non-null    object\n",
            " 1   Date    450 non-null    object\n",
            "dtypes: object(2)\n",
            "memory usage: 7.2+ KB\n"
          ]
        }
      ]
    },
    {
      "cell_type": "code",
      "source": [
        "sum(netflix_df.duplicated())"
      ],
      "metadata": {
        "colab": {
          "base_uri": "https://localhost:8080/"
        },
        "id": "Qd2MyDVpABO6",
        "outputId": "4ce470dd-30da-4025-ee94-c3a38b4ff6b1"
      },
      "execution_count": 24,
      "outputs": [
        {
          "output_type": "execute_result",
          "data": {
            "text/plain": [
              "0"
            ]
          },
          "metadata": {},
          "execution_count": 24
        }
      ]
    },
    {
      "cell_type": "markdown",
      "source": [
        "# Pré-visualização dos dados"
      ],
      "metadata": {
        "id": "AQ4SO8LX5x4Y"
      }
    },
    {
      "cell_type": "code",
      "source": [
        "# IMDb Title Akas DataFrame\n",
        "display(akas_df.limit(5).toPandas())"
      ],
      "metadata": {
        "colab": {
          "base_uri": "https://localhost:8080/",
          "height": 206
        },
        "id": "aTh8mXZKnxRP",
        "outputId": "cffc5d16-31d6-4711-ca26-4408b1a8bf1e"
      },
      "execution_count": 25,
      "outputs": [
        {
          "output_type": "display_data",
          "data": {
            "text/html": [
              "\n",
              "  <div id=\"df-9f491b22-a308-4191-9b01-c013591b4935\">\n",
              "    <div class=\"colab-df-container\">\n",
              "      <div>\n",
              "<style scoped>\n",
              "    .dataframe tbody tr th:only-of-type {\n",
              "        vertical-align: middle;\n",
              "    }\n",
              "\n",
              "    .dataframe tbody tr th {\n",
              "        vertical-align: top;\n",
              "    }\n",
              "\n",
              "    .dataframe thead th {\n",
              "        text-align: right;\n",
              "    }\n",
              "</style>\n",
              "<table border=\"1\" class=\"dataframe\">\n",
              "  <thead>\n",
              "    <tr style=\"text-align: right;\">\n",
              "      <th></th>\n",
              "      <th>titleId</th>\n",
              "      <th>ordering</th>\n",
              "      <th>title</th>\n",
              "      <th>region</th>\n",
              "      <th>language</th>\n",
              "      <th>types</th>\n",
              "      <th>attributes</th>\n",
              "      <th>isOriginalTitle</th>\n",
              "    </tr>\n",
              "  </thead>\n",
              "  <tbody>\n",
              "    <tr>\n",
              "      <th>0</th>\n",
              "      <td>tt0000001</td>\n",
              "      <td>1</td>\n",
              "      <td>Карменсіта</td>\n",
              "      <td>UA</td>\n",
              "      <td>\\N</td>\n",
              "      <td>imdbDisplay</td>\n",
              "      <td>\\N</td>\n",
              "      <td>0</td>\n",
              "    </tr>\n",
              "    <tr>\n",
              "      <th>1</th>\n",
              "      <td>tt0000001</td>\n",
              "      <td>2</td>\n",
              "      <td>Carmencita</td>\n",
              "      <td>DE</td>\n",
              "      <td>\\N</td>\n",
              "      <td>\\N</td>\n",
              "      <td>literal title</td>\n",
              "      <td>0</td>\n",
              "    </tr>\n",
              "    <tr>\n",
              "      <th>2</th>\n",
              "      <td>tt0000001</td>\n",
              "      <td>3</td>\n",
              "      <td>Carmencita - spanyol tánc</td>\n",
              "      <td>HU</td>\n",
              "      <td>\\N</td>\n",
              "      <td>imdbDisplay</td>\n",
              "      <td>\\N</td>\n",
              "      <td>0</td>\n",
              "    </tr>\n",
              "    <tr>\n",
              "      <th>3</th>\n",
              "      <td>tt0000001</td>\n",
              "      <td>4</td>\n",
              "      <td>Καρμενσίτα</td>\n",
              "      <td>GR</td>\n",
              "      <td>\\N</td>\n",
              "      <td>imdbDisplay</td>\n",
              "      <td>\\N</td>\n",
              "      <td>0</td>\n",
              "    </tr>\n",
              "    <tr>\n",
              "      <th>4</th>\n",
              "      <td>tt0000001</td>\n",
              "      <td>5</td>\n",
              "      <td>Карменсита</td>\n",
              "      <td>RU</td>\n",
              "      <td>\\N</td>\n",
              "      <td>imdbDisplay</td>\n",
              "      <td>\\N</td>\n",
              "      <td>0</td>\n",
              "    </tr>\n",
              "  </tbody>\n",
              "</table>\n",
              "</div>\n",
              "      <button class=\"colab-df-convert\" onclick=\"convertToInteractive('df-9f491b22-a308-4191-9b01-c013591b4935')\"\n",
              "              title=\"Convert this dataframe to an interactive table.\"\n",
              "              style=\"display:none;\">\n",
              "        \n",
              "  <svg xmlns=\"http://www.w3.org/2000/svg\" height=\"24px\"viewBox=\"0 0 24 24\"\n",
              "       width=\"24px\">\n",
              "    <path d=\"M0 0h24v24H0V0z\" fill=\"none\"/>\n",
              "    <path d=\"M18.56 5.44l.94 2.06.94-2.06 2.06-.94-2.06-.94-.94-2.06-.94 2.06-2.06.94zm-11 1L8.5 8.5l.94-2.06 2.06-.94-2.06-.94L8.5 2.5l-.94 2.06-2.06.94zm10 10l.94 2.06.94-2.06 2.06-.94-2.06-.94-.94-2.06-.94 2.06-2.06.94z\"/><path d=\"M17.41 7.96l-1.37-1.37c-.4-.4-.92-.59-1.43-.59-.52 0-1.04.2-1.43.59L10.3 9.45l-7.72 7.72c-.78.78-.78 2.05 0 2.83L4 21.41c.39.39.9.59 1.41.59.51 0 1.02-.2 1.41-.59l7.78-7.78 2.81-2.81c.8-.78.8-2.07 0-2.86zM5.41 20L4 18.59l7.72-7.72 1.47 1.35L5.41 20z\"/>\n",
              "  </svg>\n",
              "      </button>\n",
              "      \n",
              "  <style>\n",
              "    .colab-df-container {\n",
              "      display:flex;\n",
              "      flex-wrap:wrap;\n",
              "      gap: 12px;\n",
              "    }\n",
              "\n",
              "    .colab-df-convert {\n",
              "      background-color: #E8F0FE;\n",
              "      border: none;\n",
              "      border-radius: 50%;\n",
              "      cursor: pointer;\n",
              "      display: none;\n",
              "      fill: #1967D2;\n",
              "      height: 32px;\n",
              "      padding: 0 0 0 0;\n",
              "      width: 32px;\n",
              "    }\n",
              "\n",
              "    .colab-df-convert:hover {\n",
              "      background-color: #E2EBFA;\n",
              "      box-shadow: 0px 1px 2px rgba(60, 64, 67, 0.3), 0px 1px 3px 1px rgba(60, 64, 67, 0.15);\n",
              "      fill: #174EA6;\n",
              "    }\n",
              "\n",
              "    [theme=dark] .colab-df-convert {\n",
              "      background-color: #3B4455;\n",
              "      fill: #D2E3FC;\n",
              "    }\n",
              "\n",
              "    [theme=dark] .colab-df-convert:hover {\n",
              "      background-color: #434B5C;\n",
              "      box-shadow: 0px 1px 3px 1px rgba(0, 0, 0, 0.15);\n",
              "      filter: drop-shadow(0px 1px 2px rgba(0, 0, 0, 0.3));\n",
              "      fill: #FFFFFF;\n",
              "    }\n",
              "  </style>\n",
              "\n",
              "      <script>\n",
              "        const buttonEl =\n",
              "          document.querySelector('#df-9f491b22-a308-4191-9b01-c013591b4935 button.colab-df-convert');\n",
              "        buttonEl.style.display =\n",
              "          google.colab.kernel.accessAllowed ? 'block' : 'none';\n",
              "\n",
              "        async function convertToInteractive(key) {\n",
              "          const element = document.querySelector('#df-9f491b22-a308-4191-9b01-c013591b4935');\n",
              "          const dataTable =\n",
              "            await google.colab.kernel.invokeFunction('convertToInteractive',\n",
              "                                                     [key], {});\n",
              "          if (!dataTable) return;\n",
              "\n",
              "          const docLinkHtml = 'Like what you see? Visit the ' +\n",
              "            '<a target=\"_blank\" href=https://colab.research.google.com/notebooks/data_table.ipynb>data table notebook</a>'\n",
              "            + ' to learn more about interactive tables.';\n",
              "          element.innerHTML = '';\n",
              "          dataTable['output_type'] = 'display_data';\n",
              "          await google.colab.output.renderOutput(dataTable, element);\n",
              "          const docLink = document.createElement('div');\n",
              "          docLink.innerHTML = docLinkHtml;\n",
              "          element.appendChild(docLink);\n",
              "        }\n",
              "      </script>\n",
              "    </div>\n",
              "  </div>\n",
              "  "
            ],
            "text/plain": [
              "     titleId ordering                      title region language        types  \\\n",
              "0  tt0000001        1                 Карменсіта     UA       \\N  imdbDisplay   \n",
              "1  tt0000001        2                 Carmencita     DE       \\N           \\N   \n",
              "2  tt0000001        3  Carmencita - spanyol tánc     HU       \\N  imdbDisplay   \n",
              "3  tt0000001        4                 Καρμενσίτα     GR       \\N  imdbDisplay   \n",
              "4  tt0000001        5                 Карменсита     RU       \\N  imdbDisplay   \n",
              "\n",
              "      attributes isOriginalTitle  \n",
              "0             \\N               0  \n",
              "1  literal title               0  \n",
              "2             \\N               0  \n",
              "3             \\N               0  \n",
              "4             \\N               0  "
            ]
          },
          "metadata": {}
        }
      ]
    },
    {
      "cell_type": "code",
      "source": [
        "# IMDb Title Ratings DataFrame\n",
        "display(ratings_df.limit(5).toPandas())"
      ],
      "metadata": {
        "colab": {
          "base_uri": "https://localhost:8080/",
          "height": 206
        },
        "id": "gjdt4CiAsMai",
        "outputId": "4b77caae-b345-4412-f8af-5ebfec5885a3"
      },
      "execution_count": 26,
      "outputs": [
        {
          "output_type": "display_data",
          "data": {
            "text/html": [
              "\n",
              "  <div id=\"df-07e2bc20-c57f-4b41-bb88-31bb681fbb79\">\n",
              "    <div class=\"colab-df-container\">\n",
              "      <div>\n",
              "<style scoped>\n",
              "    .dataframe tbody tr th:only-of-type {\n",
              "        vertical-align: middle;\n",
              "    }\n",
              "\n",
              "    .dataframe tbody tr th {\n",
              "        vertical-align: top;\n",
              "    }\n",
              "\n",
              "    .dataframe thead th {\n",
              "        text-align: right;\n",
              "    }\n",
              "</style>\n",
              "<table border=\"1\" class=\"dataframe\">\n",
              "  <thead>\n",
              "    <tr style=\"text-align: right;\">\n",
              "      <th></th>\n",
              "      <th>tconst</th>\n",
              "      <th>averageRating</th>\n",
              "      <th>numVotes</th>\n",
              "    </tr>\n",
              "  </thead>\n",
              "  <tbody>\n",
              "    <tr>\n",
              "      <th>0</th>\n",
              "      <td>tt0000001</td>\n",
              "      <td>5.7</td>\n",
              "      <td>1864</td>\n",
              "    </tr>\n",
              "    <tr>\n",
              "      <th>1</th>\n",
              "      <td>tt0000002</td>\n",
              "      <td>6.0</td>\n",
              "      <td>244</td>\n",
              "    </tr>\n",
              "    <tr>\n",
              "      <th>2</th>\n",
              "      <td>tt0000003</td>\n",
              "      <td>6.5</td>\n",
              "      <td>1632</td>\n",
              "    </tr>\n",
              "    <tr>\n",
              "      <th>3</th>\n",
              "      <td>tt0000004</td>\n",
              "      <td>5.8</td>\n",
              "      <td>158</td>\n",
              "    </tr>\n",
              "    <tr>\n",
              "      <th>4</th>\n",
              "      <td>tt0000005</td>\n",
              "      <td>6.2</td>\n",
              "      <td>2459</td>\n",
              "    </tr>\n",
              "  </tbody>\n",
              "</table>\n",
              "</div>\n",
              "      <button class=\"colab-df-convert\" onclick=\"convertToInteractive('df-07e2bc20-c57f-4b41-bb88-31bb681fbb79')\"\n",
              "              title=\"Convert this dataframe to an interactive table.\"\n",
              "              style=\"display:none;\">\n",
              "        \n",
              "  <svg xmlns=\"http://www.w3.org/2000/svg\" height=\"24px\"viewBox=\"0 0 24 24\"\n",
              "       width=\"24px\">\n",
              "    <path d=\"M0 0h24v24H0V0z\" fill=\"none\"/>\n",
              "    <path d=\"M18.56 5.44l.94 2.06.94-2.06 2.06-.94-2.06-.94-.94-2.06-.94 2.06-2.06.94zm-11 1L8.5 8.5l.94-2.06 2.06-.94-2.06-.94L8.5 2.5l-.94 2.06-2.06.94zm10 10l.94 2.06.94-2.06 2.06-.94-2.06-.94-.94-2.06-.94 2.06-2.06.94z\"/><path d=\"M17.41 7.96l-1.37-1.37c-.4-.4-.92-.59-1.43-.59-.52 0-1.04.2-1.43.59L10.3 9.45l-7.72 7.72c-.78.78-.78 2.05 0 2.83L4 21.41c.39.39.9.59 1.41.59.51 0 1.02-.2 1.41-.59l7.78-7.78 2.81-2.81c.8-.78.8-2.07 0-2.86zM5.41 20L4 18.59l7.72-7.72 1.47 1.35L5.41 20z\"/>\n",
              "  </svg>\n",
              "      </button>\n",
              "      \n",
              "  <style>\n",
              "    .colab-df-container {\n",
              "      display:flex;\n",
              "      flex-wrap:wrap;\n",
              "      gap: 12px;\n",
              "    }\n",
              "\n",
              "    .colab-df-convert {\n",
              "      background-color: #E8F0FE;\n",
              "      border: none;\n",
              "      border-radius: 50%;\n",
              "      cursor: pointer;\n",
              "      display: none;\n",
              "      fill: #1967D2;\n",
              "      height: 32px;\n",
              "      padding: 0 0 0 0;\n",
              "      width: 32px;\n",
              "    }\n",
              "\n",
              "    .colab-df-convert:hover {\n",
              "      background-color: #E2EBFA;\n",
              "      box-shadow: 0px 1px 2px rgba(60, 64, 67, 0.3), 0px 1px 3px 1px rgba(60, 64, 67, 0.15);\n",
              "      fill: #174EA6;\n",
              "    }\n",
              "\n",
              "    [theme=dark] .colab-df-convert {\n",
              "      background-color: #3B4455;\n",
              "      fill: #D2E3FC;\n",
              "    }\n",
              "\n",
              "    [theme=dark] .colab-df-convert:hover {\n",
              "      background-color: #434B5C;\n",
              "      box-shadow: 0px 1px 3px 1px rgba(0, 0, 0, 0.15);\n",
              "      filter: drop-shadow(0px 1px 2px rgba(0, 0, 0, 0.3));\n",
              "      fill: #FFFFFF;\n",
              "    }\n",
              "  </style>\n",
              "\n",
              "      <script>\n",
              "        const buttonEl =\n",
              "          document.querySelector('#df-07e2bc20-c57f-4b41-bb88-31bb681fbb79 button.colab-df-convert');\n",
              "        buttonEl.style.display =\n",
              "          google.colab.kernel.accessAllowed ? 'block' : 'none';\n",
              "\n",
              "        async function convertToInteractive(key) {\n",
              "          const element = document.querySelector('#df-07e2bc20-c57f-4b41-bb88-31bb681fbb79');\n",
              "          const dataTable =\n",
              "            await google.colab.kernel.invokeFunction('convertToInteractive',\n",
              "                                                     [key], {});\n",
              "          if (!dataTable) return;\n",
              "\n",
              "          const docLinkHtml = 'Like what you see? Visit the ' +\n",
              "            '<a target=\"_blank\" href=https://colab.research.google.com/notebooks/data_table.ipynb>data table notebook</a>'\n",
              "            + ' to learn more about interactive tables.';\n",
              "          element.innerHTML = '';\n",
              "          dataTable['output_type'] = 'display_data';\n",
              "          await google.colab.output.renderOutput(dataTable, element);\n",
              "          const docLink = document.createElement('div');\n",
              "          docLink.innerHTML = docLinkHtml;\n",
              "          element.appendChild(docLink);\n",
              "        }\n",
              "      </script>\n",
              "    </div>\n",
              "  </div>\n",
              "  "
            ],
            "text/plain": [
              "      tconst averageRating numVotes\n",
              "0  tt0000001           5.7     1864\n",
              "1  tt0000002           6.0      244\n",
              "2  tt0000003           6.5     1632\n",
              "3  tt0000004           5.8      158\n",
              "4  tt0000005           6.2     2459"
            ]
          },
          "metadata": {}
        }
      ]
    },
    {
      "cell_type": "code",
      "source": [
        "# IMDb Title Basics DataFrame\n",
        "display(basics_df.limit(5).toPandas())"
      ],
      "metadata": {
        "colab": {
          "base_uri": "https://localhost:8080/",
          "height": 206
        },
        "id": "j3-5B6218cnH",
        "outputId": "01a8d4ca-682e-428c-9473-d88511316bf9"
      },
      "execution_count": 27,
      "outputs": [
        {
          "output_type": "display_data",
          "data": {
            "text/html": [
              "\n",
              "  <div id=\"df-ef7a1868-4a7f-426b-ae75-7ef50fea8dcc\">\n",
              "    <div class=\"colab-df-container\">\n",
              "      <div>\n",
              "<style scoped>\n",
              "    .dataframe tbody tr th:only-of-type {\n",
              "        vertical-align: middle;\n",
              "    }\n",
              "\n",
              "    .dataframe tbody tr th {\n",
              "        vertical-align: top;\n",
              "    }\n",
              "\n",
              "    .dataframe thead th {\n",
              "        text-align: right;\n",
              "    }\n",
              "</style>\n",
              "<table border=\"1\" class=\"dataframe\">\n",
              "  <thead>\n",
              "    <tr style=\"text-align: right;\">\n",
              "      <th></th>\n",
              "      <th>tconst</th>\n",
              "      <th>titleType</th>\n",
              "      <th>primaryTitle</th>\n",
              "      <th>originalTitle</th>\n",
              "      <th>isAdult</th>\n",
              "      <th>startYear</th>\n",
              "      <th>endYear</th>\n",
              "      <th>runtimeMinutes</th>\n",
              "      <th>genres</th>\n",
              "    </tr>\n",
              "  </thead>\n",
              "  <tbody>\n",
              "    <tr>\n",
              "      <th>0</th>\n",
              "      <td>tt0000001</td>\n",
              "      <td>short</td>\n",
              "      <td>Carmencita</td>\n",
              "      <td>Carmencita</td>\n",
              "      <td>0</td>\n",
              "      <td>1894</td>\n",
              "      <td>\\N</td>\n",
              "      <td>1</td>\n",
              "      <td>Documentary,Short</td>\n",
              "    </tr>\n",
              "    <tr>\n",
              "      <th>1</th>\n",
              "      <td>tt0000002</td>\n",
              "      <td>short</td>\n",
              "      <td>Le clown et ses chiens</td>\n",
              "      <td>Le clown et ses chiens</td>\n",
              "      <td>0</td>\n",
              "      <td>1892</td>\n",
              "      <td>\\N</td>\n",
              "      <td>5</td>\n",
              "      <td>Animation,Short</td>\n",
              "    </tr>\n",
              "    <tr>\n",
              "      <th>2</th>\n",
              "      <td>tt0000003</td>\n",
              "      <td>short</td>\n",
              "      <td>Pauvre Pierrot</td>\n",
              "      <td>Pauvre Pierrot</td>\n",
              "      <td>0</td>\n",
              "      <td>1892</td>\n",
              "      <td>\\N</td>\n",
              "      <td>4</td>\n",
              "      <td>Animation,Comedy,Romance</td>\n",
              "    </tr>\n",
              "    <tr>\n",
              "      <th>3</th>\n",
              "      <td>tt0000004</td>\n",
              "      <td>short</td>\n",
              "      <td>Un bon bock</td>\n",
              "      <td>Un bon bock</td>\n",
              "      <td>0</td>\n",
              "      <td>1892</td>\n",
              "      <td>\\N</td>\n",
              "      <td>12</td>\n",
              "      <td>Animation,Short</td>\n",
              "    </tr>\n",
              "    <tr>\n",
              "      <th>4</th>\n",
              "      <td>tt0000005</td>\n",
              "      <td>short</td>\n",
              "      <td>Blacksmith Scene</td>\n",
              "      <td>Blacksmith Scene</td>\n",
              "      <td>0</td>\n",
              "      <td>1893</td>\n",
              "      <td>\\N</td>\n",
              "      <td>1</td>\n",
              "      <td>Comedy,Short</td>\n",
              "    </tr>\n",
              "  </tbody>\n",
              "</table>\n",
              "</div>\n",
              "      <button class=\"colab-df-convert\" onclick=\"convertToInteractive('df-ef7a1868-4a7f-426b-ae75-7ef50fea8dcc')\"\n",
              "              title=\"Convert this dataframe to an interactive table.\"\n",
              "              style=\"display:none;\">\n",
              "        \n",
              "  <svg xmlns=\"http://www.w3.org/2000/svg\" height=\"24px\"viewBox=\"0 0 24 24\"\n",
              "       width=\"24px\">\n",
              "    <path d=\"M0 0h24v24H0V0z\" fill=\"none\"/>\n",
              "    <path d=\"M18.56 5.44l.94 2.06.94-2.06 2.06-.94-2.06-.94-.94-2.06-.94 2.06-2.06.94zm-11 1L8.5 8.5l.94-2.06 2.06-.94-2.06-.94L8.5 2.5l-.94 2.06-2.06.94zm10 10l.94 2.06.94-2.06 2.06-.94-2.06-.94-.94-2.06-.94 2.06-2.06.94z\"/><path d=\"M17.41 7.96l-1.37-1.37c-.4-.4-.92-.59-1.43-.59-.52 0-1.04.2-1.43.59L10.3 9.45l-7.72 7.72c-.78.78-.78 2.05 0 2.83L4 21.41c.39.39.9.59 1.41.59.51 0 1.02-.2 1.41-.59l7.78-7.78 2.81-2.81c.8-.78.8-2.07 0-2.86zM5.41 20L4 18.59l7.72-7.72 1.47 1.35L5.41 20z\"/>\n",
              "  </svg>\n",
              "      </button>\n",
              "      \n",
              "  <style>\n",
              "    .colab-df-container {\n",
              "      display:flex;\n",
              "      flex-wrap:wrap;\n",
              "      gap: 12px;\n",
              "    }\n",
              "\n",
              "    .colab-df-convert {\n",
              "      background-color: #E8F0FE;\n",
              "      border: none;\n",
              "      border-radius: 50%;\n",
              "      cursor: pointer;\n",
              "      display: none;\n",
              "      fill: #1967D2;\n",
              "      height: 32px;\n",
              "      padding: 0 0 0 0;\n",
              "      width: 32px;\n",
              "    }\n",
              "\n",
              "    .colab-df-convert:hover {\n",
              "      background-color: #E2EBFA;\n",
              "      box-shadow: 0px 1px 2px rgba(60, 64, 67, 0.3), 0px 1px 3px 1px rgba(60, 64, 67, 0.15);\n",
              "      fill: #174EA6;\n",
              "    }\n",
              "\n",
              "    [theme=dark] .colab-df-convert {\n",
              "      background-color: #3B4455;\n",
              "      fill: #D2E3FC;\n",
              "    }\n",
              "\n",
              "    [theme=dark] .colab-df-convert:hover {\n",
              "      background-color: #434B5C;\n",
              "      box-shadow: 0px 1px 3px 1px rgba(0, 0, 0, 0.15);\n",
              "      filter: drop-shadow(0px 1px 2px rgba(0, 0, 0, 0.3));\n",
              "      fill: #FFFFFF;\n",
              "    }\n",
              "  </style>\n",
              "\n",
              "      <script>\n",
              "        const buttonEl =\n",
              "          document.querySelector('#df-ef7a1868-4a7f-426b-ae75-7ef50fea8dcc button.colab-df-convert');\n",
              "        buttonEl.style.display =\n",
              "          google.colab.kernel.accessAllowed ? 'block' : 'none';\n",
              "\n",
              "        async function convertToInteractive(key) {\n",
              "          const element = document.querySelector('#df-ef7a1868-4a7f-426b-ae75-7ef50fea8dcc');\n",
              "          const dataTable =\n",
              "            await google.colab.kernel.invokeFunction('convertToInteractive',\n",
              "                                                     [key], {});\n",
              "          if (!dataTable) return;\n",
              "\n",
              "          const docLinkHtml = 'Like what you see? Visit the ' +\n",
              "            '<a target=\"_blank\" href=https://colab.research.google.com/notebooks/data_table.ipynb>data table notebook</a>'\n",
              "            + ' to learn more about interactive tables.';\n",
              "          element.innerHTML = '';\n",
              "          dataTable['output_type'] = 'display_data';\n",
              "          await google.colab.output.renderOutput(dataTable, element);\n",
              "          const docLink = document.createElement('div');\n",
              "          docLink.innerHTML = docLinkHtml;\n",
              "          element.appendChild(docLink);\n",
              "        }\n",
              "      </script>\n",
              "    </div>\n",
              "  </div>\n",
              "  "
            ],
            "text/plain": [
              "      tconst titleType            primaryTitle           originalTitle  \\\n",
              "0  tt0000001     short              Carmencita              Carmencita   \n",
              "1  tt0000002     short  Le clown et ses chiens  Le clown et ses chiens   \n",
              "2  tt0000003     short          Pauvre Pierrot          Pauvre Pierrot   \n",
              "3  tt0000004     short             Un bon bock             Un bon bock   \n",
              "4  tt0000005     short        Blacksmith Scene        Blacksmith Scene   \n",
              "\n",
              "  isAdult startYear endYear runtimeMinutes                    genres  \n",
              "0       0      1894      \\N              1         Documentary,Short  \n",
              "1       0      1892      \\N              5           Animation,Short  \n",
              "2       0      1892      \\N              4  Animation,Comedy,Romance  \n",
              "3       0      1892      \\N             12           Animation,Short  \n",
              "4       0      1893      \\N              1              Comedy,Short  "
            ]
          },
          "metadata": {}
        }
      ]
    },
    {
      "cell_type": "code",
      "source": [
        "# IMDb Title Episode DataFrame\n",
        "display(episode_df.limit(5).toPandas())"
      ],
      "metadata": {
        "colab": {
          "base_uri": "https://localhost:8080/",
          "height": 206
        },
        "id": "ofUtQaZB9b84",
        "outputId": "63c24dd9-7169-48b7-c512-88be1f59b687"
      },
      "execution_count": 28,
      "outputs": [
        {
          "output_type": "display_data",
          "data": {
            "text/html": [
              "\n",
              "  <div id=\"df-25b4c36c-0272-46a6-bc92-1e937f60be9a\">\n",
              "    <div class=\"colab-df-container\">\n",
              "      <div>\n",
              "<style scoped>\n",
              "    .dataframe tbody tr th:only-of-type {\n",
              "        vertical-align: middle;\n",
              "    }\n",
              "\n",
              "    .dataframe tbody tr th {\n",
              "        vertical-align: top;\n",
              "    }\n",
              "\n",
              "    .dataframe thead th {\n",
              "        text-align: right;\n",
              "    }\n",
              "</style>\n",
              "<table border=\"1\" class=\"dataframe\">\n",
              "  <thead>\n",
              "    <tr style=\"text-align: right;\">\n",
              "      <th></th>\n",
              "      <th>tconst</th>\n",
              "      <th>parentTconst</th>\n",
              "      <th>seasonNumber</th>\n",
              "      <th>episodeNumber</th>\n",
              "    </tr>\n",
              "  </thead>\n",
              "  <tbody>\n",
              "    <tr>\n",
              "      <th>0</th>\n",
              "      <td>tt0020666</td>\n",
              "      <td>tt15180956</td>\n",
              "      <td>1</td>\n",
              "      <td>2</td>\n",
              "    </tr>\n",
              "    <tr>\n",
              "      <th>1</th>\n",
              "      <td>tt0020829</td>\n",
              "      <td>tt15180956</td>\n",
              "      <td>1</td>\n",
              "      <td>1</td>\n",
              "    </tr>\n",
              "    <tr>\n",
              "      <th>2</th>\n",
              "      <td>tt0021166</td>\n",
              "      <td>tt15180956</td>\n",
              "      <td>1</td>\n",
              "      <td>3</td>\n",
              "    </tr>\n",
              "    <tr>\n",
              "      <th>3</th>\n",
              "      <td>tt0021612</td>\n",
              "      <td>tt15180956</td>\n",
              "      <td>2</td>\n",
              "      <td>2</td>\n",
              "    </tr>\n",
              "    <tr>\n",
              "      <th>4</th>\n",
              "      <td>tt0021655</td>\n",
              "      <td>tt15180956</td>\n",
              "      <td>2</td>\n",
              "      <td>5</td>\n",
              "    </tr>\n",
              "  </tbody>\n",
              "</table>\n",
              "</div>\n",
              "      <button class=\"colab-df-convert\" onclick=\"convertToInteractive('df-25b4c36c-0272-46a6-bc92-1e937f60be9a')\"\n",
              "              title=\"Convert this dataframe to an interactive table.\"\n",
              "              style=\"display:none;\">\n",
              "        \n",
              "  <svg xmlns=\"http://www.w3.org/2000/svg\" height=\"24px\"viewBox=\"0 0 24 24\"\n",
              "       width=\"24px\">\n",
              "    <path d=\"M0 0h24v24H0V0z\" fill=\"none\"/>\n",
              "    <path d=\"M18.56 5.44l.94 2.06.94-2.06 2.06-.94-2.06-.94-.94-2.06-.94 2.06-2.06.94zm-11 1L8.5 8.5l.94-2.06 2.06-.94-2.06-.94L8.5 2.5l-.94 2.06-2.06.94zm10 10l.94 2.06.94-2.06 2.06-.94-2.06-.94-.94-2.06-.94 2.06-2.06.94z\"/><path d=\"M17.41 7.96l-1.37-1.37c-.4-.4-.92-.59-1.43-.59-.52 0-1.04.2-1.43.59L10.3 9.45l-7.72 7.72c-.78.78-.78 2.05 0 2.83L4 21.41c.39.39.9.59 1.41.59.51 0 1.02-.2 1.41-.59l7.78-7.78 2.81-2.81c.8-.78.8-2.07 0-2.86zM5.41 20L4 18.59l7.72-7.72 1.47 1.35L5.41 20z\"/>\n",
              "  </svg>\n",
              "      </button>\n",
              "      \n",
              "  <style>\n",
              "    .colab-df-container {\n",
              "      display:flex;\n",
              "      flex-wrap:wrap;\n",
              "      gap: 12px;\n",
              "    }\n",
              "\n",
              "    .colab-df-convert {\n",
              "      background-color: #E8F0FE;\n",
              "      border: none;\n",
              "      border-radius: 50%;\n",
              "      cursor: pointer;\n",
              "      display: none;\n",
              "      fill: #1967D2;\n",
              "      height: 32px;\n",
              "      padding: 0 0 0 0;\n",
              "      width: 32px;\n",
              "    }\n",
              "\n",
              "    .colab-df-convert:hover {\n",
              "      background-color: #E2EBFA;\n",
              "      box-shadow: 0px 1px 2px rgba(60, 64, 67, 0.3), 0px 1px 3px 1px rgba(60, 64, 67, 0.15);\n",
              "      fill: #174EA6;\n",
              "    }\n",
              "\n",
              "    [theme=dark] .colab-df-convert {\n",
              "      background-color: #3B4455;\n",
              "      fill: #D2E3FC;\n",
              "    }\n",
              "\n",
              "    [theme=dark] .colab-df-convert:hover {\n",
              "      background-color: #434B5C;\n",
              "      box-shadow: 0px 1px 3px 1px rgba(0, 0, 0, 0.15);\n",
              "      filter: drop-shadow(0px 1px 2px rgba(0, 0, 0, 0.3));\n",
              "      fill: #FFFFFF;\n",
              "    }\n",
              "  </style>\n",
              "\n",
              "      <script>\n",
              "        const buttonEl =\n",
              "          document.querySelector('#df-25b4c36c-0272-46a6-bc92-1e937f60be9a button.colab-df-convert');\n",
              "        buttonEl.style.display =\n",
              "          google.colab.kernel.accessAllowed ? 'block' : 'none';\n",
              "\n",
              "        async function convertToInteractive(key) {\n",
              "          const element = document.querySelector('#df-25b4c36c-0272-46a6-bc92-1e937f60be9a');\n",
              "          const dataTable =\n",
              "            await google.colab.kernel.invokeFunction('convertToInteractive',\n",
              "                                                     [key], {});\n",
              "          if (!dataTable) return;\n",
              "\n",
              "          const docLinkHtml = 'Like what you see? Visit the ' +\n",
              "            '<a target=\"_blank\" href=https://colab.research.google.com/notebooks/data_table.ipynb>data table notebook</a>'\n",
              "            + ' to learn more about interactive tables.';\n",
              "          element.innerHTML = '';\n",
              "          dataTable['output_type'] = 'display_data';\n",
              "          await google.colab.output.renderOutput(dataTable, element);\n",
              "          const docLink = document.createElement('div');\n",
              "          docLink.innerHTML = docLinkHtml;\n",
              "          element.appendChild(docLink);\n",
              "        }\n",
              "      </script>\n",
              "    </div>\n",
              "  </div>\n",
              "  "
            ],
            "text/plain": [
              "      tconst parentTconst seasonNumber episodeNumber\n",
              "0  tt0020666   tt15180956            1             2\n",
              "1  tt0020829   tt15180956            1             1\n",
              "2  tt0021166   tt15180956            1             3\n",
              "3  tt0021612   tt15180956            2             2\n",
              "4  tt0021655   tt15180956            2             5"
            ]
          },
          "metadata": {}
        }
      ]
    },
    {
      "cell_type": "code",
      "source": [
        "# Netflix Streaming History DataFrame\n",
        "netflix_df.head()"
      ],
      "metadata": {
        "colab": {
          "base_uri": "https://localhost:8080/",
          "height": 206
        },
        "id": "-zvjTGsOAwE_",
        "outputId": "9c0e49e7-dda6-4302-e82d-bc4e65b9bf49"
      },
      "execution_count": 29,
      "outputs": [
        {
          "output_type": "execute_result",
          "data": {
            "text/html": [
              "\n",
              "  <div id=\"df-8d04948f-7f6e-4e98-b53e-e8354658e025\">\n",
              "    <div class=\"colab-df-container\">\n",
              "      <div>\n",
              "<style scoped>\n",
              "    .dataframe tbody tr th:only-of-type {\n",
              "        vertical-align: middle;\n",
              "    }\n",
              "\n",
              "    .dataframe tbody tr th {\n",
              "        vertical-align: top;\n",
              "    }\n",
              "\n",
              "    .dataframe thead th {\n",
              "        text-align: right;\n",
              "    }\n",
              "</style>\n",
              "<table border=\"1\" class=\"dataframe\">\n",
              "  <thead>\n",
              "    <tr style=\"text-align: right;\">\n",
              "      <th></th>\n",
              "      <th>Title</th>\n",
              "      <th>Date</th>\n",
              "    </tr>\n",
              "  </thead>\n",
              "  <tbody>\n",
              "    <tr>\n",
              "      <th>0</th>\n",
              "      <td>Segunda Guerra em Cores: Caminho para a Vitória: Temporada 1: Ocupação da Itália</td>\n",
              "      <td>14/02/2022</td>\n",
              "    </tr>\n",
              "    <tr>\n",
              "      <th>1</th>\n",
              "      <td>Segunda Guerra em Cores: Caminho para a Vitória: Temporada 1: Batalha de Kursk</td>\n",
              "      <td>08/02/2022</td>\n",
              "    </tr>\n",
              "    <tr>\n",
              "      <th>2</th>\n",
              "      <td>Segunda Guerra em Cores: Caminho para a Vitória: Temporada 1: Ocupação do Norte da África</td>\n",
              "      <td>31/01/2022</td>\n",
              "    </tr>\n",
              "    <tr>\n",
              "      <th>3</th>\n",
              "      <td>Segunda Guerra em Cores: Caminho para a Vitória: Temporada 1: Batalha do Atlântico</td>\n",
              "      <td>30/12/2021</td>\n",
              "    </tr>\n",
              "    <tr>\n",
              "      <th>4</th>\n",
              "      <td>Segunda Guerra em Cores: Caminho para a Vitória: Temporada 1: Dunquerque</td>\n",
              "      <td>27/12/2021</td>\n",
              "    </tr>\n",
              "  </tbody>\n",
              "</table>\n",
              "</div>\n",
              "      <button class=\"colab-df-convert\" onclick=\"convertToInteractive('df-8d04948f-7f6e-4e98-b53e-e8354658e025')\"\n",
              "              title=\"Convert this dataframe to an interactive table.\"\n",
              "              style=\"display:none;\">\n",
              "        \n",
              "  <svg xmlns=\"http://www.w3.org/2000/svg\" height=\"24px\"viewBox=\"0 0 24 24\"\n",
              "       width=\"24px\">\n",
              "    <path d=\"M0 0h24v24H0V0z\" fill=\"none\"/>\n",
              "    <path d=\"M18.56 5.44l.94 2.06.94-2.06 2.06-.94-2.06-.94-.94-2.06-.94 2.06-2.06.94zm-11 1L8.5 8.5l.94-2.06 2.06-.94-2.06-.94L8.5 2.5l-.94 2.06-2.06.94zm10 10l.94 2.06.94-2.06 2.06-.94-2.06-.94-.94-2.06-.94 2.06-2.06.94z\"/><path d=\"M17.41 7.96l-1.37-1.37c-.4-.4-.92-.59-1.43-.59-.52 0-1.04.2-1.43.59L10.3 9.45l-7.72 7.72c-.78.78-.78 2.05 0 2.83L4 21.41c.39.39.9.59 1.41.59.51 0 1.02-.2 1.41-.59l7.78-7.78 2.81-2.81c.8-.78.8-2.07 0-2.86zM5.41 20L4 18.59l7.72-7.72 1.47 1.35L5.41 20z\"/>\n",
              "  </svg>\n",
              "      </button>\n",
              "      \n",
              "  <style>\n",
              "    .colab-df-container {\n",
              "      display:flex;\n",
              "      flex-wrap:wrap;\n",
              "      gap: 12px;\n",
              "    }\n",
              "\n",
              "    .colab-df-convert {\n",
              "      background-color: #E8F0FE;\n",
              "      border: none;\n",
              "      border-radius: 50%;\n",
              "      cursor: pointer;\n",
              "      display: none;\n",
              "      fill: #1967D2;\n",
              "      height: 32px;\n",
              "      padding: 0 0 0 0;\n",
              "      width: 32px;\n",
              "    }\n",
              "\n",
              "    .colab-df-convert:hover {\n",
              "      background-color: #E2EBFA;\n",
              "      box-shadow: 0px 1px 2px rgba(60, 64, 67, 0.3), 0px 1px 3px 1px rgba(60, 64, 67, 0.15);\n",
              "      fill: #174EA6;\n",
              "    }\n",
              "\n",
              "    [theme=dark] .colab-df-convert {\n",
              "      background-color: #3B4455;\n",
              "      fill: #D2E3FC;\n",
              "    }\n",
              "\n",
              "    [theme=dark] .colab-df-convert:hover {\n",
              "      background-color: #434B5C;\n",
              "      box-shadow: 0px 1px 3px 1px rgba(0, 0, 0, 0.15);\n",
              "      filter: drop-shadow(0px 1px 2px rgba(0, 0, 0, 0.3));\n",
              "      fill: #FFFFFF;\n",
              "    }\n",
              "  </style>\n",
              "\n",
              "      <script>\n",
              "        const buttonEl =\n",
              "          document.querySelector('#df-8d04948f-7f6e-4e98-b53e-e8354658e025 button.colab-df-convert');\n",
              "        buttonEl.style.display =\n",
              "          google.colab.kernel.accessAllowed ? 'block' : 'none';\n",
              "\n",
              "        async function convertToInteractive(key) {\n",
              "          const element = document.querySelector('#df-8d04948f-7f6e-4e98-b53e-e8354658e025');\n",
              "          const dataTable =\n",
              "            await google.colab.kernel.invokeFunction('convertToInteractive',\n",
              "                                                     [key], {});\n",
              "          if (!dataTable) return;\n",
              "\n",
              "          const docLinkHtml = 'Like what you see? Visit the ' +\n",
              "            '<a target=\"_blank\" href=https://colab.research.google.com/notebooks/data_table.ipynb>data table notebook</a>'\n",
              "            + ' to learn more about interactive tables.';\n",
              "          element.innerHTML = '';\n",
              "          dataTable['output_type'] = 'display_data';\n",
              "          await google.colab.output.renderOutput(dataTable, element);\n",
              "          const docLink = document.createElement('div');\n",
              "          docLink.innerHTML = docLinkHtml;\n",
              "          element.appendChild(docLink);\n",
              "        }\n",
              "      </script>\n",
              "    </div>\n",
              "  </div>\n",
              "  "
            ],
            "text/plain": [
              "                                                                                       Title  \\\n",
              "0           Segunda Guerra em Cores: Caminho para a Vitória: Temporada 1: Ocupação da Itália   \n",
              "1             Segunda Guerra em Cores: Caminho para a Vitória: Temporada 1: Batalha de Kursk   \n",
              "2  Segunda Guerra em Cores: Caminho para a Vitória: Temporada 1: Ocupação do Norte da África   \n",
              "3         Segunda Guerra em Cores: Caminho para a Vitória: Temporada 1: Batalha do Atlântico   \n",
              "4                   Segunda Guerra em Cores: Caminho para a Vitória: Temporada 1: Dunquerque   \n",
              "\n",
              "         Date  \n",
              "0  14/02/2022  \n",
              "1  08/02/2022  \n",
              "2  31/01/2022  \n",
              "3  30/12/2021  \n",
              "4  27/12/2021  "
            ]
          },
          "metadata": {},
          "execution_count": 29
        }
      ]
    },
    {
      "cell_type": "markdown",
      "source": [
        "# Separar o título e o nome do episódio"
      ],
      "metadata": {
        "id": "Je_oo2mm6P4r"
      }
    },
    {
      "cell_type": "code",
      "source": [
        "netflix_df['Title']"
      ],
      "metadata": {
        "colab": {
          "base_uri": "https://localhost:8080/"
        },
        "id": "c0shGfpZ6WRh",
        "outputId": "c76fe408-afe6-432f-914f-36e158dc7791"
      },
      "execution_count": 18,
      "outputs": [
        {
          "output_type": "execute_result",
          "data": {
            "text/plain": [
              "0               Segunda Guerra em Cores: Caminho para a Vitória: Temporada 1: Ocupação da Itália\n",
              "1                 Segunda Guerra em Cores: Caminho para a Vitória: Temporada 1: Batalha de Kursk\n",
              "2      Segunda Guerra em Cores: Caminho para a Vitória: Temporada 1: Ocupação do Norte da África\n",
              "3             Segunda Guerra em Cores: Caminho para a Vitória: Temporada 1: Batalha do Atlântico\n",
              "4                       Segunda Guerra em Cores: Caminho para a Vitória: Temporada 1: Dunquerque\n",
              "                                                 ...                                            \n",
              "445                                                                                   ParaNorman\n",
              "446                                                           Bob Esponja - Um Herói Fora D'Água\n",
              "447                                                             Pets - A Vida Secreta dos Bichos\n",
              "448                                                The Walking Dead: Temporada 1: Adeus, passado\n",
              "449                                            Exterminadores do Além Contra a Loira do Banheiro\n",
              "Name: Title, Length: 450, dtype: object"
            ]
          },
          "metadata": {},
          "execution_count": 18
        }
      ]
    },
    {
      "cell_type": "code",
      "source": [
        "# Remove duplicated row error\n",
        "netflix_df = netflix_df[netflix_df['Title'] != 'Mars: Season 1_hook_04_16x9']"
      ],
      "metadata": {
        "id": "uue8UpjEKvoK"
      },
      "execution_count": 19,
      "outputs": []
    },
    {
      "cell_type": "code",
      "source": [
        "def split_title(title):\n",
        "  \"\"\"\n",
        "    Return the main title and episode name by title\n",
        "  \"\"\"\n",
        "  main_title = title\n",
        "  episode_name = ''\n",
        "  texts = re.split('Temporada |Minissérie', title)\n",
        "\n",
        "  # title have the separator key\n",
        "  if len(texts) > 1:\n",
        "    # get the main title\n",
        "    main_title = texts[0]\n",
        "    # remove white spaces\n",
        "    main_title = main_title.strip()\n",
        "    # remove the ':' character\n",
        "    main_title = main_title[:-1]\n",
        "\n",
        "    # get the episode name\n",
        "    episode_name = texts[1]\n",
        "\n",
        "  return (main_title, episode_name)"
      ],
      "metadata": {
        "id": "9-EvtMRT7deI"
      },
      "execution_count": 20,
      "outputs": []
    },
    {
      "cell_type": "code",
      "source": [
        "# Get episode name from Title\n",
        "netflix_df['Episode'] = netflix_df['Title'].map(lambda x: split_title(x)[1])"
      ],
      "metadata": {
        "id": "zr0lebsT-Sea"
      },
      "execution_count": 21,
      "outputs": []
    },
    {
      "cell_type": "code",
      "source": [
        "# Update Title to the main title\n",
        "netflix_df['Title'] = netflix_df['Title'].map(lambda x: split_title(x)[0])"
      ],
      "metadata": {
        "id": "uzh7yD3x6uyM"
      },
      "execution_count": 22,
      "outputs": []
    },
    {
      "cell_type": "code",
      "source": [
        "netflix_df.head()"
      ],
      "metadata": {
        "colab": {
          "base_uri": "https://localhost:8080/",
          "height": 206
        },
        "id": "vTtMhAGi-WUr",
        "outputId": "ddad81c4-6496-444d-8a86-ec33023c54c5"
      },
      "execution_count": 23,
      "outputs": [
        {
          "output_type": "execute_result",
          "data": {
            "text/html": [
              "\n",
              "  <div id=\"df-f4b0ffbf-5bfa-40a7-9c23-2db24918beeb\">\n",
              "    <div class=\"colab-df-container\">\n",
              "      <div>\n",
              "<style scoped>\n",
              "    .dataframe tbody tr th:only-of-type {\n",
              "        vertical-align: middle;\n",
              "    }\n",
              "\n",
              "    .dataframe tbody tr th {\n",
              "        vertical-align: top;\n",
              "    }\n",
              "\n",
              "    .dataframe thead th {\n",
              "        text-align: right;\n",
              "    }\n",
              "</style>\n",
              "<table border=\"1\" class=\"dataframe\">\n",
              "  <thead>\n",
              "    <tr style=\"text-align: right;\">\n",
              "      <th></th>\n",
              "      <th>Title</th>\n",
              "      <th>Date</th>\n",
              "      <th>Episode</th>\n",
              "    </tr>\n",
              "  </thead>\n",
              "  <tbody>\n",
              "    <tr>\n",
              "      <th>0</th>\n",
              "      <td>Segunda Guerra em Cores: Caminho para a Vitória</td>\n",
              "      <td>14/02/2022</td>\n",
              "      <td>1: Ocupação da Itália</td>\n",
              "    </tr>\n",
              "    <tr>\n",
              "      <th>1</th>\n",
              "      <td>Segunda Guerra em Cores: Caminho para a Vitória</td>\n",
              "      <td>08/02/2022</td>\n",
              "      <td>1: Batalha de Kursk</td>\n",
              "    </tr>\n",
              "    <tr>\n",
              "      <th>2</th>\n",
              "      <td>Segunda Guerra em Cores: Caminho para a Vitória</td>\n",
              "      <td>31/01/2022</td>\n",
              "      <td>1: Ocupação do Norte da África</td>\n",
              "    </tr>\n",
              "    <tr>\n",
              "      <th>3</th>\n",
              "      <td>Segunda Guerra em Cores: Caminho para a Vitória</td>\n",
              "      <td>30/12/2021</td>\n",
              "      <td>1: Batalha do Atlântico</td>\n",
              "    </tr>\n",
              "    <tr>\n",
              "      <th>4</th>\n",
              "      <td>Segunda Guerra em Cores: Caminho para a Vitória</td>\n",
              "      <td>27/12/2021</td>\n",
              "      <td>1: Dunquerque</td>\n",
              "    </tr>\n",
              "  </tbody>\n",
              "</table>\n",
              "</div>\n",
              "      <button class=\"colab-df-convert\" onclick=\"convertToInteractive('df-f4b0ffbf-5bfa-40a7-9c23-2db24918beeb')\"\n",
              "              title=\"Convert this dataframe to an interactive table.\"\n",
              "              style=\"display:none;\">\n",
              "        \n",
              "  <svg xmlns=\"http://www.w3.org/2000/svg\" height=\"24px\"viewBox=\"0 0 24 24\"\n",
              "       width=\"24px\">\n",
              "    <path d=\"M0 0h24v24H0V0z\" fill=\"none\"/>\n",
              "    <path d=\"M18.56 5.44l.94 2.06.94-2.06 2.06-.94-2.06-.94-.94-2.06-.94 2.06-2.06.94zm-11 1L8.5 8.5l.94-2.06 2.06-.94-2.06-.94L8.5 2.5l-.94 2.06-2.06.94zm10 10l.94 2.06.94-2.06 2.06-.94-2.06-.94-.94-2.06-.94 2.06-2.06.94z\"/><path d=\"M17.41 7.96l-1.37-1.37c-.4-.4-.92-.59-1.43-.59-.52 0-1.04.2-1.43.59L10.3 9.45l-7.72 7.72c-.78.78-.78 2.05 0 2.83L4 21.41c.39.39.9.59 1.41.59.51 0 1.02-.2 1.41-.59l7.78-7.78 2.81-2.81c.8-.78.8-2.07 0-2.86zM5.41 20L4 18.59l7.72-7.72 1.47 1.35L5.41 20z\"/>\n",
              "  </svg>\n",
              "      </button>\n",
              "      \n",
              "  <style>\n",
              "    .colab-df-container {\n",
              "      display:flex;\n",
              "      flex-wrap:wrap;\n",
              "      gap: 12px;\n",
              "    }\n",
              "\n",
              "    .colab-df-convert {\n",
              "      background-color: #E8F0FE;\n",
              "      border: none;\n",
              "      border-radius: 50%;\n",
              "      cursor: pointer;\n",
              "      display: none;\n",
              "      fill: #1967D2;\n",
              "      height: 32px;\n",
              "      padding: 0 0 0 0;\n",
              "      width: 32px;\n",
              "    }\n",
              "\n",
              "    .colab-df-convert:hover {\n",
              "      background-color: #E2EBFA;\n",
              "      box-shadow: 0px 1px 2px rgba(60, 64, 67, 0.3), 0px 1px 3px 1px rgba(60, 64, 67, 0.15);\n",
              "      fill: #174EA6;\n",
              "    }\n",
              "\n",
              "    [theme=dark] .colab-df-convert {\n",
              "      background-color: #3B4455;\n",
              "      fill: #D2E3FC;\n",
              "    }\n",
              "\n",
              "    [theme=dark] .colab-df-convert:hover {\n",
              "      background-color: #434B5C;\n",
              "      box-shadow: 0px 1px 3px 1px rgba(0, 0, 0, 0.15);\n",
              "      filter: drop-shadow(0px 1px 2px rgba(0, 0, 0, 0.3));\n",
              "      fill: #FFFFFF;\n",
              "    }\n",
              "  </style>\n",
              "\n",
              "      <script>\n",
              "        const buttonEl =\n",
              "          document.querySelector('#df-f4b0ffbf-5bfa-40a7-9c23-2db24918beeb button.colab-df-convert');\n",
              "        buttonEl.style.display =\n",
              "          google.colab.kernel.accessAllowed ? 'block' : 'none';\n",
              "\n",
              "        async function convertToInteractive(key) {\n",
              "          const element = document.querySelector('#df-f4b0ffbf-5bfa-40a7-9c23-2db24918beeb');\n",
              "          const dataTable =\n",
              "            await google.colab.kernel.invokeFunction('convertToInteractive',\n",
              "                                                     [key], {});\n",
              "          if (!dataTable) return;\n",
              "\n",
              "          const docLinkHtml = 'Like what you see? Visit the ' +\n",
              "            '<a target=\"_blank\" href=https://colab.research.google.com/notebooks/data_table.ipynb>data table notebook</a>'\n",
              "            + ' to learn more about interactive tables.';\n",
              "          element.innerHTML = '';\n",
              "          dataTable['output_type'] = 'display_data';\n",
              "          await google.colab.output.renderOutput(dataTable, element);\n",
              "          const docLink = document.createElement('div');\n",
              "          docLink.innerHTML = docLinkHtml;\n",
              "          element.appendChild(docLink);\n",
              "        }\n",
              "      </script>\n",
              "    </div>\n",
              "  </div>\n",
              "  "
            ],
            "text/plain": [
              "                                             Title        Date  \\\n",
              "0  Segunda Guerra em Cores: Caminho para a Vitória  14/02/2022   \n",
              "1  Segunda Guerra em Cores: Caminho para a Vitória  08/02/2022   \n",
              "2  Segunda Guerra em Cores: Caminho para a Vitória  31/01/2022   \n",
              "3  Segunda Guerra em Cores: Caminho para a Vitória  30/12/2021   \n",
              "4  Segunda Guerra em Cores: Caminho para a Vitória  27/12/2021   \n",
              "\n",
              "                          Episode  \n",
              "0           1: Ocupação da Itália  \n",
              "1             1: Batalha de Kursk  \n",
              "2  1: Ocupação do Norte da África  \n",
              "3         1: Batalha do Atlântico  \n",
              "4                   1: Dunquerque  "
            ]
          },
          "metadata": {},
          "execution_count": 23
        }
      ]
    },
    {
      "cell_type": "code",
      "source": [
        "netflix_df.sample(10)"
      ],
      "metadata": {
        "colab": {
          "base_uri": "https://localhost:8080/",
          "height": 363
        },
        "id": "XAzVp2VA-jij",
        "outputId": "669943ed-3225-466b-82a2-0a28b7519416"
      },
      "execution_count": 24,
      "outputs": [
        {
          "output_type": "execute_result",
          "data": {
            "text/html": [
              "\n",
              "  <div id=\"df-1cee0960-ee98-402a-85ad-0b2c00d3c303\">\n",
              "    <div class=\"colab-df-container\">\n",
              "      <div>\n",
              "<style scoped>\n",
              "    .dataframe tbody tr th:only-of-type {\n",
              "        vertical-align: middle;\n",
              "    }\n",
              "\n",
              "    .dataframe tbody tr th {\n",
              "        vertical-align: top;\n",
              "    }\n",
              "\n",
              "    .dataframe thead th {\n",
              "        text-align: right;\n",
              "    }\n",
              "</style>\n",
              "<table border=\"1\" class=\"dataframe\">\n",
              "  <thead>\n",
              "    <tr style=\"text-align: right;\">\n",
              "      <th></th>\n",
              "      <th>Title</th>\n",
              "      <th>Date</th>\n",
              "      <th>Episode</th>\n",
              "    </tr>\n",
              "  </thead>\n",
              "  <tbody>\n",
              "    <tr>\n",
              "      <th>141</th>\n",
              "      <td>O Universo</td>\n",
              "      <td>20/05/2020</td>\n",
              "      <td>1: Espaçonave Terra</td>\n",
              "    </tr>\n",
              "    <tr>\n",
              "      <th>323</th>\n",
              "      <td>Um maluco no pedaço</td>\n",
              "      <td>30/10/2019</td>\n",
              "      <td>4: Batizado classe A</td>\n",
              "    </tr>\n",
              "    <tr>\n",
              "      <th>206</th>\n",
              "      <td>Três é Demais</td>\n",
              "      <td>08/01/2020</td>\n",
              "      <td>3: O retorno de velhos hábitos</td>\n",
              "    </tr>\n",
              "    <tr>\n",
              "      <th>295</th>\n",
              "      <td>Um maluco no pedaço</td>\n",
              "      <td>12/11/2019</td>\n",
              "      <td>6: Bem passado</td>\n",
              "    </tr>\n",
              "    <tr>\n",
              "      <th>434</th>\n",
              "      <td>One-Punch Man</td>\n",
              "      <td>11/09/2019</td>\n",
              "      <td>1: Ciclista da Justiça</td>\n",
              "    </tr>\n",
              "    <tr>\n",
              "      <th>281</th>\n",
              "      <td>Um maluco no pedaço</td>\n",
              "      <td>17/11/2019</td>\n",
              "      <td>6: Essa foi por pouco</td>\n",
              "    </tr>\n",
              "    <tr>\n",
              "      <th>296</th>\n",
              "      <td>Um maluco no pedaço</td>\n",
              "      <td>12/11/2019</td>\n",
              "      <td>5: Para quem os sinos tocam</td>\n",
              "    </tr>\n",
              "    <tr>\n",
              "      <th>235</th>\n",
              "      <td>Três é Demais</td>\n",
              "      <td>26/12/2019</td>\n",
              "      <td>2: Promoção dos Beach Boys</td>\n",
              "    </tr>\n",
              "    <tr>\n",
              "      <th>332</th>\n",
              "      <td>Um maluco no pedaço</td>\n",
              "      <td>26/10/2019</td>\n",
              "      <td>4: A vitória vem com esforço</td>\n",
              "    </tr>\n",
              "    <tr>\n",
              "      <th>165</th>\n",
              "      <td>Três é Demais</td>\n",
              "      <td>05/02/2020</td>\n",
              "      <td>4: Banho de espuma para peixe</td>\n",
              "    </tr>\n",
              "  </tbody>\n",
              "</table>\n",
              "</div>\n",
              "      <button class=\"colab-df-convert\" onclick=\"convertToInteractive('df-1cee0960-ee98-402a-85ad-0b2c00d3c303')\"\n",
              "              title=\"Convert this dataframe to an interactive table.\"\n",
              "              style=\"display:none;\">\n",
              "        \n",
              "  <svg xmlns=\"http://www.w3.org/2000/svg\" height=\"24px\"viewBox=\"0 0 24 24\"\n",
              "       width=\"24px\">\n",
              "    <path d=\"M0 0h24v24H0V0z\" fill=\"none\"/>\n",
              "    <path d=\"M18.56 5.44l.94 2.06.94-2.06 2.06-.94-2.06-.94-.94-2.06-.94 2.06-2.06.94zm-11 1L8.5 8.5l.94-2.06 2.06-.94-2.06-.94L8.5 2.5l-.94 2.06-2.06.94zm10 10l.94 2.06.94-2.06 2.06-.94-2.06-.94-.94-2.06-.94 2.06-2.06.94z\"/><path d=\"M17.41 7.96l-1.37-1.37c-.4-.4-.92-.59-1.43-.59-.52 0-1.04.2-1.43.59L10.3 9.45l-7.72 7.72c-.78.78-.78 2.05 0 2.83L4 21.41c.39.39.9.59 1.41.59.51 0 1.02-.2 1.41-.59l7.78-7.78 2.81-2.81c.8-.78.8-2.07 0-2.86zM5.41 20L4 18.59l7.72-7.72 1.47 1.35L5.41 20z\"/>\n",
              "  </svg>\n",
              "      </button>\n",
              "      \n",
              "  <style>\n",
              "    .colab-df-container {\n",
              "      display:flex;\n",
              "      flex-wrap:wrap;\n",
              "      gap: 12px;\n",
              "    }\n",
              "\n",
              "    .colab-df-convert {\n",
              "      background-color: #E8F0FE;\n",
              "      border: none;\n",
              "      border-radius: 50%;\n",
              "      cursor: pointer;\n",
              "      display: none;\n",
              "      fill: #1967D2;\n",
              "      height: 32px;\n",
              "      padding: 0 0 0 0;\n",
              "      width: 32px;\n",
              "    }\n",
              "\n",
              "    .colab-df-convert:hover {\n",
              "      background-color: #E2EBFA;\n",
              "      box-shadow: 0px 1px 2px rgba(60, 64, 67, 0.3), 0px 1px 3px 1px rgba(60, 64, 67, 0.15);\n",
              "      fill: #174EA6;\n",
              "    }\n",
              "\n",
              "    [theme=dark] .colab-df-convert {\n",
              "      background-color: #3B4455;\n",
              "      fill: #D2E3FC;\n",
              "    }\n",
              "\n",
              "    [theme=dark] .colab-df-convert:hover {\n",
              "      background-color: #434B5C;\n",
              "      box-shadow: 0px 1px 3px 1px rgba(0, 0, 0, 0.15);\n",
              "      filter: drop-shadow(0px 1px 2px rgba(0, 0, 0, 0.3));\n",
              "      fill: #FFFFFF;\n",
              "    }\n",
              "  </style>\n",
              "\n",
              "      <script>\n",
              "        const buttonEl =\n",
              "          document.querySelector('#df-1cee0960-ee98-402a-85ad-0b2c00d3c303 button.colab-df-convert');\n",
              "        buttonEl.style.display =\n",
              "          google.colab.kernel.accessAllowed ? 'block' : 'none';\n",
              "\n",
              "        async function convertToInteractive(key) {\n",
              "          const element = document.querySelector('#df-1cee0960-ee98-402a-85ad-0b2c00d3c303');\n",
              "          const dataTable =\n",
              "            await google.colab.kernel.invokeFunction('convertToInteractive',\n",
              "                                                     [key], {});\n",
              "          if (!dataTable) return;\n",
              "\n",
              "          const docLinkHtml = 'Like what you see? Visit the ' +\n",
              "            '<a target=\"_blank\" href=https://colab.research.google.com/notebooks/data_table.ipynb>data table notebook</a>'\n",
              "            + ' to learn more about interactive tables.';\n",
              "          element.innerHTML = '';\n",
              "          dataTable['output_type'] = 'display_data';\n",
              "          await google.colab.output.renderOutput(dataTable, element);\n",
              "          const docLink = document.createElement('div');\n",
              "          docLink.innerHTML = docLinkHtml;\n",
              "          element.appendChild(docLink);\n",
              "        }\n",
              "      </script>\n",
              "    </div>\n",
              "  </div>\n",
              "  "
            ],
            "text/plain": [
              "                   Title        Date                         Episode\n",
              "141           O Universo  20/05/2020             1: Espaçonave Terra\n",
              "323  Um maluco no pedaço  30/10/2019            4: Batizado classe A\n",
              "206        Três é Demais  08/01/2020  3: O retorno de velhos hábitos\n",
              "295  Um maluco no pedaço  12/11/2019                  6: Bem passado\n",
              "434        One-Punch Man  11/09/2019          1: Ciclista da Justiça\n",
              "281  Um maluco no pedaço  17/11/2019           6: Essa foi por pouco\n",
              "296  Um maluco no pedaço  12/11/2019     5: Para quem os sinos tocam\n",
              "235        Três é Demais  26/12/2019      2: Promoção dos Beach Boys\n",
              "332  Um maluco no pedaço  26/10/2019    4: A vitória vem com esforço\n",
              "165        Três é Demais  05/02/2020   4: Banho de espuma para peixe"
            ]
          },
          "metadata": {},
          "execution_count": 24
        }
      ]
    },
    {
      "cell_type": "markdown",
      "source": [
        "# Associar um ID do IMDb"
      ],
      "metadata": {
        "id": "RKphBm5GA5A1"
      }
    },
    {
      "cell_type": "code",
      "source": [
        "titles = netflix_df['Title'].unique()\n",
        "titles = np.sort(titles)\n",
        "titles"
      ],
      "metadata": {
        "colab": {
          "base_uri": "https://localhost:8080/"
        },
        "id": "9Jv-G1qNBklq",
        "outputId": "47dff598-1250-48b7-889f-78d9659ca024"
      },
      "execution_count": 25,
      "outputs": [
        {
          "output_type": "execute_result",
          "data": {
            "text/plain": [
              "array(['A Garota que conquistou o tempo', 'A Viagem de Chihiro',\n",
              "       'A Voz do Silêncio – Koe No Katachi', 'Ano Hana',\n",
              "       'Atlantis - O reino perdido', 'Bob Esponja',\n",
              "       \"Bob Esponja - Um Herói Fora D'Água\", 'Challenger: Voo Final',\n",
              "       'Coraline e o mundo secreto', 'Crianças Lobo', 'Divertida Mente',\n",
              "       'Escola de rock', 'Explicando... O Coronavírus',\n",
              "       'Exterminadores do Além Contra a Loira do Banheiro',\n",
              "       'Grandes Momentos da Segunda Guerra em Cores',\n",
              "       'História: Direto ao Assunto', 'Kubo e as Cordas Mágicas',\n",
              "       'Little Witch Academia',\n",
              "       'Little Witch Academia: The Enchanted Parade',\n",
              "       'Luzes no Céu: Fireworks', 'Marte', 'Meu Amigo Totoro',\n",
              "       'Mission Control: The Unsung Heroes of Apollo',\n",
              "       'NOVA: Black Hole Apocalypse', 'NOVA: Viagem a Saturno',\n",
              "       'O Universo', 'Olhos de Gato', 'One-Punch Man', 'ParaNorman',\n",
              "       'Pets - A Vida Secreta dos Bichos', 'Sangatsu no Lion',\n",
              "       'Segunda Guerra em Cores: Caminho para a Vitória', 'Sherlock',\n",
              "       'Shiki Oriori: O Sabor da Juventude', 'Space Force',\n",
              "       'Teasing Master Takagi-san', 'The Search for Life in Space',\n",
              "       'The Walking Dead', 'Toradora!', 'Tron: O legado', 'Três é Demais',\n",
              "       'Um maluco no pedaço', 'Viagem para Agartha', 'Your Name'],\n",
              "      dtype=object)"
            ]
          },
          "metadata": {},
          "execution_count": 25
        }
      ]
    },
    {
      "cell_type": "code",
      "source": [
        "print(f'São ao todo {len(titles)} títulos.')"
      ],
      "metadata": {
        "colab": {
          "base_uri": "https://localhost:8080/"
        },
        "id": "36zNw_EuBzwo",
        "outputId": "c773b520-3ec3-4b33-fc5e-22bc2d22567a"
      },
      "execution_count": 26,
      "outputs": [
        {
          "output_type": "stream",
          "name": "stdout",
          "text": [
            "São ao todo 44 títulos.\n"
          ]
        }
      ]
    },
    {
      "cell_type": "code",
      "source": [
        "original_titles = np.array(['Toki o kakeru shôjo', 'Sen to Chihiro no kamikakushi', 'Koe no katachi', 'Ano hi mita hana no namae o bokutachi wa mada shiranai.',\n",
        "                            'Atlantis: The Lost Empire', 'SpongeBob SquarePants', 'The SpongeBob Movie: Sponge Out of Water', 'Challenger: The Final Flight',\n",
        "                            'Coraline', 'Ôkami kodomo no Ame to Yuki', 'Inside Out', 'School of Rock',\n",
        "                            'Coronavirus, Explained', 'Exterminadores do Além Contra a Loira do Banheiro', 'Greatest Events of WWII in Colour', 'History 101',\n",
        "                            'Kubo and the Two Strings', 'Little Witch Academia', 'Ritoru wicchi akademia: Mahoujihikake no parêdo', 'Uchiage hanabi, shita kara miru ka? Yoko kara miru ka?',\n",
        "                            'The Martian', 'Tonari no Totoro', 'Mission Control: The Unsung Heroes of Apollo', 'NOVA: Black Hole Apocalypse', 'NOVA: Death Dive to Saturn',\n",
        "                            'The Universe', 'Nakitai watashi wa neko o kaburu', 'One Punch Man: Wanpanman', 'ParaNorman',\n",
        "                            'The Secret Life of Pets', 'Sangatsu no Lion', 'WWII in Color: Road to Victory', 'Sherlock',\n",
        "                            'Si shi qing chun', 'Space Force', 'Karakai Jouzu no Takagi-san', 'The Search for Life: The Drake Equation',\n",
        "                            'The Walking Dead', 'Toradora!', 'Tron: Legacy', 'Full House',\n",
        "                            'The Fresh Prince of Bel-Air', 'Hoshi o ou kodomo', 'Kimi no na wa.'])\n",
        "original_titles"
      ],
      "metadata": {
        "colab": {
          "base_uri": "https://localhost:8080/"
        },
        "id": "JJGwTje-P4bg",
        "outputId": "6ad88799-4b76-4cdf-9ec5-166d4ac7f9ec"
      },
      "execution_count": 27,
      "outputs": [
        {
          "output_type": "execute_result",
          "data": {
            "text/plain": [
              "array(['Toki o kakeru shôjo', 'Sen to Chihiro no kamikakushi',\n",
              "       'Koe no katachi',\n",
              "       'Ano hi mita hana no namae o bokutachi wa mada shiranai',\n",
              "       'Atlantis: The Lost Empire', 'SpongeBob SquarePants',\n",
              "       'The SpongeBob Movie: Sponge Out of Water',\n",
              "       'Challenger: The Final Flight', 'Coraline',\n",
              "       'Ôkami kodomo no Ame to Yuki', 'Inside Out', 'School of Rock',\n",
              "       'Coronavirus, Explained',\n",
              "       'Exterminadores do Além Contra a Loira do Banheiro',\n",
              "       'Greatest Events of WWII in Colour', 'History 101',\n",
              "       'Kubo and the Two Strings', 'Little Witch Academia',\n",
              "       'Ritoru wicchi akademia: Mahoujihikake no parêdo',\n",
              "       'Uchiage hanabi, shita kara miru ka? Yoko kara miru ka?',\n",
              "       'The Martian', 'Tonari no Totoro',\n",
              "       'Mission Control: The Unsung Heroes of Apollo',\n",
              "       'NOVA: Black Hole Apocalypse', 'NOVA: Death Dive to Saturn',\n",
              "       'The Universe', 'Nakitai watashi wa neko o kaburu',\n",
              "       'One Punch Man: Wanpanman', 'ParaNorman',\n",
              "       'The Secret Life of Pets', 'Sangatsu no Lion',\n",
              "       'WWII in Color: Road to Victory', 'Sherlock', 'Si shi qing chun',\n",
              "       'Space Force', 'Karakai Jouzu no Takagi-san',\n",
              "       'The Search for Life: The Drake Equation', 'The Walking Dead',\n",
              "       'Toradora!', 'Tron: Legacy', 'Full House',\n",
              "       'The Fresh Prince of Bel-Air', 'Hoshi o ou kodomo',\n",
              "       'Kimi no na wa.'], dtype='<U54')"
            ]
          },
          "metadata": {},
          "execution_count": 27
        }
      ]
    },
    {
      "cell_type": "code",
      "source": [
        "mapped_titles = dict(zip(titles, original_titles))\n",
        "mapped_titles"
      ],
      "metadata": {
        "colab": {
          "base_uri": "https://localhost:8080/"
        },
        "id": "pq3Vq4CohED8",
        "outputId": "52c99f75-bff6-4a2e-cfd6-f130122a9247"
      },
      "execution_count": 28,
      "outputs": [
        {
          "output_type": "execute_result",
          "data": {
            "text/plain": [
              "{'A Garota que conquistou o tempo': 'Toki o kakeru shôjo',\n",
              " 'A Viagem de Chihiro': 'Sen to Chihiro no kamikakushi',\n",
              " 'A Voz do Silêncio – Koe No Katachi': 'Koe no katachi',\n",
              " 'Ano Hana': 'Ano hi mita hana no namae o bokutachi wa mada shiranai',\n",
              " 'Atlantis - O reino perdido': 'Atlantis: The Lost Empire',\n",
              " 'Bob Esponja': 'SpongeBob SquarePants',\n",
              " \"Bob Esponja - Um Herói Fora D'Água\": 'The SpongeBob Movie: Sponge Out of Water',\n",
              " 'Challenger: Voo Final': 'Challenger: The Final Flight',\n",
              " 'Coraline e o mundo secreto': 'Coraline',\n",
              " 'Crianças Lobo': 'Ôkami kodomo no Ame to Yuki',\n",
              " 'Divertida Mente': 'Inside Out',\n",
              " 'Escola de rock': 'School of Rock',\n",
              " 'Explicando... O Coronavírus': 'Coronavirus, Explained',\n",
              " 'Exterminadores do Além Contra a Loira do Banheiro': 'Exterminadores do Além Contra a Loira do Banheiro',\n",
              " 'Grandes Momentos da Segunda Guerra em Cores': 'Greatest Events of WWII in Colour',\n",
              " 'História: Direto ao Assunto': 'History 101',\n",
              " 'Kubo e as Cordas Mágicas': 'Kubo and the Two Strings',\n",
              " 'Little Witch Academia': 'Little Witch Academia',\n",
              " 'Little Witch Academia: The Enchanted Parade': 'Ritoru wicchi akademia: Mahoujihikake no parêdo',\n",
              " 'Luzes no Céu: Fireworks': 'Uchiage hanabi, shita kara miru ka? Yoko kara miru ka?',\n",
              " 'Marte': 'The Martian',\n",
              " 'Meu Amigo Totoro': 'Tonari no Totoro',\n",
              " 'Mission Control: The Unsung Heroes of Apollo': 'Mission Control: The Unsung Heroes of Apollo',\n",
              " 'NOVA: Black Hole Apocalypse': 'NOVA: Black Hole Apocalypse',\n",
              " 'NOVA: Viagem a Saturno': 'NOVA: Death Dive to Saturn',\n",
              " 'O Universo': 'The Universe',\n",
              " 'Olhos de Gato': 'Nakitai watashi wa neko o kaburu',\n",
              " 'One-Punch Man': 'One Punch Man: Wanpanman',\n",
              " 'ParaNorman': 'ParaNorman',\n",
              " 'Pets - A Vida Secreta dos Bichos': 'The Secret Life of Pets',\n",
              " 'Sangatsu no Lion': 'Sangatsu no Lion',\n",
              " 'Segunda Guerra em Cores: Caminho para a Vitória': 'WWII in Color: Road to Victory',\n",
              " 'Sherlock': 'Sherlock',\n",
              " 'Shiki Oriori: O Sabor da Juventude': 'Si shi qing chun',\n",
              " 'Space Force': 'Space Force',\n",
              " 'Teasing Master Takagi-san': 'Karakai Jouzu no Takagi-san',\n",
              " 'The Search for Life in Space': 'The Search for Life: The Drake Equation',\n",
              " 'The Walking Dead': 'The Walking Dead',\n",
              " 'Toradora!': 'Toradora!',\n",
              " 'Tron: O legado': 'Tron: Legacy',\n",
              " 'Três é Demais': 'Full House',\n",
              " 'Um maluco no pedaço': 'The Fresh Prince of Bel-Air',\n",
              " 'Viagem para Agartha': 'Hoshi o ou kodomo',\n",
              " 'Your Name': 'Kimi no na wa.'}"
            ]
          },
          "metadata": {},
          "execution_count": 28
        }
      ]
    },
    {
      "cell_type": "code",
      "source": [
        "netflix_df['Title'].replace(mapped_titles, inplace=True)\n",
        "netflix_df.sample(10)"
      ],
      "metadata": {
        "colab": {
          "base_uri": "https://localhost:8080/",
          "height": 363
        },
        "id": "eHroOmykhkHO",
        "outputId": "de2dafc7-07f9-4a54-c14b-60298b8eef00"
      },
      "execution_count": 29,
      "outputs": [
        {
          "output_type": "execute_result",
          "data": {
            "text/html": [
              "\n",
              "  <div id=\"df-1006f668-0d19-4d53-870f-f4e960f2df69\">\n",
              "    <div class=\"colab-df-container\">\n",
              "      <div>\n",
              "<style scoped>\n",
              "    .dataframe tbody tr th:only-of-type {\n",
              "        vertical-align: middle;\n",
              "    }\n",
              "\n",
              "    .dataframe tbody tr th {\n",
              "        vertical-align: top;\n",
              "    }\n",
              "\n",
              "    .dataframe thead th {\n",
              "        text-align: right;\n",
              "    }\n",
              "</style>\n",
              "<table border=\"1\" class=\"dataframe\">\n",
              "  <thead>\n",
              "    <tr style=\"text-align: right;\">\n",
              "      <th></th>\n",
              "      <th>Title</th>\n",
              "      <th>Date</th>\n",
              "      <th>Episode</th>\n",
              "    </tr>\n",
              "  </thead>\n",
              "  <tbody>\n",
              "    <tr>\n",
              "      <th>99</th>\n",
              "      <td>Toradora!</td>\n",
              "      <td>05/08/2020</td>\n",
              "      <td>1: Tigre de Bolso da Felicidade</td>\n",
              "    </tr>\n",
              "    <tr>\n",
              "      <th>266</th>\n",
              "      <td>Sherlock</td>\n",
              "      <td>14/12/2019</td>\n",
              "      <td>4: O detetive mentiroso</td>\n",
              "    </tr>\n",
              "    <tr>\n",
              "      <th>72</th>\n",
              "      <td>Sangatsu no Lion</td>\n",
              "      <td>29/10/2020</td>\n",
              "      <td>1: Episódio 13</td>\n",
              "    </tr>\n",
              "    <tr>\n",
              "      <th>317</th>\n",
              "      <td>The Fresh Prince of Bel-Air</td>\n",
              "      <td>04/11/2019</td>\n",
              "      <td>4: Uma nova carreira</td>\n",
              "    </tr>\n",
              "    <tr>\n",
              "      <th>263</th>\n",
              "      <td>Karakai Jouzu no Takagi-san</td>\n",
              "      <td>16/12/2019</td>\n",
              "      <td>2: Episódio 1</td>\n",
              "    </tr>\n",
              "    <tr>\n",
              "      <th>181</th>\n",
              "      <td>Full House</td>\n",
              "      <td>19/01/2020</td>\n",
              "      <td>4: Proposta indecente</td>\n",
              "    </tr>\n",
              "    <tr>\n",
              "      <th>176</th>\n",
              "      <td>Full House</td>\n",
              "      <td>20/01/2020</td>\n",
              "      <td>4: Las Joey Vegas</td>\n",
              "    </tr>\n",
              "    <tr>\n",
              "      <th>203</th>\n",
              "      <td>Full House</td>\n",
              "      <td>08/01/2020</td>\n",
              "      <td>3: O melhor aniversário do mundo</td>\n",
              "    </tr>\n",
              "    <tr>\n",
              "      <th>175</th>\n",
              "      <td>Full House</td>\n",
              "      <td>20/01/2020</td>\n",
              "      <td>4: Dieta secreta</td>\n",
              "    </tr>\n",
              "    <tr>\n",
              "      <th>109</th>\n",
              "      <td>Toradora!</td>\n",
              "      <td>03/08/2020</td>\n",
              "      <td>1: Aquela cara que você fez</td>\n",
              "    </tr>\n",
              "  </tbody>\n",
              "</table>\n",
              "</div>\n",
              "      <button class=\"colab-df-convert\" onclick=\"convertToInteractive('df-1006f668-0d19-4d53-870f-f4e960f2df69')\"\n",
              "              title=\"Convert this dataframe to an interactive table.\"\n",
              "              style=\"display:none;\">\n",
              "        \n",
              "  <svg xmlns=\"http://www.w3.org/2000/svg\" height=\"24px\"viewBox=\"0 0 24 24\"\n",
              "       width=\"24px\">\n",
              "    <path d=\"M0 0h24v24H0V0z\" fill=\"none\"/>\n",
              "    <path d=\"M18.56 5.44l.94 2.06.94-2.06 2.06-.94-2.06-.94-.94-2.06-.94 2.06-2.06.94zm-11 1L8.5 8.5l.94-2.06 2.06-.94-2.06-.94L8.5 2.5l-.94 2.06-2.06.94zm10 10l.94 2.06.94-2.06 2.06-.94-2.06-.94-.94-2.06-.94 2.06-2.06.94z\"/><path d=\"M17.41 7.96l-1.37-1.37c-.4-.4-.92-.59-1.43-.59-.52 0-1.04.2-1.43.59L10.3 9.45l-7.72 7.72c-.78.78-.78 2.05 0 2.83L4 21.41c.39.39.9.59 1.41.59.51 0 1.02-.2 1.41-.59l7.78-7.78 2.81-2.81c.8-.78.8-2.07 0-2.86zM5.41 20L4 18.59l7.72-7.72 1.47 1.35L5.41 20z\"/>\n",
              "  </svg>\n",
              "      </button>\n",
              "      \n",
              "  <style>\n",
              "    .colab-df-container {\n",
              "      display:flex;\n",
              "      flex-wrap:wrap;\n",
              "      gap: 12px;\n",
              "    }\n",
              "\n",
              "    .colab-df-convert {\n",
              "      background-color: #E8F0FE;\n",
              "      border: none;\n",
              "      border-radius: 50%;\n",
              "      cursor: pointer;\n",
              "      display: none;\n",
              "      fill: #1967D2;\n",
              "      height: 32px;\n",
              "      padding: 0 0 0 0;\n",
              "      width: 32px;\n",
              "    }\n",
              "\n",
              "    .colab-df-convert:hover {\n",
              "      background-color: #E2EBFA;\n",
              "      box-shadow: 0px 1px 2px rgba(60, 64, 67, 0.3), 0px 1px 3px 1px rgba(60, 64, 67, 0.15);\n",
              "      fill: #174EA6;\n",
              "    }\n",
              "\n",
              "    [theme=dark] .colab-df-convert {\n",
              "      background-color: #3B4455;\n",
              "      fill: #D2E3FC;\n",
              "    }\n",
              "\n",
              "    [theme=dark] .colab-df-convert:hover {\n",
              "      background-color: #434B5C;\n",
              "      box-shadow: 0px 1px 3px 1px rgba(0, 0, 0, 0.15);\n",
              "      filter: drop-shadow(0px 1px 2px rgba(0, 0, 0, 0.3));\n",
              "      fill: #FFFFFF;\n",
              "    }\n",
              "  </style>\n",
              "\n",
              "      <script>\n",
              "        const buttonEl =\n",
              "          document.querySelector('#df-1006f668-0d19-4d53-870f-f4e960f2df69 button.colab-df-convert');\n",
              "        buttonEl.style.display =\n",
              "          google.colab.kernel.accessAllowed ? 'block' : 'none';\n",
              "\n",
              "        async function convertToInteractive(key) {\n",
              "          const element = document.querySelector('#df-1006f668-0d19-4d53-870f-f4e960f2df69');\n",
              "          const dataTable =\n",
              "            await google.colab.kernel.invokeFunction('convertToInteractive',\n",
              "                                                     [key], {});\n",
              "          if (!dataTable) return;\n",
              "\n",
              "          const docLinkHtml = 'Like what you see? Visit the ' +\n",
              "            '<a target=\"_blank\" href=https://colab.research.google.com/notebooks/data_table.ipynb>data table notebook</a>'\n",
              "            + ' to learn more about interactive tables.';\n",
              "          element.innerHTML = '';\n",
              "          dataTable['output_type'] = 'display_data';\n",
              "          await google.colab.output.renderOutput(dataTable, element);\n",
              "          const docLink = document.createElement('div');\n",
              "          docLink.innerHTML = docLinkHtml;\n",
              "          element.appendChild(docLink);\n",
              "        }\n",
              "      </script>\n",
              "    </div>\n",
              "  </div>\n",
              "  "
            ],
            "text/plain": [
              "                           Title        Date                           Episode\n",
              "99                     Toradora!  05/08/2020   1: Tigre de Bolso da Felicidade\n",
              "266                     Sherlock  14/12/2019           4: O detetive mentiroso\n",
              "72              Sangatsu no Lion  29/10/2020                    1: Episódio 13\n",
              "317  The Fresh Prince of Bel-Air  04/11/2019              4: Uma nova carreira\n",
              "263  Karakai Jouzu no Takagi-san  16/12/2019                     2: Episódio 1\n",
              "181                   Full House  19/01/2020             4: Proposta indecente\n",
              "176                   Full House  20/01/2020                 4: Las Joey Vegas\n",
              "203                   Full House  08/01/2020  3: O melhor aniversário do mundo\n",
              "175                   Full House  20/01/2020                  4: Dieta secreta\n",
              "109                    Toradora!  03/08/2020       1: Aquela cara que você fez"
            ]
          },
          "metadata": {},
          "execution_count": 29
        }
      ]
    },
    {
      "cell_type": "code",
      "source": [
        "from IPython.display import clear_output\n",
        "\n",
        "def get_id_from_imdb(title_name):\n",
        "  titles = spark.sql(f\"SELECT * FROM akas_df WHERE title = '{title_name}' AND types = 'imdbDisplay'\").toPandas()\n",
        "  titles = titles.drop_duplicates(subset=['titleId'])\n",
        "  titles = titles.reset_index(drop=True)\n",
        "\n",
        "  \"\"\"\n",
        "  ids_size = len(titles.index)\n",
        "\n",
        "  if ids_size > 1:\n",
        "    clear_output(wait=True)\n",
        "    print(f'Escolha um ID (index) para <<{title_name}>>:')\n",
        "    display(titles)\n",
        "    input_id = int(input('>> '))\n",
        "    id = titles['titleId'][titles.index[input_id]]\n",
        "  elif ids_size == 1:\n",
        "    id = titles['titleId'][titles.index[0]]\n",
        "  else:\n",
        "    id = None\n",
        "  \"\"\"\n",
        "\n",
        "  if len(titles) > 0:\n",
        "    id = titles['titleId'][titles.index[0]]\n",
        "  else:\n",
        "    id = None\n",
        "\n",
        "  title_id = id if id != None else np.nan\n",
        "  return title_id"
      ],
      "metadata": {
        "id": "hEEgwNPBBIg7"
      },
      "execution_count": 54,
      "outputs": []
    },
    {
      "cell_type": "code",
      "source": [
        "title_ids = [get_id_from_imdb(x) for x in original_titles]\n",
        "title_ids"
      ],
      "metadata": {
        "colab": {
          "base_uri": "https://localhost:8080/"
        },
        "id": "UCk8aKG8A_6z",
        "outputId": "dfed247f-7092-464b-a9e4-e72c8c4d0f74"
      },
      "execution_count": 55,
      "outputs": [
        {
          "output_type": "execute_result",
          "data": {
            "text/plain": [
              "['tt0808506',\n",
              " 'tt0245429',\n",
              " 'tt5323662',\n",
              " nan,\n",
              " 'tt0230011',\n",
              " 'tt0206512',\n",
              " 'tt2279373',\n",
              " 'tt12930534',\n",
              " 'tt0327597',\n",
              " nan,\n",
              " 'tt0073174',\n",
              " 'tt0332379',\n",
              " 'tt12189310',\n",
              " 'tt8753660',\n",
              " 'tt9103932',\n",
              " 'tt11958648',\n",
              " 'tt4302938',\n",
              " 'tt6352180',\n",
              " nan,\n",
              " nan,\n",
              " 'tt2910906',\n",
              " 'tt0096283',\n",
              " 'tt5959952',\n",
              " nan,\n",
              " nan,\n",
              " 'tt1051155',\n",
              " nan,\n",
              " 'tt4508902',\n",
              " 'tt1623288',\n",
              " 'tt2709768',\n",
              " 'tt6074794',\n",
              " 'tt16477402',\n",
              " 'tt0337593',\n",
              " nan,\n",
              " 'tt11309924',\n",
              " 'tt7808344',\n",
              " nan,\n",
              " 'tt0028478',\n",
              " 'tt1279024',\n",
              " 'tt1104001',\n",
              " 'tt0092359',\n",
              " 'tt0098800',\n",
              " nan,\n",
              " 'tt5311514']"
            ]
          },
          "metadata": {},
          "execution_count": 55
        }
      ]
    },
    {
      "cell_type": "code",
      "source": [
        "def categorise(row):\n",
        "  for i in range(len(original_titles)):\n",
        "    if(row['Title'] == original_titles[i]):\n",
        "      return title_ids[i]\n",
        "  return np.nan"
      ],
      "metadata": {
        "id": "Z1JRoySKqF4U"
      },
      "execution_count": 58,
      "outputs": []
    },
    {
      "cell_type": "code",
      "source": [
        "netflix_df['titleId'] = netflix_df.apply(lambda row: categorise(row), axis=1)\n",
        "netflix_df.head()"
      ],
      "metadata": {
        "colab": {
          "base_uri": "https://localhost:8080/",
          "height": 206
        },
        "id": "-5NFC7YIqLDb",
        "outputId": "577012e9-0e1c-4ca3-dfd6-61f438b13281"
      },
      "execution_count": 61,
      "outputs": [
        {
          "output_type": "execute_result",
          "data": {
            "text/html": [
              "\n",
              "  <div id=\"df-ea5a5953-fd8f-4603-bfef-6a0f06d8fb74\">\n",
              "    <div class=\"colab-df-container\">\n",
              "      <div>\n",
              "<style scoped>\n",
              "    .dataframe tbody tr th:only-of-type {\n",
              "        vertical-align: middle;\n",
              "    }\n",
              "\n",
              "    .dataframe tbody tr th {\n",
              "        vertical-align: top;\n",
              "    }\n",
              "\n",
              "    .dataframe thead th {\n",
              "        text-align: right;\n",
              "    }\n",
              "</style>\n",
              "<table border=\"1\" class=\"dataframe\">\n",
              "  <thead>\n",
              "    <tr style=\"text-align: right;\">\n",
              "      <th></th>\n",
              "      <th>Title</th>\n",
              "      <th>Date</th>\n",
              "      <th>Episode</th>\n",
              "      <th>titleId</th>\n",
              "    </tr>\n",
              "  </thead>\n",
              "  <tbody>\n",
              "    <tr>\n",
              "      <th>0</th>\n",
              "      <td>WWII in Color: Road to Victory</td>\n",
              "      <td>14/02/2022</td>\n",
              "      <td>1: Ocupação da Itália</td>\n",
              "      <td>tt16477402</td>\n",
              "    </tr>\n",
              "    <tr>\n",
              "      <th>1</th>\n",
              "      <td>WWII in Color: Road to Victory</td>\n",
              "      <td>08/02/2022</td>\n",
              "      <td>1: Batalha de Kursk</td>\n",
              "      <td>tt16477402</td>\n",
              "    </tr>\n",
              "    <tr>\n",
              "      <th>2</th>\n",
              "      <td>WWII in Color: Road to Victory</td>\n",
              "      <td>31/01/2022</td>\n",
              "      <td>1: Ocupação do Norte da África</td>\n",
              "      <td>tt16477402</td>\n",
              "    </tr>\n",
              "    <tr>\n",
              "      <th>3</th>\n",
              "      <td>WWII in Color: Road to Victory</td>\n",
              "      <td>30/12/2021</td>\n",
              "      <td>1: Batalha do Atlântico</td>\n",
              "      <td>tt16477402</td>\n",
              "    </tr>\n",
              "    <tr>\n",
              "      <th>4</th>\n",
              "      <td>WWII in Color: Road to Victory</td>\n",
              "      <td>27/12/2021</td>\n",
              "      <td>1: Dunquerque</td>\n",
              "      <td>tt16477402</td>\n",
              "    </tr>\n",
              "  </tbody>\n",
              "</table>\n",
              "</div>\n",
              "      <button class=\"colab-df-convert\" onclick=\"convertToInteractive('df-ea5a5953-fd8f-4603-bfef-6a0f06d8fb74')\"\n",
              "              title=\"Convert this dataframe to an interactive table.\"\n",
              "              style=\"display:none;\">\n",
              "        \n",
              "  <svg xmlns=\"http://www.w3.org/2000/svg\" height=\"24px\"viewBox=\"0 0 24 24\"\n",
              "       width=\"24px\">\n",
              "    <path d=\"M0 0h24v24H0V0z\" fill=\"none\"/>\n",
              "    <path d=\"M18.56 5.44l.94 2.06.94-2.06 2.06-.94-2.06-.94-.94-2.06-.94 2.06-2.06.94zm-11 1L8.5 8.5l.94-2.06 2.06-.94-2.06-.94L8.5 2.5l-.94 2.06-2.06.94zm10 10l.94 2.06.94-2.06 2.06-.94-2.06-.94-.94-2.06-.94 2.06-2.06.94z\"/><path d=\"M17.41 7.96l-1.37-1.37c-.4-.4-.92-.59-1.43-.59-.52 0-1.04.2-1.43.59L10.3 9.45l-7.72 7.72c-.78.78-.78 2.05 0 2.83L4 21.41c.39.39.9.59 1.41.59.51 0 1.02-.2 1.41-.59l7.78-7.78 2.81-2.81c.8-.78.8-2.07 0-2.86zM5.41 20L4 18.59l7.72-7.72 1.47 1.35L5.41 20z\"/>\n",
              "  </svg>\n",
              "      </button>\n",
              "      \n",
              "  <style>\n",
              "    .colab-df-container {\n",
              "      display:flex;\n",
              "      flex-wrap:wrap;\n",
              "      gap: 12px;\n",
              "    }\n",
              "\n",
              "    .colab-df-convert {\n",
              "      background-color: #E8F0FE;\n",
              "      border: none;\n",
              "      border-radius: 50%;\n",
              "      cursor: pointer;\n",
              "      display: none;\n",
              "      fill: #1967D2;\n",
              "      height: 32px;\n",
              "      padding: 0 0 0 0;\n",
              "      width: 32px;\n",
              "    }\n",
              "\n",
              "    .colab-df-convert:hover {\n",
              "      background-color: #E2EBFA;\n",
              "      box-shadow: 0px 1px 2px rgba(60, 64, 67, 0.3), 0px 1px 3px 1px rgba(60, 64, 67, 0.15);\n",
              "      fill: #174EA6;\n",
              "    }\n",
              "\n",
              "    [theme=dark] .colab-df-convert {\n",
              "      background-color: #3B4455;\n",
              "      fill: #D2E3FC;\n",
              "    }\n",
              "\n",
              "    [theme=dark] .colab-df-convert:hover {\n",
              "      background-color: #434B5C;\n",
              "      box-shadow: 0px 1px 3px 1px rgba(0, 0, 0, 0.15);\n",
              "      filter: drop-shadow(0px 1px 2px rgba(0, 0, 0, 0.3));\n",
              "      fill: #FFFFFF;\n",
              "    }\n",
              "  </style>\n",
              "\n",
              "      <script>\n",
              "        const buttonEl =\n",
              "          document.querySelector('#df-ea5a5953-fd8f-4603-bfef-6a0f06d8fb74 button.colab-df-convert');\n",
              "        buttonEl.style.display =\n",
              "          google.colab.kernel.accessAllowed ? 'block' : 'none';\n",
              "\n",
              "        async function convertToInteractive(key) {\n",
              "          const element = document.querySelector('#df-ea5a5953-fd8f-4603-bfef-6a0f06d8fb74');\n",
              "          const dataTable =\n",
              "            await google.colab.kernel.invokeFunction('convertToInteractive',\n",
              "                                                     [key], {});\n",
              "          if (!dataTable) return;\n",
              "\n",
              "          const docLinkHtml = 'Like what you see? Visit the ' +\n",
              "            '<a target=\"_blank\" href=https://colab.research.google.com/notebooks/data_table.ipynb>data table notebook</a>'\n",
              "            + ' to learn more about interactive tables.';\n",
              "          element.innerHTML = '';\n",
              "          dataTable['output_type'] = 'display_data';\n",
              "          await google.colab.output.renderOutput(dataTable, element);\n",
              "          const docLink = document.createElement('div');\n",
              "          docLink.innerHTML = docLinkHtml;\n",
              "          element.appendChild(docLink);\n",
              "        }\n",
              "      </script>\n",
              "    </div>\n",
              "  </div>\n",
              "  "
            ],
            "text/plain": [
              "                            Title        Date                         Episode  \\\n",
              "0  WWII in Color: Road to Victory  14/02/2022           1: Ocupação da Itália   \n",
              "1  WWII in Color: Road to Victory  08/02/2022             1: Batalha de Kursk   \n",
              "2  WWII in Color: Road to Victory  31/01/2022  1: Ocupação do Norte da África   \n",
              "3  WWII in Color: Road to Victory  30/12/2021         1: Batalha do Atlântico   \n",
              "4  WWII in Color: Road to Victory  27/12/2021                   1: Dunquerque   \n",
              "\n",
              "      titleId  \n",
              "0  tt16477402  \n",
              "1  tt16477402  \n",
              "2  tt16477402  \n",
              "3  tt16477402  \n",
              "4  tt16477402  "
            ]
          },
          "metadata": {},
          "execution_count": 61
        }
      ]
    },
    {
      "cell_type": "code",
      "source": [
        "netflix_df = netflix_df[['titleId', 'Title', 'Episode', 'Date']]"
      ],
      "metadata": {
        "id": "u04WDX6VrNmH"
      },
      "execution_count": 63,
      "outputs": []
    },
    {
      "cell_type": "code",
      "source": [
        "netflix_df.head()"
      ],
      "metadata": {
        "colab": {
          "base_uri": "https://localhost:8080/",
          "height": 206
        },
        "id": "sd5QRivLrYLo",
        "outputId": "4636c1c4-d157-4bc5-d375-cae1cb7bb131"
      },
      "execution_count": 64,
      "outputs": [
        {
          "output_type": "execute_result",
          "data": {
            "text/html": [
              "\n",
              "  <div id=\"df-c3dee7de-7bdd-45a8-8837-a3ed285e7f21\">\n",
              "    <div class=\"colab-df-container\">\n",
              "      <div>\n",
              "<style scoped>\n",
              "    .dataframe tbody tr th:only-of-type {\n",
              "        vertical-align: middle;\n",
              "    }\n",
              "\n",
              "    .dataframe tbody tr th {\n",
              "        vertical-align: top;\n",
              "    }\n",
              "\n",
              "    .dataframe thead th {\n",
              "        text-align: right;\n",
              "    }\n",
              "</style>\n",
              "<table border=\"1\" class=\"dataframe\">\n",
              "  <thead>\n",
              "    <tr style=\"text-align: right;\">\n",
              "      <th></th>\n",
              "      <th>titleId</th>\n",
              "      <th>Title</th>\n",
              "      <th>Episode</th>\n",
              "      <th>Date</th>\n",
              "    </tr>\n",
              "  </thead>\n",
              "  <tbody>\n",
              "    <tr>\n",
              "      <th>0</th>\n",
              "      <td>tt16477402</td>\n",
              "      <td>WWII in Color: Road to Victory</td>\n",
              "      <td>1: Ocupação da Itália</td>\n",
              "      <td>14/02/2022</td>\n",
              "    </tr>\n",
              "    <tr>\n",
              "      <th>1</th>\n",
              "      <td>tt16477402</td>\n",
              "      <td>WWII in Color: Road to Victory</td>\n",
              "      <td>1: Batalha de Kursk</td>\n",
              "      <td>08/02/2022</td>\n",
              "    </tr>\n",
              "    <tr>\n",
              "      <th>2</th>\n",
              "      <td>tt16477402</td>\n",
              "      <td>WWII in Color: Road to Victory</td>\n",
              "      <td>1: Ocupação do Norte da África</td>\n",
              "      <td>31/01/2022</td>\n",
              "    </tr>\n",
              "    <tr>\n",
              "      <th>3</th>\n",
              "      <td>tt16477402</td>\n",
              "      <td>WWII in Color: Road to Victory</td>\n",
              "      <td>1: Batalha do Atlântico</td>\n",
              "      <td>30/12/2021</td>\n",
              "    </tr>\n",
              "    <tr>\n",
              "      <th>4</th>\n",
              "      <td>tt16477402</td>\n",
              "      <td>WWII in Color: Road to Victory</td>\n",
              "      <td>1: Dunquerque</td>\n",
              "      <td>27/12/2021</td>\n",
              "    </tr>\n",
              "  </tbody>\n",
              "</table>\n",
              "</div>\n",
              "      <button class=\"colab-df-convert\" onclick=\"convertToInteractive('df-c3dee7de-7bdd-45a8-8837-a3ed285e7f21')\"\n",
              "              title=\"Convert this dataframe to an interactive table.\"\n",
              "              style=\"display:none;\">\n",
              "        \n",
              "  <svg xmlns=\"http://www.w3.org/2000/svg\" height=\"24px\"viewBox=\"0 0 24 24\"\n",
              "       width=\"24px\">\n",
              "    <path d=\"M0 0h24v24H0V0z\" fill=\"none\"/>\n",
              "    <path d=\"M18.56 5.44l.94 2.06.94-2.06 2.06-.94-2.06-.94-.94-2.06-.94 2.06-2.06.94zm-11 1L8.5 8.5l.94-2.06 2.06-.94-2.06-.94L8.5 2.5l-.94 2.06-2.06.94zm10 10l.94 2.06.94-2.06 2.06-.94-2.06-.94-.94-2.06-.94 2.06-2.06.94z\"/><path d=\"M17.41 7.96l-1.37-1.37c-.4-.4-.92-.59-1.43-.59-.52 0-1.04.2-1.43.59L10.3 9.45l-7.72 7.72c-.78.78-.78 2.05 0 2.83L4 21.41c.39.39.9.59 1.41.59.51 0 1.02-.2 1.41-.59l7.78-7.78 2.81-2.81c.8-.78.8-2.07 0-2.86zM5.41 20L4 18.59l7.72-7.72 1.47 1.35L5.41 20z\"/>\n",
              "  </svg>\n",
              "      </button>\n",
              "      \n",
              "  <style>\n",
              "    .colab-df-container {\n",
              "      display:flex;\n",
              "      flex-wrap:wrap;\n",
              "      gap: 12px;\n",
              "    }\n",
              "\n",
              "    .colab-df-convert {\n",
              "      background-color: #E8F0FE;\n",
              "      border: none;\n",
              "      border-radius: 50%;\n",
              "      cursor: pointer;\n",
              "      display: none;\n",
              "      fill: #1967D2;\n",
              "      height: 32px;\n",
              "      padding: 0 0 0 0;\n",
              "      width: 32px;\n",
              "    }\n",
              "\n",
              "    .colab-df-convert:hover {\n",
              "      background-color: #E2EBFA;\n",
              "      box-shadow: 0px 1px 2px rgba(60, 64, 67, 0.3), 0px 1px 3px 1px rgba(60, 64, 67, 0.15);\n",
              "      fill: #174EA6;\n",
              "    }\n",
              "\n",
              "    [theme=dark] .colab-df-convert {\n",
              "      background-color: #3B4455;\n",
              "      fill: #D2E3FC;\n",
              "    }\n",
              "\n",
              "    [theme=dark] .colab-df-convert:hover {\n",
              "      background-color: #434B5C;\n",
              "      box-shadow: 0px 1px 3px 1px rgba(0, 0, 0, 0.15);\n",
              "      filter: drop-shadow(0px 1px 2px rgba(0, 0, 0, 0.3));\n",
              "      fill: #FFFFFF;\n",
              "    }\n",
              "  </style>\n",
              "\n",
              "      <script>\n",
              "        const buttonEl =\n",
              "          document.querySelector('#df-c3dee7de-7bdd-45a8-8837-a3ed285e7f21 button.colab-df-convert');\n",
              "        buttonEl.style.display =\n",
              "          google.colab.kernel.accessAllowed ? 'block' : 'none';\n",
              "\n",
              "        async function convertToInteractive(key) {\n",
              "          const element = document.querySelector('#df-c3dee7de-7bdd-45a8-8837-a3ed285e7f21');\n",
              "          const dataTable =\n",
              "            await google.colab.kernel.invokeFunction('convertToInteractive',\n",
              "                                                     [key], {});\n",
              "          if (!dataTable) return;\n",
              "\n",
              "          const docLinkHtml = 'Like what you see? Visit the ' +\n",
              "            '<a target=\"_blank\" href=https://colab.research.google.com/notebooks/data_table.ipynb>data table notebook</a>'\n",
              "            + ' to learn more about interactive tables.';\n",
              "          element.innerHTML = '';\n",
              "          dataTable['output_type'] = 'display_data';\n",
              "          await google.colab.output.renderOutput(dataTable, element);\n",
              "          const docLink = document.createElement('div');\n",
              "          docLink.innerHTML = docLinkHtml;\n",
              "          element.appendChild(docLink);\n",
              "        }\n",
              "      </script>\n",
              "    </div>\n",
              "  </div>\n",
              "  "
            ],
            "text/plain": [
              "      titleId                           Title                         Episode  \\\n",
              "0  tt16477402  WWII in Color: Road to Victory           1: Ocupação da Itália   \n",
              "1  tt16477402  WWII in Color: Road to Victory             1: Batalha de Kursk   \n",
              "2  tt16477402  WWII in Color: Road to Victory  1: Ocupação do Norte da África   \n",
              "3  tt16477402  WWII in Color: Road to Victory         1: Batalha do Atlântico   \n",
              "4  tt16477402  WWII in Color: Road to Victory                   1: Dunquerque   \n",
              "\n",
              "         Date  \n",
              "0  14/02/2022  \n",
              "1  08/02/2022  \n",
              "2  31/01/2022  \n",
              "3  30/12/2021  \n",
              "4  27/12/2021  "
            ]
          },
          "metadata": {},
          "execution_count": 64
        }
      ]
    },
    {
      "cell_type": "code",
      "source": [
        "from google.colab import files\n",
        "\n",
        "netflix_df.to_csv('NetflixIMDb.csv', index=False, encoding = 'utf-8') \n",
        "files.download('NetflixIMDb.csv')"
      ],
      "metadata": {
        "colab": {
          "base_uri": "https://localhost:8080/",
          "height": 17
        },
        "id": "Y_NEZXPbqivg",
        "outputId": "b58b075b-a8f4-428c-9dae-830178f30ef9"
      },
      "execution_count": 65,
      "outputs": [
        {
          "output_type": "display_data",
          "data": {
            "application/javascript": [
              "\n",
              "    async function download(id, filename, size) {\n",
              "      if (!google.colab.kernel.accessAllowed) {\n",
              "        return;\n",
              "      }\n",
              "      const div = document.createElement('div');\n",
              "      const label = document.createElement('label');\n",
              "      label.textContent = `Downloading \"${filename}\": `;\n",
              "      div.appendChild(label);\n",
              "      const progress = document.createElement('progress');\n",
              "      progress.max = size;\n",
              "      div.appendChild(progress);\n",
              "      document.body.appendChild(div);\n",
              "\n",
              "      const buffers = [];\n",
              "      let downloaded = 0;\n",
              "\n",
              "      const channel = await google.colab.kernel.comms.open(id);\n",
              "      // Send a message to notify the kernel that we're ready.\n",
              "      channel.send({})\n",
              "\n",
              "      for await (const message of channel.messages) {\n",
              "        // Send a message to notify the kernel that we're ready.\n",
              "        channel.send({})\n",
              "        if (message.buffers) {\n",
              "          for (const buffer of message.buffers) {\n",
              "            buffers.push(buffer);\n",
              "            downloaded += buffer.byteLength;\n",
              "            progress.value = downloaded;\n",
              "          }\n",
              "        }\n",
              "      }\n",
              "      const blob = new Blob(buffers, {type: 'application/binary'});\n",
              "      const a = document.createElement('a');\n",
              "      a.href = window.URL.createObjectURL(blob);\n",
              "      a.download = filename;\n",
              "      div.appendChild(a);\n",
              "      a.click();\n",
              "      div.remove();\n",
              "    }\n",
              "  "
            ],
            "text/plain": [
              "<IPython.core.display.Javascript object>"
            ]
          },
          "metadata": {}
        },
        {
          "output_type": "display_data",
          "data": {
            "application/javascript": [
              "download(\"download_9d93ab47-cb54-4868-9a06-26c7ae475072\", \"NetflixIMDb.csv\", 27631)"
            ],
            "text/plain": [
              "<IPython.core.display.Javascript object>"
            ]
          },
          "metadata": {}
        }
      ]
    },
    {
      "cell_type": "markdown",
      "source": [
        "# Área de Testes"
      ],
      "metadata": {
        "id": "kyfJnlM-_nnR"
      }
    },
    {
      "cell_type": "code",
      "source": [
        "akas_df.filter(akas_df[\"title\"] == 'Greatest Events of WWII in Colour').show()"
      ],
      "metadata": {
        "colab": {
          "base_uri": "https://localhost:8080/"
        },
        "id": "RaIDm8VqpNZt",
        "outputId": "937da953-b02a-41ed-c94b-d888bd32fe27"
      },
      "execution_count": 44,
      "outputs": [
        {
          "output_type": "stream",
          "name": "stdout",
          "text": [
            "+---------+--------+--------------------+------+--------+-----------+----------+---------------+\n",
            "|  titleId|ordering|               title|region|language|      types|attributes|isOriginalTitle|\n",
            "+---------+--------+--------------------+------+--------+-----------+----------+---------------+\n",
            "|tt9103932|      11|Greatest Events o...|    AU|      \\N|imdbDisplay|        \\N|              0|\n",
            "|tt9103932|      13|Greatest Events o...|    IN|      en|imdbDisplay|        \\N|              0|\n",
            "|tt9103932|      14|Greatest Events o...|    \\N|      \\N|   original|        \\N|              1|\n",
            "|tt9103932|       1|Greatest Events o...|    CA|      en|imdbDisplay|        \\N|              0|\n",
            "|tt9103932|       2|Greatest Events o...|    CA|      fr|imdbDisplay|        \\N|              0|\n",
            "|tt9103932|       4|Greatest Events o...|    US|      \\N|imdbDisplay|        \\N|              0|\n",
            "|tt9103932|       6|Greatest Events o...|    GB|      \\N|imdbDisplay|        \\N|              0|\n",
            "+---------+--------+--------------------+------+--------+-----------+----------+---------------+\n",
            "\n"
          ]
        }
      ]
    },
    {
      "cell_type": "code",
      "source": [
        "ratings_df.filter(ratings_df[\"tconst\"] == 'tt16477402').show()"
      ],
      "metadata": {
        "colab": {
          "base_uri": "https://localhost:8080/"
        },
        "id": "GrLYZiXgc68q",
        "outputId": "af24b269-6049-42f9-80e2-54d13efa83ed"
      },
      "execution_count": null,
      "outputs": [
        {
          "output_type": "stream",
          "name": "stdout",
          "text": [
            "+----------+-------------+--------+\n",
            "|    tconst|averageRating|numVotes|\n",
            "+----------+-------------+--------+\n",
            "|tt16477402|          8.2|    1227|\n",
            "+----------+-------------+--------+\n",
            "\n"
          ]
        }
      ]
    },
    {
      "cell_type": "code",
      "source": [
        "episode_df.filter(episode_df[\"parentTconst\"] == 'tt16477402').show()"
      ],
      "metadata": {
        "colab": {
          "base_uri": "https://localhost:8080/"
        },
        "id": "DO8o-YhHBFzX",
        "outputId": "574ce74c-6514-4a89-da80-0fcb912a0180"
      },
      "execution_count": null,
      "outputs": [
        {
          "output_type": "stream",
          "name": "stdout",
          "text": [
            "+----------+------------+------------+-------------+\n",
            "|    tconst|parentTconst|seasonNumber|episodeNumber|\n",
            "+----------+------------+------------+-------------+\n",
            "|tt16542412|  tt16477402|           1|            1|\n",
            "|tt16542414|  tt16477402|           1|            2|\n",
            "|tt16542592|  tt16477402|           1|            3|\n",
            "|tt16542830|  tt16477402|           1|            4|\n",
            "|tt16542940|  tt16477402|           1|            5|\n",
            "|tt16543116|  tt16477402|           1|            6|\n",
            "|tt16543212|  tt16477402|           1|            8|\n",
            "|tt16543224|  tt16477402|           1|            7|\n",
            "|tt16543454|  tt16477402|           1|            9|\n",
            "|tt16543590|  tt16477402|           1|           10|\n",
            "+----------+------------+------------+-------------+\n",
            "\n"
          ]
        }
      ]
    },
    {
      "cell_type": "code",
      "source": [
        "basics_df.filter(basics_df[\"tconst\"] == 'tt6756500').show()"
      ],
      "metadata": {
        "colab": {
          "base_uri": "https://localhost:8080/"
        },
        "id": "lfX23x-sBqCK",
        "outputId": "43b70cee-7fc3-49c8-a6ce-b0f5ffc2473f"
      },
      "execution_count": 125,
      "outputs": [
        {
          "output_type": "stream",
          "name": "stdout",
          "text": [
            "+---------+---------+------------+-------------+-------+---------+-------+--------------+-----------+\n",
            "|   tconst|titleType|primaryTitle|originalTitle|isAdult|startYear|endYear|runtimeMinutes|     genres|\n",
            "+---------+---------+------------+-------------+-------+---------+-------+--------------+-----------+\n",
            "|tt6756500|    short|        NOVA|         NOVA|      0|     2015|     \\N|            \\N|Drama,Short|\n",
            "+---------+---------+------------+-------------+-------+---------+-------+--------------+-----------+\n",
            "\n"
          ]
        }
      ]
    },
    {
      "cell_type": "code",
      "source": [
        "# Registering a table\n",
        "akas_df.registerTempTable(\"akas_df\")\n",
        "spark.sql(\"SELECT * FROM akas_df\").show(3)"
      ],
      "metadata": {
        "colab": {
          "base_uri": "https://localhost:8080/"
        },
        "id": "5kT4xz2FqHRm",
        "outputId": "bda87ab5-2dcd-451a-8b36-a52761af1be3"
      },
      "execution_count": 32,
      "outputs": [
        {
          "output_type": "stream",
          "name": "stderr",
          "text": [
            "/usr/local/lib/python3.7/dist-packages/pyspark/sql/dataframe.py:140: FutureWarning: Deprecated in 2.0, use createOrReplaceTempView instead.\n",
            "  FutureWarning\n"
          ]
        },
        {
          "output_type": "stream",
          "name": "stdout",
          "text": [
            "+---------+--------+--------------------+------+--------+-----------+-------------+---------------+\n",
            "|  titleId|ordering|               title|region|language|      types|   attributes|isOriginalTitle|\n",
            "+---------+--------+--------------------+------+--------+-----------+-------------+---------------+\n",
            "|tt0000001|       1|          Карменсіта|    UA|      \\N|imdbDisplay|           \\N|              0|\n",
            "|tt0000001|       2|          Carmencita|    DE|      \\N|         \\N|literal title|              0|\n",
            "|tt0000001|       3|Carmencita - span...|    HU|      \\N|imdbDisplay|           \\N|              0|\n",
            "+---------+--------+--------------------+------+--------+-----------+-------------+---------------+\n",
            "only showing top 3 rows\n",
            "\n"
          ]
        }
      ]
    },
    {
      "cell_type": "code",
      "source": [
        "df = spark.sql(\"SELECT * FROM akas_df WHERE title LIKE 'WWII in Color: Road to Victory%' AND types = 'imdbDisplay'\").toPandas()\n",
        "df"
      ],
      "metadata": {
        "colab": {
          "base_uri": "https://localhost:8080/",
          "height": 363
        },
        "id": "2uSYSGaCqjjT",
        "outputId": "82ceab6a-6e11-4969-b678-2eb1e71d0943"
      },
      "execution_count": 147,
      "outputs": [
        {
          "output_type": "execute_result",
          "data": {
            "text/html": [
              "\n",
              "  <div id=\"df-8163b929-d521-473c-9476-91e6044da203\">\n",
              "    <div class=\"colab-df-container\">\n",
              "      <div>\n",
              "<style scoped>\n",
              "    .dataframe tbody tr th:only-of-type {\n",
              "        vertical-align: middle;\n",
              "    }\n",
              "\n",
              "    .dataframe tbody tr th {\n",
              "        vertical-align: top;\n",
              "    }\n",
              "\n",
              "    .dataframe thead th {\n",
              "        text-align: right;\n",
              "    }\n",
              "</style>\n",
              "<table border=\"1\" class=\"dataframe\">\n",
              "  <thead>\n",
              "    <tr style=\"text-align: right;\">\n",
              "      <th></th>\n",
              "      <th>titleId</th>\n",
              "      <th>ordering</th>\n",
              "      <th>title</th>\n",
              "      <th>region</th>\n",
              "      <th>language</th>\n",
              "      <th>types</th>\n",
              "      <th>attributes</th>\n",
              "      <th>isOriginalTitle</th>\n",
              "    </tr>\n",
              "  </thead>\n",
              "  <tbody>\n",
              "    <tr>\n",
              "      <th>0</th>\n",
              "      <td>tt16477402</td>\n",
              "      <td>10</td>\n",
              "      <td>WWII in Color: Road to Victory</td>\n",
              "      <td>ID</td>\n",
              "      <td>en</td>\n",
              "      <td>imdbDisplay</td>\n",
              "      <td>\\N</td>\n",
              "      <td>0</td>\n",
              "    </tr>\n",
              "    <tr>\n",
              "      <th>1</th>\n",
              "      <td>tt16477402</td>\n",
              "      <td>11</td>\n",
              "      <td>WWII in Color: Road to Victory</td>\n",
              "      <td>AE</td>\n",
              "      <td>\\N</td>\n",
              "      <td>imdbDisplay</td>\n",
              "      <td>\\N</td>\n",
              "      <td>0</td>\n",
              "    </tr>\n",
              "    <tr>\n",
              "      <th>2</th>\n",
              "      <td>tt16477402</td>\n",
              "      <td>20</td>\n",
              "      <td>WWII in Color: Road to Victory</td>\n",
              "      <td>IN</td>\n",
              "      <td>hi</td>\n",
              "      <td>imdbDisplay</td>\n",
              "      <td>\\N</td>\n",
              "      <td>0</td>\n",
              "    </tr>\n",
              "    <tr>\n",
              "      <th>3</th>\n",
              "      <td>tt16477402</td>\n",
              "      <td>3</td>\n",
              "      <td>WWII in Color: Road to Victory</td>\n",
              "      <td>NL</td>\n",
              "      <td>\\N</td>\n",
              "      <td>imdbDisplay</td>\n",
              "      <td>\\N</td>\n",
              "      <td>0</td>\n",
              "    </tr>\n",
              "    <tr>\n",
              "      <th>4</th>\n",
              "      <td>tt16477402</td>\n",
              "      <td>4</td>\n",
              "      <td>WWII in Color: Road to Victory</td>\n",
              "      <td>DE</td>\n",
              "      <td>\\N</td>\n",
              "      <td>imdbDisplay</td>\n",
              "      <td>\\N</td>\n",
              "      <td>0</td>\n",
              "    </tr>\n",
              "    <tr>\n",
              "      <th>5</th>\n",
              "      <td>tt16477402</td>\n",
              "      <td>5</td>\n",
              "      <td>WWII in Color: Road to Victory</td>\n",
              "      <td>PH</td>\n",
              "      <td>en</td>\n",
              "      <td>imdbDisplay</td>\n",
              "      <td>\\N</td>\n",
              "      <td>0</td>\n",
              "    </tr>\n",
              "    <tr>\n",
              "      <th>6</th>\n",
              "      <td>tt16477402</td>\n",
              "      <td>6</td>\n",
              "      <td>WWII in Color: Road to Victory</td>\n",
              "      <td>GB</td>\n",
              "      <td>\\N</td>\n",
              "      <td>imdbDisplay</td>\n",
              "      <td>\\N</td>\n",
              "      <td>0</td>\n",
              "    </tr>\n",
              "    <tr>\n",
              "      <th>7</th>\n",
              "      <td>tt16477402</td>\n",
              "      <td>7</td>\n",
              "      <td>WWII in Color: Road to Victory</td>\n",
              "      <td>SG</td>\n",
              "      <td>en</td>\n",
              "      <td>imdbDisplay</td>\n",
              "      <td>\\N</td>\n",
              "      <td>0</td>\n",
              "    </tr>\n",
              "    <tr>\n",
              "      <th>8</th>\n",
              "      <td>tt16477402</td>\n",
              "      <td>8</td>\n",
              "      <td>WWII in Color: Road to Victory</td>\n",
              "      <td>CA</td>\n",
              "      <td>en</td>\n",
              "      <td>imdbDisplay</td>\n",
              "      <td>\\N</td>\n",
              "      <td>0</td>\n",
              "    </tr>\n",
              "    <tr>\n",
              "      <th>9</th>\n",
              "      <td>tt16477402</td>\n",
              "      <td>9</td>\n",
              "      <td>WWII in Color: Road to Victory</td>\n",
              "      <td>TR</td>\n",
              "      <td>tr</td>\n",
              "      <td>imdbDisplay</td>\n",
              "      <td>\\N</td>\n",
              "      <td>0</td>\n",
              "    </tr>\n",
              "  </tbody>\n",
              "</table>\n",
              "</div>\n",
              "      <button class=\"colab-df-convert\" onclick=\"convertToInteractive('df-8163b929-d521-473c-9476-91e6044da203')\"\n",
              "              title=\"Convert this dataframe to an interactive table.\"\n",
              "              style=\"display:none;\">\n",
              "        \n",
              "  <svg xmlns=\"http://www.w3.org/2000/svg\" height=\"24px\"viewBox=\"0 0 24 24\"\n",
              "       width=\"24px\">\n",
              "    <path d=\"M0 0h24v24H0V0z\" fill=\"none\"/>\n",
              "    <path d=\"M18.56 5.44l.94 2.06.94-2.06 2.06-.94-2.06-.94-.94-2.06-.94 2.06-2.06.94zm-11 1L8.5 8.5l.94-2.06 2.06-.94-2.06-.94L8.5 2.5l-.94 2.06-2.06.94zm10 10l.94 2.06.94-2.06 2.06-.94-2.06-.94-.94-2.06-.94 2.06-2.06.94z\"/><path d=\"M17.41 7.96l-1.37-1.37c-.4-.4-.92-.59-1.43-.59-.52 0-1.04.2-1.43.59L10.3 9.45l-7.72 7.72c-.78.78-.78 2.05 0 2.83L4 21.41c.39.39.9.59 1.41.59.51 0 1.02-.2 1.41-.59l7.78-7.78 2.81-2.81c.8-.78.8-2.07 0-2.86zM5.41 20L4 18.59l7.72-7.72 1.47 1.35L5.41 20z\"/>\n",
              "  </svg>\n",
              "      </button>\n",
              "      \n",
              "  <style>\n",
              "    .colab-df-container {\n",
              "      display:flex;\n",
              "      flex-wrap:wrap;\n",
              "      gap: 12px;\n",
              "    }\n",
              "\n",
              "    .colab-df-convert {\n",
              "      background-color: #E8F0FE;\n",
              "      border: none;\n",
              "      border-radius: 50%;\n",
              "      cursor: pointer;\n",
              "      display: none;\n",
              "      fill: #1967D2;\n",
              "      height: 32px;\n",
              "      padding: 0 0 0 0;\n",
              "      width: 32px;\n",
              "    }\n",
              "\n",
              "    .colab-df-convert:hover {\n",
              "      background-color: #E2EBFA;\n",
              "      box-shadow: 0px 1px 2px rgba(60, 64, 67, 0.3), 0px 1px 3px 1px rgba(60, 64, 67, 0.15);\n",
              "      fill: #174EA6;\n",
              "    }\n",
              "\n",
              "    [theme=dark] .colab-df-convert {\n",
              "      background-color: #3B4455;\n",
              "      fill: #D2E3FC;\n",
              "    }\n",
              "\n",
              "    [theme=dark] .colab-df-convert:hover {\n",
              "      background-color: #434B5C;\n",
              "      box-shadow: 0px 1px 3px 1px rgba(0, 0, 0, 0.15);\n",
              "      filter: drop-shadow(0px 1px 2px rgba(0, 0, 0, 0.3));\n",
              "      fill: #FFFFFF;\n",
              "    }\n",
              "  </style>\n",
              "\n",
              "      <script>\n",
              "        const buttonEl =\n",
              "          document.querySelector('#df-8163b929-d521-473c-9476-91e6044da203 button.colab-df-convert');\n",
              "        buttonEl.style.display =\n",
              "          google.colab.kernel.accessAllowed ? 'block' : 'none';\n",
              "\n",
              "        async function convertToInteractive(key) {\n",
              "          const element = document.querySelector('#df-8163b929-d521-473c-9476-91e6044da203');\n",
              "          const dataTable =\n",
              "            await google.colab.kernel.invokeFunction('convertToInteractive',\n",
              "                                                     [key], {});\n",
              "          if (!dataTable) return;\n",
              "\n",
              "          const docLinkHtml = 'Like what you see? Visit the ' +\n",
              "            '<a target=\"_blank\" href=https://colab.research.google.com/notebooks/data_table.ipynb>data table notebook</a>'\n",
              "            + ' to learn more about interactive tables.';\n",
              "          element.innerHTML = '';\n",
              "          dataTable['output_type'] = 'display_data';\n",
              "          await google.colab.output.renderOutput(dataTable, element);\n",
              "          const docLink = document.createElement('div');\n",
              "          docLink.innerHTML = docLinkHtml;\n",
              "          element.appendChild(docLink);\n",
              "        }\n",
              "      </script>\n",
              "    </div>\n",
              "  </div>\n",
              "  "
            ],
            "text/plain": [
              "      titleId ordering                           title region language  \\\n",
              "0  tt16477402       10  WWII in Color: Road to Victory     ID       en   \n",
              "1  tt16477402       11  WWII in Color: Road to Victory     AE       \\N   \n",
              "2  tt16477402       20  WWII in Color: Road to Victory     IN       hi   \n",
              "3  tt16477402        3  WWII in Color: Road to Victory     NL       \\N   \n",
              "4  tt16477402        4  WWII in Color: Road to Victory     DE       \\N   \n",
              "5  tt16477402        5  WWII in Color: Road to Victory     PH       en   \n",
              "6  tt16477402        6  WWII in Color: Road to Victory     GB       \\N   \n",
              "7  tt16477402        7  WWII in Color: Road to Victory     SG       en   \n",
              "8  tt16477402        8  WWII in Color: Road to Victory     CA       en   \n",
              "9  tt16477402        9  WWII in Color: Road to Victory     TR       tr   \n",
              "\n",
              "         types attributes isOriginalTitle  \n",
              "0  imdbDisplay         \\N               0  \n",
              "1  imdbDisplay         \\N               0  \n",
              "2  imdbDisplay         \\N               0  \n",
              "3  imdbDisplay         \\N               0  \n",
              "4  imdbDisplay         \\N               0  \n",
              "5  imdbDisplay         \\N               0  \n",
              "6  imdbDisplay         \\N               0  \n",
              "7  imdbDisplay         \\N               0  \n",
              "8  imdbDisplay         \\N               0  \n",
              "9  imdbDisplay         \\N               0  "
            ]
          },
          "metadata": {},
          "execution_count": 147
        }
      ]
    },
    {
      "cell_type": "code",
      "source": [
        "df.groupby('titleId').count()"
      ],
      "metadata": {
        "colab": {
          "base_uri": "https://localhost:8080/",
          "height": 112
        },
        "id": "GQ7L9g_okBZJ",
        "outputId": "ad074e30-90e3-4085-97d8-5a2c06be16fa"
      },
      "execution_count": 150,
      "outputs": [
        {
          "output_type": "execute_result",
          "data": {
            "text/html": [
              "\n",
              "  <div id=\"df-11cda69b-caa1-45c4-b7c6-53ad77790da5\">\n",
              "    <div class=\"colab-df-container\">\n",
              "      <div>\n",
              "<style scoped>\n",
              "    .dataframe tbody tr th:only-of-type {\n",
              "        vertical-align: middle;\n",
              "    }\n",
              "\n",
              "    .dataframe tbody tr th {\n",
              "        vertical-align: top;\n",
              "    }\n",
              "\n",
              "    .dataframe thead th {\n",
              "        text-align: right;\n",
              "    }\n",
              "</style>\n",
              "<table border=\"1\" class=\"dataframe\">\n",
              "  <thead>\n",
              "    <tr style=\"text-align: right;\">\n",
              "      <th></th>\n",
              "      <th>ordering</th>\n",
              "      <th>title</th>\n",
              "      <th>region</th>\n",
              "      <th>language</th>\n",
              "      <th>types</th>\n",
              "      <th>attributes</th>\n",
              "      <th>isOriginalTitle</th>\n",
              "    </tr>\n",
              "    <tr>\n",
              "      <th>titleId</th>\n",
              "      <th></th>\n",
              "      <th></th>\n",
              "      <th></th>\n",
              "      <th></th>\n",
              "      <th></th>\n",
              "      <th></th>\n",
              "      <th></th>\n",
              "    </tr>\n",
              "  </thead>\n",
              "  <tbody>\n",
              "    <tr>\n",
              "      <th>tt16477402</th>\n",
              "      <td>10</td>\n",
              "      <td>10</td>\n",
              "      <td>10</td>\n",
              "      <td>10</td>\n",
              "      <td>10</td>\n",
              "      <td>10</td>\n",
              "      <td>10</td>\n",
              "    </tr>\n",
              "  </tbody>\n",
              "</table>\n",
              "</div>\n",
              "      <button class=\"colab-df-convert\" onclick=\"convertToInteractive('df-11cda69b-caa1-45c4-b7c6-53ad77790da5')\"\n",
              "              title=\"Convert this dataframe to an interactive table.\"\n",
              "              style=\"display:none;\">\n",
              "        \n",
              "  <svg xmlns=\"http://www.w3.org/2000/svg\" height=\"24px\"viewBox=\"0 0 24 24\"\n",
              "       width=\"24px\">\n",
              "    <path d=\"M0 0h24v24H0V0z\" fill=\"none\"/>\n",
              "    <path d=\"M18.56 5.44l.94 2.06.94-2.06 2.06-.94-2.06-.94-.94-2.06-.94 2.06-2.06.94zm-11 1L8.5 8.5l.94-2.06 2.06-.94-2.06-.94L8.5 2.5l-.94 2.06-2.06.94zm10 10l.94 2.06.94-2.06 2.06-.94-2.06-.94-.94-2.06-.94 2.06-2.06.94z\"/><path d=\"M17.41 7.96l-1.37-1.37c-.4-.4-.92-.59-1.43-.59-.52 0-1.04.2-1.43.59L10.3 9.45l-7.72 7.72c-.78.78-.78 2.05 0 2.83L4 21.41c.39.39.9.59 1.41.59.51 0 1.02-.2 1.41-.59l7.78-7.78 2.81-2.81c.8-.78.8-2.07 0-2.86zM5.41 20L4 18.59l7.72-7.72 1.47 1.35L5.41 20z\"/>\n",
              "  </svg>\n",
              "      </button>\n",
              "      \n",
              "  <style>\n",
              "    .colab-df-container {\n",
              "      display:flex;\n",
              "      flex-wrap:wrap;\n",
              "      gap: 12px;\n",
              "    }\n",
              "\n",
              "    .colab-df-convert {\n",
              "      background-color: #E8F0FE;\n",
              "      border: none;\n",
              "      border-radius: 50%;\n",
              "      cursor: pointer;\n",
              "      display: none;\n",
              "      fill: #1967D2;\n",
              "      height: 32px;\n",
              "      padding: 0 0 0 0;\n",
              "      width: 32px;\n",
              "    }\n",
              "\n",
              "    .colab-df-convert:hover {\n",
              "      background-color: #E2EBFA;\n",
              "      box-shadow: 0px 1px 2px rgba(60, 64, 67, 0.3), 0px 1px 3px 1px rgba(60, 64, 67, 0.15);\n",
              "      fill: #174EA6;\n",
              "    }\n",
              "\n",
              "    [theme=dark] .colab-df-convert {\n",
              "      background-color: #3B4455;\n",
              "      fill: #D2E3FC;\n",
              "    }\n",
              "\n",
              "    [theme=dark] .colab-df-convert:hover {\n",
              "      background-color: #434B5C;\n",
              "      box-shadow: 0px 1px 3px 1px rgba(0, 0, 0, 0.15);\n",
              "      filter: drop-shadow(0px 1px 2px rgba(0, 0, 0, 0.3));\n",
              "      fill: #FFFFFF;\n",
              "    }\n",
              "  </style>\n",
              "\n",
              "      <script>\n",
              "        const buttonEl =\n",
              "          document.querySelector('#df-11cda69b-caa1-45c4-b7c6-53ad77790da5 button.colab-df-convert');\n",
              "        buttonEl.style.display =\n",
              "          google.colab.kernel.accessAllowed ? 'block' : 'none';\n",
              "\n",
              "        async function convertToInteractive(key) {\n",
              "          const element = document.querySelector('#df-11cda69b-caa1-45c4-b7c6-53ad77790da5');\n",
              "          const dataTable =\n",
              "            await google.colab.kernel.invokeFunction('convertToInteractive',\n",
              "                                                     [key], {});\n",
              "          if (!dataTable) return;\n",
              "\n",
              "          const docLinkHtml = 'Like what you see? Visit the ' +\n",
              "            '<a target=\"_blank\" href=https://colab.research.google.com/notebooks/data_table.ipynb>data table notebook</a>'\n",
              "            + ' to learn more about interactive tables.';\n",
              "          element.innerHTML = '';\n",
              "          dataTable['output_type'] = 'display_data';\n",
              "          await google.colab.output.renderOutput(dataTable, element);\n",
              "          const docLink = document.createElement('div');\n",
              "          docLink.innerHTML = docLinkHtml;\n",
              "          element.appendChild(docLink);\n",
              "        }\n",
              "      </script>\n",
              "    </div>\n",
              "  </div>\n",
              "  "
            ],
            "text/plain": [
              "            ordering  title  region  language  types  attributes  \\\n",
              "titleId                                                            \n",
              "tt16477402        10     10      10        10     10          10   \n",
              "\n",
              "            isOriginalTitle  \n",
              "titleId                      \n",
              "tt16477402               10  "
            ]
          },
          "metadata": {},
          "execution_count": 150
        }
      ]
    },
    {
      "cell_type": "code",
      "source": [
        "df.groupby('titleId').count().index[0]"
      ],
      "metadata": {
        "colab": {
          "base_uri": "https://localhost:8080/",
          "height": 36
        },
        "id": "VVAyE2lUkbMV",
        "outputId": "2a9f4f82-a1c0-4d47-db10-17fd8c448e3e"
      },
      "execution_count": 157,
      "outputs": [
        {
          "output_type": "execute_result",
          "data": {
            "application/vnd.google.colaboratory.intrinsic+json": {
              "type": "string"
            },
            "text/plain": [
              "'tt16477402'"
            ]
          },
          "metadata": {},
          "execution_count": 157
        }
      ]
    },
    {
      "cell_type": "code",
      "source": [
        "len(df.groupby('titleId'))"
      ],
      "metadata": {
        "colab": {
          "base_uri": "https://localhost:8080/"
        },
        "id": "wl5-Ytb-kF-0",
        "outputId": "209ca290-4b1b-407d-d6eb-8e99513b7a8f"
      },
      "execution_count": 151,
      "outputs": [
        {
          "output_type": "execute_result",
          "data": {
            "text/plain": [
              "1"
            ]
          },
          "metadata": {},
          "execution_count": 151
        }
      ]
    },
    {
      "cell_type": "code",
      "source": [
        "basics_df.registerTempTable(\"basics_df\")"
      ],
      "metadata": {
        "colab": {
          "base_uri": "https://localhost:8080/"
        },
        "id": "L2HNWXFm4QNb",
        "outputId": "4b7c1a13-8765-4627-b1cc-4fb705d9bc1b"
      },
      "execution_count": null,
      "outputs": [
        {
          "output_type": "stream",
          "name": "stderr",
          "text": [
            "/usr/local/lib/python3.7/dist-packages/pyspark/sql/dataframe.py:140: FutureWarning: Deprecated in 2.0, use createOrReplaceTempView instead.\n",
            "  FutureWarning\n"
          ]
        }
      ]
    },
    {
      "cell_type": "code",
      "source": [
        "spark.sql(\"SELECT * FROM basics_df WHERE primaryTitle LIKE '%Dunkirk%'\").toPandas()"
      ],
      "metadata": {
        "colab": {
          "base_uri": "https://localhost:8080/",
          "height": 424
        },
        "id": "NUNRiFi84OGA",
        "outputId": "d4cccd62-37f9-4d6b-94d9-a7049a4d034d"
      },
      "execution_count": null,
      "outputs": [
        {
          "output_type": "execute_result",
          "data": {
            "text/html": [
              "\n",
              "  <div id=\"df-b5c4fb1e-7c63-49ee-8d90-65135f215b43\">\n",
              "    <div class=\"colab-df-container\">\n",
              "      <div>\n",
              "<style scoped>\n",
              "    .dataframe tbody tr th:only-of-type {\n",
              "        vertical-align: middle;\n",
              "    }\n",
              "\n",
              "    .dataframe tbody tr th {\n",
              "        vertical-align: top;\n",
              "    }\n",
              "\n",
              "    .dataframe thead th {\n",
              "        text-align: right;\n",
              "    }\n",
              "</style>\n",
              "<table border=\"1\" class=\"dataframe\">\n",
              "  <thead>\n",
              "    <tr style=\"text-align: right;\">\n",
              "      <th></th>\n",
              "      <th>tconst</th>\n",
              "      <th>titleType</th>\n",
              "      <th>primaryTitle</th>\n",
              "      <th>originalTitle</th>\n",
              "      <th>isAdult</th>\n",
              "      <th>startYear</th>\n",
              "      <th>endYear</th>\n",
              "      <th>runtimeMinutes</th>\n",
              "      <th>genres</th>\n",
              "    </tr>\n",
              "  </thead>\n",
              "  <tbody>\n",
              "    <tr>\n",
              "      <th>0</th>\n",
              "      <td>tt0051565</td>\n",
              "      <td>movie</td>\n",
              "      <td>Dunkirk</td>\n",
              "      <td>Dunkirk</td>\n",
              "      <td>0</td>\n",
              "      <td>1958</td>\n",
              "      <td>\\N</td>\n",
              "      <td>135</td>\n",
              "      <td>Action,Drama,History</td>\n",
              "    </tr>\n",
              "    <tr>\n",
              "      <th>1</th>\n",
              "      <td>tt0058740</td>\n",
              "      <td>movie</td>\n",
              "      <td>Weekend at Dunkirk</td>\n",
              "      <td>Week-end à Zuydcoote</td>\n",
              "      <td>0</td>\n",
              "      <td>1964</td>\n",
              "      <td>\\N</td>\n",
              "      <td>119</td>\n",
              "      <td>Drama,War</td>\n",
              "    </tr>\n",
              "    <tr>\n",
              "      <th>2</th>\n",
              "      <td>tt0243228</td>\n",
              "      <td>video</td>\n",
              "      <td>Dunkirk: The Battle for France</td>\n",
              "      <td>Dunkirk: The Battle for France</td>\n",
              "      <td>0</td>\n",
              "      <td>1989</td>\n",
              "      <td>\\N</td>\n",
              "      <td>60</td>\n",
              "      <td>Documentary,History,War</td>\n",
              "    </tr>\n",
              "    <tr>\n",
              "      <th>3</th>\n",
              "      <td>tt0394875</td>\n",
              "      <td>tvEpisode</td>\n",
              "      <td>The Dunkirk Dilemma</td>\n",
              "      <td>The Dunkirk Dilemma</td>\n",
              "      <td>0</td>\n",
              "      <td>1997</td>\n",
              "      <td>\\N</td>\n",
              "      <td>60</td>\n",
              "      <td>\\N</td>\n",
              "    </tr>\n",
              "    <tr>\n",
              "      <th>4</th>\n",
              "      <td>tt0398983</td>\n",
              "      <td>tvMovie</td>\n",
              "      <td>Dunkirk: A Human Endeavour</td>\n",
              "      <td>Dunkirk: A Human Endeavour</td>\n",
              "      <td>0</td>\n",
              "      <td>1990</td>\n",
              "      <td>\\N</td>\n",
              "      <td>\\N</td>\n",
              "      <td>Documentary</td>\n",
              "    </tr>\n",
              "    <tr>\n",
              "      <th>...</th>\n",
              "      <td>...</td>\n",
              "      <td>...</td>\n",
              "      <td>...</td>\n",
              "      <td>...</td>\n",
              "      <td>...</td>\n",
              "      <td>...</td>\n",
              "      <td>...</td>\n",
              "      <td>...</td>\n",
              "      <td>...</td>\n",
              "    </tr>\n",
              "    <tr>\n",
              "      <th>69</th>\n",
              "      <td>tt9037796</td>\n",
              "      <td>tvEpisode</td>\n",
              "      <td>Dunkirk 1940: the Great Escape</td>\n",
              "      <td>Dunkirk 1940: the Great Escape</td>\n",
              "      <td>0</td>\n",
              "      <td>1990</td>\n",
              "      <td>\\N</td>\n",
              "      <td>\\N</td>\n",
              "      <td>Documentary,History</td>\n",
              "    </tr>\n",
              "    <tr>\n",
              "      <th>70</th>\n",
              "      <td>tt9194204</td>\n",
              "      <td>tvEpisode</td>\n",
              "      <td>Dunkirk</td>\n",
              "      <td>Dunkirk</td>\n",
              "      <td>0</td>\n",
              "      <td>2018</td>\n",
              "      <td>\\N</td>\n",
              "      <td>28</td>\n",
              "      <td>Comedy,Documentary,History</td>\n",
              "    </tr>\n",
              "    <tr>\n",
              "      <th>71</th>\n",
              "      <td>tt9339030</td>\n",
              "      <td>tvEpisode</td>\n",
              "      <td>America's Dunkirk Moment</td>\n",
              "      <td>America's Dunkirk Moment</td>\n",
              "      <td>0</td>\n",
              "      <td>2018</td>\n",
              "      <td>\\N</td>\n",
              "      <td>\\N</td>\n",
              "      <td>News</td>\n",
              "    </tr>\n",
              "    <tr>\n",
              "      <th>72</th>\n",
              "      <td>tt9494654</td>\n",
              "      <td>tvEpisode</td>\n",
              "      <td>Dunkirk</td>\n",
              "      <td>Dunkirk</td>\n",
              "      <td>0</td>\n",
              "      <td>2017</td>\n",
              "      <td>\\N</td>\n",
              "      <td>\\N</td>\n",
              "      <td>Comedy,Talk-Show</td>\n",
              "    </tr>\n",
              "    <tr>\n",
              "      <th>73</th>\n",
              "      <td>tt9826566</td>\n",
              "      <td>tvEpisode</td>\n",
              "      <td>Dunkirk</td>\n",
              "      <td>Dunkirk</td>\n",
              "      <td>0</td>\n",
              "      <td>2017</td>\n",
              "      <td>\\N</td>\n",
              "      <td>\\N</td>\n",
              "      <td>Reality-TV</td>\n",
              "    </tr>\n",
              "  </tbody>\n",
              "</table>\n",
              "<p>74 rows × 9 columns</p>\n",
              "</div>\n",
              "      <button class=\"colab-df-convert\" onclick=\"convertToInteractive('df-b5c4fb1e-7c63-49ee-8d90-65135f215b43')\"\n",
              "              title=\"Convert this dataframe to an interactive table.\"\n",
              "              style=\"display:none;\">\n",
              "        \n",
              "  <svg xmlns=\"http://www.w3.org/2000/svg\" height=\"24px\"viewBox=\"0 0 24 24\"\n",
              "       width=\"24px\">\n",
              "    <path d=\"M0 0h24v24H0V0z\" fill=\"none\"/>\n",
              "    <path d=\"M18.56 5.44l.94 2.06.94-2.06 2.06-.94-2.06-.94-.94-2.06-.94 2.06-2.06.94zm-11 1L8.5 8.5l.94-2.06 2.06-.94-2.06-.94L8.5 2.5l-.94 2.06-2.06.94zm10 10l.94 2.06.94-2.06 2.06-.94-2.06-.94-.94-2.06-.94 2.06-2.06.94z\"/><path d=\"M17.41 7.96l-1.37-1.37c-.4-.4-.92-.59-1.43-.59-.52 0-1.04.2-1.43.59L10.3 9.45l-7.72 7.72c-.78.78-.78 2.05 0 2.83L4 21.41c.39.39.9.59 1.41.59.51 0 1.02-.2 1.41-.59l7.78-7.78 2.81-2.81c.8-.78.8-2.07 0-2.86zM5.41 20L4 18.59l7.72-7.72 1.47 1.35L5.41 20z\"/>\n",
              "  </svg>\n",
              "      </button>\n",
              "      \n",
              "  <style>\n",
              "    .colab-df-container {\n",
              "      display:flex;\n",
              "      flex-wrap:wrap;\n",
              "      gap: 12px;\n",
              "    }\n",
              "\n",
              "    .colab-df-convert {\n",
              "      background-color: #E8F0FE;\n",
              "      border: none;\n",
              "      border-radius: 50%;\n",
              "      cursor: pointer;\n",
              "      display: none;\n",
              "      fill: #1967D2;\n",
              "      height: 32px;\n",
              "      padding: 0 0 0 0;\n",
              "      width: 32px;\n",
              "    }\n",
              "\n",
              "    .colab-df-convert:hover {\n",
              "      background-color: #E2EBFA;\n",
              "      box-shadow: 0px 1px 2px rgba(60, 64, 67, 0.3), 0px 1px 3px 1px rgba(60, 64, 67, 0.15);\n",
              "      fill: #174EA6;\n",
              "    }\n",
              "\n",
              "    [theme=dark] .colab-df-convert {\n",
              "      background-color: #3B4455;\n",
              "      fill: #D2E3FC;\n",
              "    }\n",
              "\n",
              "    [theme=dark] .colab-df-convert:hover {\n",
              "      background-color: #434B5C;\n",
              "      box-shadow: 0px 1px 3px 1px rgba(0, 0, 0, 0.15);\n",
              "      filter: drop-shadow(0px 1px 2px rgba(0, 0, 0, 0.3));\n",
              "      fill: #FFFFFF;\n",
              "    }\n",
              "  </style>\n",
              "\n",
              "      <script>\n",
              "        const buttonEl =\n",
              "          document.querySelector('#df-b5c4fb1e-7c63-49ee-8d90-65135f215b43 button.colab-df-convert');\n",
              "        buttonEl.style.display =\n",
              "          google.colab.kernel.accessAllowed ? 'block' : 'none';\n",
              "\n",
              "        async function convertToInteractive(key) {\n",
              "          const element = document.querySelector('#df-b5c4fb1e-7c63-49ee-8d90-65135f215b43');\n",
              "          const dataTable =\n",
              "            await google.colab.kernel.invokeFunction('convertToInteractive',\n",
              "                                                     [key], {});\n",
              "          if (!dataTable) return;\n",
              "\n",
              "          const docLinkHtml = 'Like what you see? Visit the ' +\n",
              "            '<a target=\"_blank\" href=https://colab.research.google.com/notebooks/data_table.ipynb>data table notebook</a>'\n",
              "            + ' to learn more about interactive tables.';\n",
              "          element.innerHTML = '';\n",
              "          dataTable['output_type'] = 'display_data';\n",
              "          await google.colab.output.renderOutput(dataTable, element);\n",
              "          const docLink = document.createElement('div');\n",
              "          docLink.innerHTML = docLinkHtml;\n",
              "          element.appendChild(docLink);\n",
              "        }\n",
              "      </script>\n",
              "    </div>\n",
              "  </div>\n",
              "  "
            ],
            "text/plain": [
              "       tconst  titleType                    primaryTitle  \\\n",
              "0   tt0051565      movie                         Dunkirk   \n",
              "1   tt0058740      movie              Weekend at Dunkirk   \n",
              "2   tt0243228      video  Dunkirk: The Battle for France   \n",
              "3   tt0394875  tvEpisode             The Dunkirk Dilemma   \n",
              "4   tt0398983    tvMovie      Dunkirk: A Human Endeavour   \n",
              "..        ...        ...                             ...   \n",
              "69  tt9037796  tvEpisode  Dunkirk 1940: the Great Escape   \n",
              "70  tt9194204  tvEpisode                         Dunkirk   \n",
              "71  tt9339030  tvEpisode        America's Dunkirk Moment   \n",
              "72  tt9494654  tvEpisode                         Dunkirk   \n",
              "73  tt9826566  tvEpisode                         Dunkirk   \n",
              "\n",
              "                     originalTitle isAdult startYear endYear runtimeMinutes  \\\n",
              "0                          Dunkirk       0      1958      \\N            135   \n",
              "1             Week-end à Zuydcoote       0      1964      \\N            119   \n",
              "2   Dunkirk: The Battle for France       0      1989      \\N             60   \n",
              "3              The Dunkirk Dilemma       0      1997      \\N             60   \n",
              "4       Dunkirk: A Human Endeavour       0      1990      \\N             \\N   \n",
              "..                             ...     ...       ...     ...            ...   \n",
              "69  Dunkirk 1940: the Great Escape       0      1990      \\N             \\N   \n",
              "70                         Dunkirk       0      2018      \\N             28   \n",
              "71        America's Dunkirk Moment       0      2018      \\N             \\N   \n",
              "72                         Dunkirk       0      2017      \\N             \\N   \n",
              "73                         Dunkirk       0      2017      \\N             \\N   \n",
              "\n",
              "                        genres  \n",
              "0         Action,Drama,History  \n",
              "1                    Drama,War  \n",
              "2      Documentary,History,War  \n",
              "3                           \\N  \n",
              "4                  Documentary  \n",
              "..                         ...  \n",
              "69         Documentary,History  \n",
              "70  Comedy,Documentary,History  \n",
              "71                        News  \n",
              "72            Comedy,Talk-Show  \n",
              "73                  Reality-TV  \n",
              "\n",
              "[74 rows x 9 columns]"
            ]
          },
          "metadata": {},
          "execution_count": 51
        }
      ]
    },
    {
      "cell_type": "code",
      "source": [
        "ratings_df.registerTempTable(\"ratings_df\")\n",
        "spark.sql(\"SELECT * FROM ratings_df WHERE tconst = 'tt6756500'\").show()"
      ],
      "metadata": {
        "colab": {
          "base_uri": "https://localhost:8080/"
        },
        "id": "flNtnLGQtHzC",
        "outputId": "8100abf7-a37d-4958-f967-cd9fed24f5eb"
      },
      "execution_count": 124,
      "outputs": [
        {
          "output_type": "stream",
          "name": "stderr",
          "text": [
            "/usr/local/lib/python3.7/dist-packages/pyspark/sql/dataframe.py:140: FutureWarning: Deprecated in 2.0, use createOrReplaceTempView instead.\n",
            "  FutureWarning\n"
          ]
        },
        {
          "output_type": "stream",
          "name": "stdout",
          "text": [
            "+------+-------------+--------+\n",
            "|tconst|averageRating|numVotes|\n",
            "+------+-------------+--------+\n",
            "+------+-------------+--------+\n",
            "\n"
          ]
        }
      ]
    },
    {
      "cell_type": "code",
      "source": [
        "ratings_df.filter(ratings_df[\"tconst\"] == 'tt12930534').show()"
      ],
      "metadata": {
        "colab": {
          "base_uri": "https://localhost:8080/"
        },
        "id": "NQSPe5jVsPf3",
        "outputId": "14eb934f-0655-4540-9bce-3d6a81d062de"
      },
      "execution_count": null,
      "outputs": [
        {
          "output_type": "stream",
          "name": "stdout",
          "text": [
            "+----------+-------------+--------+\n",
            "|    tconst|averageRating|numVotes|\n",
            "+----------+-------------+--------+\n",
            "|tt12930534|          7.8|    6546|\n",
            "+----------+-------------+--------+\n",
            "\n"
          ]
        }
      ]
    },
    {
      "cell_type": "code",
      "source": [
        "spark.sql(\"SELECT * FROM \\\n",
        "ratings_df r INNER JOIN akas_df a \\\n",
        "  ON r.tconst = a.titleId \\\n",
        "WHERE r.tconst = 'tt12930534' \\\n",
        "\").show()"
      ],
      "metadata": {
        "colab": {
          "base_uri": "https://localhost:8080/"
        },
        "id": "LYb5GT2mtq-d",
        "outputId": "93d76c41-c92b-4192-b191-1f1499db0f99"
      },
      "execution_count": null,
      "outputs": [
        {
          "output_type": "stream",
          "name": "stdout",
          "text": [
            "+----------+-------------+--------+----------+--------+--------------------+------+--------+-----------+-----------+---------------+\n",
            "|    tconst|averageRating|numVotes|   titleId|ordering|               title|region|language|      types| attributes|isOriginalTitle|\n",
            "+----------+-------------+--------+----------+--------+--------------------+------+--------+-----------+-----------+---------------+\n",
            "|tt12930534|          7.8|    6546|tt12930534|      10|          Challenger|    AU|      \\N|         \\N|short title|              0|\n",
            "|tt12930534|          7.8|    6546|tt12930534|      11|Challenger: Ostat...|    PL|      \\N|imdbDisplay|         \\N|              0|\n",
            "|tt12930534|          7.8|    6546|tt12930534|       1|Challenger: Voo F...|    BR|      \\N|imdbDisplay|         \\N|              0|\n",
            "|tt12930534|          7.8|    6546|tt12930534|       2|Der letzte Flug d...|    DE|      \\N|imdbDisplay|         \\N|              0|\n",
            "|tt12930534|          7.8|    6546|tt12930534|       3|Challenger: Η Τελ...|    GR|      \\N|imdbDisplay|         \\N|              0|\n",
            "|tt12930534|          7.8|    6546|tt12930534|       4|'Челленджер': Пос...|    RU|      \\N|imdbDisplay|         \\N|              0|\n",
            "|tt12930534|          7.8|    6546|tt12930534|       5|Challenger: El vu...|    AR|      \\N|imdbDisplay|         \\N|              0|\n",
            "|tt12930534|          7.8|    6546|tt12930534|       6|Challenger: Den s...|    NO|      \\N|imdbDisplay|         \\N|              0|\n",
            "|tt12930534|          7.8|    6546|tt12930534|       7|Challenger: The F...|    \\N|      \\N|   original|         \\N|              1|\n",
            "|tt12930534|          7.8|    6546|tt12930534|       8|El último vuelo d...|    ES|      \\N|imdbDisplay|         \\N|              0|\n",
            "|tt12930534|          7.8|    6546|tt12930534|       9|Challenger: The F...|    US|      \\N|imdbDisplay|         \\N|              0|\n",
            "+----------+-------------+--------+----------+--------+--------------------+------+--------+-----------+-----------+---------------+\n",
            "\n"
          ]
        }
      ]
    },
    {
      "cell_type": "code",
      "source": [
        "spark.stop()"
      ],
      "metadata": {
        "id": "M_8oirqNp7gA"
      },
      "execution_count": null,
      "outputs": []
    }
  ]
}